{
 "cells": [
  {
   "cell_type": "markdown",
   "metadata": {},
   "source": [
    "# 의사 결정 트리: 트리 모델을 바탕으로 규칙을 세움, 마지막 노드에는 목적 변수\n",
    "- 마지막 리프 노드: 클래스/예측치\n",
    "- 상위 부모 노드: if-else 조건문(분할 속성: 부모 노드에 들어가는 조건)\n",
    "- 분할 속성의 기준: 정보 이득(엔트로피), 평준화된 정보 이득, 지니지수"
   ]
  },
  {
   "cell_type": "markdown",
   "metadata": {},
   "source": [
    "### 학습 목표: feature과 목적 변수가 이산적인 범주형 변수인 상황의 알고리즘, 연속적인 변수인 상황에는 regression"
   ]
  },
  {
   "cell_type": "markdown",
   "metadata": {},
   "source": [
    "## ID3 -> 엔트로피(반복적으로 데이터를 탑다운 방식으로 나누는 알고리즘)\n",
    "- 분포의 다양성 정도(정보량)를 정량적으로 표현한 값<br>\n",
    "-> 낮은 엔트로피 = 낮은 불확실성<br>\n",
    "-> 높은 엔트로피 = 높은 불확실성<br>\n",
    "- 측정 방법: Shannon의 공식 활용\n",
    "- 정보 이득: 불순도 -> 엔트로피를 활용하여 측정<br>\n",
    "-> (전체 엔트로피) - (속성별 엔트로피) = (속성별 정보 이득)"
   ]
  },
  {
   "cell_type": "markdown",
   "metadata": {},
   "source": []
  }
 ],
 "metadata": {
  "language_info": {
   "name": "python"
  }
 },
 "nbformat": 4,
 "nbformat_minor": 2
}
