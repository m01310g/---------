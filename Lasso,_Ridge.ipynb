{
 "cells": [
  {
   "cell_type": "markdown",
   "metadata": {},
   "source": [
    "# 라쏘 회귀, 릿지 회귀(선형 모델을 이용한 지도 학습)"
   ]
  },
  {
   "cell_type": "markdown",
   "metadata": {},
   "source": [
    "## Regularization: SGDRegressor, LogisticRegression의 penalty(정규화 텀) -> 과대 적합 방지, 성능 개선\n",
    "### 과대 적합(오차 = 편향 + 분산): 편향은 낮고 분산은 크다\n",
    "- 편향(bias): 학습된 모델의 예측값이 평균적으로 얼마나 틀린지\n",
    "- 분산(variance): 학습된 모델의 예측값이 얼마나 다른지"
   ]
  },
  {
   "cell_type": "markdown",
   "metadata": {},
   "source": [
    "### L1 정규화\n",
    "- norm: 좌표 평면의 원점으로부터의 거리를 나타내어 벡터의 크기 측정\n",
    "- 학습 모델이 복잡해지지 않도록 가설 함수의 L1 norm을 손실 함수에 추가 -> 복잡도가 커지지 않도록 함\n",
    "### L2 정규화\n",
    "- 학습 모델이 복잡해지지 않도록 가설 함수의 L2 norm을 손실 함수에 추가 -> 복잡도가 커지지 않도록 함"
   ]
  },
  {
   "cell_type": "markdown",
   "metadata": {},
   "source": [
    "### 라쏘 회귀\n",
    "- 선형 회귀 + L1 정규화\n",
    "- 가설 함수(선형)의 계수에 대해 L1 norm을 추가하여 복잡해지지 않도록 함\n",
    "- penalty 정도를 조절해주어야 함 (하이퍼파라미터)"
   ]
  },
  {
   "cell_type": "markdown",
   "metadata": {},
   "source": [
    "### 릿지 회귀\n",
    "- 선형 회귀 + L2 정규화\n",
    "- 가설 함수(선형)의 계수에 대해 L2 norm을 추가하여 복잡해지지 않도록 함\n",
    "- penalty 정도를 조절해주어야 함 (하이퍼파라미터)"
   ]
  },
  {
   "cell_type": "code",
   "execution_count": 1,
   "metadata": {},
   "outputs": [],
   "source": [
    "from sklearn.linear_model import SGDRegressor\n",
    "from sklearn.model_selection import train_test_split\n",
    "from sklearn.preprocessing import StandardScaler\n",
    "from sklearn.datasets import load_diabetes"
   ]
  },
  {
   "cell_type": "markdown",
   "metadata": {},
   "source": [
    "### diabete 데이터, 선형 회귀 분석"
   ]
  },
  {
   "cell_type": "code",
   "execution_count": null,
   "metadata": {},
   "outputs": [
    {
     "name": "stdout",
     "output_type": "stream",
     "text": [
      "테스트 데이터셋 R2 0.4824207771430502\n"
     ]
    }
   ],
   "source": [
    "X, y = load_diabetes(return_X_y=True, as_frame=True)\n",
    "X_train, X_test, y_train, y_test = train_test_split(X, y, test_size=0.25, random_state=1234)\n",
    "reg = SGDRegressor(penalty=None, max_iter=10000, learning_rate='constant', eta0=0.1, random_state=1234)\n",
    "reg = reg.fit(X_train, y_train)\n",
    "print('테스트 데이터셋 R2', reg.score(X_test, y_test))"
   ]
  },
  {
   "cell_type": "markdown",
   "metadata": {},
   "source": [
    "### diabete 데이터, Lasso 회귀 분석"
   ]
  },
  {
   "cell_type": "code",
   "execution_count": null,
   "metadata": {},
   "outputs": [
    {
     "name": "stdout",
     "output_type": "stream",
     "text": [
      "테스트 데이터셋 R2 0.4644556121085929\n"
     ]
    }
   ],
   "source": [
    "X, y = load_diabetes(return_X_y=True)\n",
    "X_train, X_test, y_train, y_test = train_test_split(X, y, test_size=0.25, random_state=1234)\n",
    "reg = SGDRegressor(penalty='l1', max_iter=10000, learning_rate='constant', eta0=0.1, alpha=0.001, random_state=1234)\n",
    "reg = reg.fit(X_train, y_train)\n",
    "print('테스트 데이터셋 R2', reg.score(X_test, y_test))"
   ]
  },
  {
   "cell_type": "markdown",
   "metadata": {},
   "source": [
    "### diabete 데이터, Ridge 회귀 분석"
   ]
  },
  {
   "cell_type": "code",
   "execution_count": 4,
   "metadata": {},
   "outputs": [
    {
     "name": "stdout",
     "output_type": "stream",
     "text": [
      "테스트 데이터셋 R2 0.4641548869505083\n"
     ]
    }
   ],
   "source": [
    "X, y = load_diabetes(return_X_y=True)\n",
    "X_train, X_test, y_train, y_test = train_test_split(X, y, test_size=0.25, random_state=1234)\n",
    "reg = SGDRegressor(penalty='l2', max_iter=10000, learning_rate='constant', eta0=0.1, alpha=0.0001, random_state=1234)\n",
    "reg = reg.fit(X_train, y_train)\n",
    "print('테스트 데이터셋 R2', reg.score(X_test, y_test))"
   ]
  }
 ],
 "metadata": {
  "kernelspec": {
   "display_name": "Python 3",
   "language": "python",
   "name": "python3"
  },
  "language_info": {
   "codemirror_mode": {
    "name": "ipython",
    "version": 3
   },
   "file_extension": ".py",
   "mimetype": "text/x-python",
   "name": "python",
   "nbconvert_exporter": "python",
   "pygments_lexer": "ipython3",
   "version": "3.13.0"
  }
 },
 "nbformat": 4,
 "nbformat_minor": 2
}
