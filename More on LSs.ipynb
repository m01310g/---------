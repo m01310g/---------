{
 "cells": [
  {
   "cell_type": "markdown",
   "metadata": {},
   "source": [
    "# 선형 회귀 학습 심화\n",
    "## 하이퍼 파라미터 튜닝(GridSearchCV)\n",
    "- 가장 높은 성능으로 학습하게 하는 하이퍼 파라미터 탐색 필요\n",
    "- learning rate 및 정규화 정도에 따라 성능 차이 존재\n",
    "## 데이터 전처리\n",
    "## 파이프라인"
   ]
  },
  {
   "cell_type": "markdown",
   "metadata": {},
   "source": [
    "## 검증 데이터셋 + for문"
   ]
  },
  {
   "cell_type": "code",
   "execution_count": 5,
   "metadata": {},
   "outputs": [],
   "source": [
    "from sklearn.datasets import load_diabetes\n",
    "from sklearn.linear_model import LinearRegression\n",
    "from sklearn.linear_model import SGDRegressor\n",
    "from sklearn.model_selection import train_test_split\n",
    "from sklearn.preprocessing import StandardScaler\n",
    "import numpy as np"
   ]
  },
  {
   "cell_type": "code",
   "execution_count": 6,
   "metadata": {},
   "outputs": [],
   "source": [
    "l_eta0 = [0.0001, 0.001, 0.01, 0.1]\n",
    "l_alpha = [0.0001, 0.001, 0.01, 0.1, 1, 10, 100]"
   ]
  },
  {
   "cell_type": "code",
   "execution_count": 7,
   "metadata": {},
   "outputs": [
    {
     "name": "stdout",
     "output_type": "stream",
     "text": [
      "최적 러닝레이트: 0.0001\n",
      "최적 정규화 계수: 0.0001\n",
      "검증 데이터셋 R2: 0.5521356829103785\n",
      "테스트 데이터셋 R2: 0.4731219201091438\n"
     ]
    }
   ],
   "source": [
    "X, y = load_diabetes(return_X_y=True, as_frame=True)\n",
    "X_train, X_test, y_train, y_test = train_test_split(X,\n",
    "                                                    y,\n",
    "                                                    test_size=0.2,\n",
    "                                                    random_state=1234)\n",
    "X_train, X_val, y_train, y_val = train_test_split(X_train,\n",
    "                                                  y_train,\n",
    "                                                  test_size=0.25,\n",
    "                                                  random_state=1234)\n",
    "best_R2 = 0\n",
    "for eta0 in l_eta0:\n",
    "    for alpha in l_alpha:\n",
    "        reg = SGDRegressor(penalty='l2', max_iter=100000, learning_rate='constant', eta0=eta0, alpha=alpha, random_state=1234)\n",
    "        reg.fit(X_val, y_val)\n",
    "        current_R2 = reg.score(X_val, y_val)\n",
    "        if current_R2 > best_R2:\n",
    "            best_R2 = current_R2\n",
    "            best_eta0 = eta0\n",
    "            best_alpha = alpha\n",
    "reg = SGDRegressor(penalty='l2', max_iter=100000, learning_rate='constant', eta0=best_eta0, alpha=best_alpha, random_state=1234)\n",
    "reg = reg.fit(X_train, y_train)\n",
    "test_R2 = reg.score(X_test, y_test)\n",
    "\n",
    "print('최적 러닝레이트:',best_eta0)\n",
    "print('최적 정규화 계수:',best_alpha)\n",
    "print('검증 데이터셋 R2:',best_R2)\n",
    "print('테스트 데이터셋 R2:',test_R2)\n"
   ]
  },
  {
   "cell_type": "markdown",
   "metadata": {},
   "source": [
    "## GridSearchCV(Cross Validation)\n",
    "- 교차 검증 활용: 검증 데이터셋을 여러 조합으로 평가한 후 score 평균\n",
    "- KFold 함수: 교차 검증을 위해 사용, validator 객체 생성\n",
    "- e.g. 라쏘 회귀에서 어떤 alpha 값이 가장 좋은지, 어떤 eta0 값이 가장 좋은지 -> 총 28가지의 경우 중 어떤 조합이 가장 좋은지\n",
    "\n",
    "### GrideSerchCV 객체로 fit을 할 시 KFold 교차 검증 + for문 반복 실험으로 최적의 파라미터 조합을 찾아서 fit"
   ]
  },
  {
   "cell_type": "code",
   "execution_count": null,
   "metadata": {},
   "outputs": [],
   "source": [
    "from sklearn.model_selection import KFold, GridSearchCV, cross_val_score\n",
    "\n",
    "X, y = load_diabetes(return_X_y=True, as_frame=True)\n",
    "X_train, X_test, y_train, y_test = train_test_split(X,\n",
    "                                                    y,\n",
    "                                                    test_size=0.2,\n",
    "                                                    random_state=1234)\n",
    "\n",
    "# 중요!!\n",
    "param_grid = {'alpha': l_alpha, 'eta0': l_eta0}\n",
    "# 회귀 모델 객체가 estimator에 들어감\n",
    "kfold = KFold(n_splits=4, shuffle=True, random_state=1234)\n",
    "grid_search = GridSearchCV(estimator=SGDRegressor(penalty='l2', max_iter=100000, learning_rate='constant', random_state=1234), param_grid=param_grid, cv=kfold)"
   ]
  },
  {
   "cell_type": "code",
   "execution_count": null,
   "metadata": {},
   "outputs": [],
   "source": []
  }
 ],
 "metadata": {
  "kernelspec": {
   "display_name": "Python 3",
   "language": "python",
   "name": "python3"
  },
  "language_info": {
   "codemirror_mode": {
    "name": "ipython",
    "version": 3
   },
   "file_extension": ".py",
   "mimetype": "text/x-python",
   "name": "python",
   "nbconvert_exporter": "python",
   "pygments_lexer": "ipython3",
   "version": "3.13.0"
  }
 },
 "nbformat": 4,
 "nbformat_minor": 2
}
