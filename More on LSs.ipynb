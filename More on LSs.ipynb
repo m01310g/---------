{
 "cells": [
  {
   "cell_type": "markdown",
   "metadata": {},
   "source": [
    "# 선형 회귀 학습 심화\n",
    "## 하이퍼 파라미터 튜닝(GridSearchCV)\n",
    "- 가장 높은 성능으로 학습하게 하는 하이퍼 파라미터 탐색 필요\n",
    "- learning rate 및 정규화 정도에 따라 성능 차이 존재\n",
    "## 데이터 전처리\n",
    "## 파이프라인"
   ]
  },
  {
   "cell_type": "markdown",
   "metadata": {},
   "source": [
    "## 검증 데이터셋 + for문"
   ]
  },
  {
   "cell_type": "code",
   "execution_count": 23,
   "metadata": {},
   "outputs": [],
   "source": [
    "from sklearn.datasets import load_diabetes\n",
    "from sklearn.linear_model import LinearRegression\n",
    "from sklearn.linear_model import SGDRegressor\n",
    "from sklearn.model_selection import train_test_split\n",
    "from sklearn.preprocessing import StandardScaler\n",
    "import numpy as np"
   ]
  },
  {
   "cell_type": "code",
   "execution_count": 24,
   "metadata": {},
   "outputs": [],
   "source": [
    "l_eta0 = [0.0001, 0.001, 0.01, 0.1]\n",
    "l_alpha = [0.0001, 0.001, 0.01, 0.1, 1, 10, 100]"
   ]
  },
  {
   "cell_type": "code",
   "execution_count": 25,
   "metadata": {},
   "outputs": [
    {
     "name": "stdout",
     "output_type": "stream",
     "text": [
      "최적 러닝레이트: 0.0001\n",
      "최적 정규화 계수: 0.0001\n",
      "검증 데이터셋 R2: 0.5521356829103785\n",
      "테스트 데이터셋 R2: 0.4731219201091438\n"
     ]
    }
   ],
   "source": [
    "X, y = load_diabetes(return_X_y=True, as_frame=True)\n",
    "X_train, X_test, y_train, y_test = train_test_split(X,\n",
    "                                                    y,\n",
    "                                                    test_size=0.2,\n",
    "                                                    random_state=1234)\n",
    "X_train, X_val, y_train, y_val = train_test_split(X_train,\n",
    "                                                  y_train,\n",
    "                                                  test_size=0.25,\n",
    "                                                  random_state=1234)\n",
    "best_R2 = 0\n",
    "for eta0 in l_eta0:\n",
    "    for alpha in l_alpha:\n",
    "        reg = SGDRegressor(penalty='l2', max_iter=100000, learning_rate='constant', eta0=eta0, alpha=alpha, random_state=1234)\n",
    "        reg.fit(X_val, y_val)\n",
    "        current_R2 = reg.score(X_val, y_val)\n",
    "        if current_R2 > best_R2:\n",
    "            best_R2 = current_R2\n",
    "            best_eta0 = eta0\n",
    "            best_alpha = alpha\n",
    "reg = SGDRegressor(penalty='l2', max_iter=100000, learning_rate='constant', eta0=best_eta0, alpha=best_alpha, random_state=1234)\n",
    "reg = reg.fit(X_train, y_train)\n",
    "test_R2 = reg.score(X_test, y_test)\n",
    "\n",
    "print('최적 러닝레이트:',best_eta0)\n",
    "print('최적 정규화 계수:',best_alpha)\n",
    "print('검증 데이터셋 R2:',best_R2)\n",
    "print('테스트 데이터셋 R2:',test_R2)\n"
   ]
  },
  {
   "cell_type": "markdown",
   "metadata": {},
   "source": [
    "## GridSearchCV(Cross Validation)\n",
    "- 교차 검증 활용: 검증 데이터셋을 여러 조합으로 평가한 후 score 평균\n",
    "- KFold 함수: 교차 검증을 위해 사용, validator 객체 생성\n",
    "- e.g. 라쏘 회귀에서 어떤 alpha 값이 가장 좋은지, 어떤 eta0 값이 가장 좋은지 -> 총 28가지의 경우 중 어떤 조합이 가장 좋은지\n",
    "\n",
    "### GrideSerchCV 객체로 fit을 할 시 KFold 교차 검증 + for문 반복 실험으로 최적의 파라미터 조합을 찾아서 fit\n",
    "- best_params_: 가장 좋은 조합의 하이퍼 파라미터 반환\n",
    "- best_score_: 가장 좋은 조합의 스코어 반환"
   ]
  },
  {
   "cell_type": "code",
   "execution_count": 26,
   "metadata": {},
   "outputs": [
    {
     "name": "stdout",
     "output_type": "stream",
     "text": [
      "최적 러닝레이트:  0.0001\n",
      "최적 정규화 계수:  0.0001\n",
      "최적 모델의 교차검증 스코어:  0.48593053352963667\n",
      "테스트 데이터셋 R2:  0.4723402669032044\n"
     ]
    }
   ],
   "source": [
    "from sklearn.model_selection import KFold, GridSearchCV, cross_val_score\n",
    "\n",
    "X, y = load_diabetes(return_X_y=True, as_frame=True)\n",
    "X_train, X_test, y_train, y_test = train_test_split(X,\n",
    "                                                    y,\n",
    "                                                    test_size=0.2,\n",
    "                                                    random_state=1234)\n",
    "\n",
    "# 중요!!\n",
    "# alpha와 eta0 28가지의 조합\n",
    "param_grid = {'alpha': l_alpha, 'eta0': l_eta0}\n",
    "# 회귀 모델 객체가 estimator에 들어감\n",
    "# params_grid는 딕셔너리 형태로 넣어줌\n",
    "# 4-Fold(4겹 교차 검증)\n",
    "kfold = KFold(n_splits=4, shuffle=True, random_state=1234)\n",
    "grid_search = GridSearchCV(estimator=SGDRegressor(penalty='l2', max_iter=100000, learning_rate='constant', random_state=1234), param_grid=param_grid, cv=kfold)\n",
    "grid_search.fit(X_train, y_train)\n",
    "y_pred_test = grid_search.predict(X_test)\n",
    "test_MAE = np.abs(y_pred_test - y_test).mean()\n",
    "print('최적 러닝레이트: ', grid_search.best_params_['eta0'])\n",
    "print('최적 정규화 계수: ', grid_search.best_params_['alpha'])\n",
    "print('최적 모델의 교차검증 스코어: ', grid_search.best_score_)\n",
    "print('테스트 데이터셋 R2: ', grid_search.score(X_test,y_test))"
   ]
  },
  {
   "cell_type": "markdown",
   "metadata": {},
   "source": [
    "### 실습 1. tips data에서 tip을 나머지 피처로 릿지회귀 하는 문제에서, 최적의 하이퍼파라미터를 찾으세요. (4-겹 교차검증을 통해  l_alpha, l_eta0 중에서 최적의 alpha와 eta0를 찾으세요.)"
   ]
  },
  {
   "cell_type": "code",
   "execution_count": 27,
   "metadata": {},
   "outputs": [
    {
     "data": {
      "text/html": [
       "<div>\n",
       "<style scoped>\n",
       "    .dataframe tbody tr th:only-of-type {\n",
       "        vertical-align: middle;\n",
       "    }\n",
       "\n",
       "    .dataframe tbody tr th {\n",
       "        vertical-align: top;\n",
       "    }\n",
       "\n",
       "    .dataframe thead th {\n",
       "        text-align: right;\n",
       "    }\n",
       "</style>\n",
       "<table border=\"1\" class=\"dataframe\">\n",
       "  <thead>\n",
       "    <tr style=\"text-align: right;\">\n",
       "      <th></th>\n",
       "      <th>total_bill</th>\n",
       "      <th>tip</th>\n",
       "      <th>smoker</th>\n",
       "      <th>day</th>\n",
       "      <th>time</th>\n",
       "      <th>size</th>\n",
       "    </tr>\n",
       "  </thead>\n",
       "  <tbody>\n",
       "    <tr>\n",
       "      <th>0</th>\n",
       "      <td>16.99</td>\n",
       "      <td>1.01</td>\n",
       "      <td>No</td>\n",
       "      <td>Sun</td>\n",
       "      <td>Dinner</td>\n",
       "      <td>2</td>\n",
       "    </tr>\n",
       "    <tr>\n",
       "      <th>1</th>\n",
       "      <td>10.34</td>\n",
       "      <td>1.66</td>\n",
       "      <td>No</td>\n",
       "      <td>Sun</td>\n",
       "      <td>Dinner</td>\n",
       "      <td>3</td>\n",
       "    </tr>\n",
       "    <tr>\n",
       "      <th>2</th>\n",
       "      <td>21.01</td>\n",
       "      <td>3.50</td>\n",
       "      <td>No</td>\n",
       "      <td>Sun</td>\n",
       "      <td>Dinner</td>\n",
       "      <td>3</td>\n",
       "    </tr>\n",
       "    <tr>\n",
       "      <th>3</th>\n",
       "      <td>23.68</td>\n",
       "      <td>3.31</td>\n",
       "      <td>No</td>\n",
       "      <td>Sun</td>\n",
       "      <td>Dinner</td>\n",
       "      <td>2</td>\n",
       "    </tr>\n",
       "    <tr>\n",
       "      <th>4</th>\n",
       "      <td>24.59</td>\n",
       "      <td>3.61</td>\n",
       "      <td>No</td>\n",
       "      <td>Sun</td>\n",
       "      <td>Dinner</td>\n",
       "      <td>4</td>\n",
       "    </tr>\n",
       "  </tbody>\n",
       "</table>\n",
       "</div>"
      ],
      "text/plain": [
       "   total_bill   tip smoker  day    time  size\n",
       "0       16.99  1.01     No  Sun  Dinner     2\n",
       "1       10.34  1.66     No  Sun  Dinner     3\n",
       "2       21.01  3.50     No  Sun  Dinner     3\n",
       "3       23.68  3.31     No  Sun  Dinner     2\n",
       "4       24.59  3.61     No  Sun  Dinner     4"
      ]
     },
     "execution_count": 27,
     "metadata": {},
     "output_type": "execute_result"
    }
   ],
   "source": [
    "import pandas as pd\n",
    "\n",
    "tips = pd.read_csv('tips.csv')\n",
    "tips.head()"
   ]
  },
  {
   "cell_type": "code",
   "execution_count": 28,
   "metadata": {},
   "outputs": [],
   "source": [
    "tips['smoker'] = tips['smoker'].map({'No': 0, 'Yes': 1})\n",
    "tips['day'] = tips['day'].map({'Thur': 0, 'Fri': 1, 'Sat': 2, 'Sun': 3})\n",
    "tips['time'] = tips['time'].map({'Lunch': 0, 'Dinner': 1})\n",
    "X_train, X_test, y_train, y_test = train_test_split(tips.drop(columns='tip'), tips.tip, test_size=0.2, random_state=1234)"
   ]
  },
  {
   "cell_type": "code",
   "execution_count": 29,
   "metadata": {},
   "outputs": [
    {
     "name": "stdout",
     "output_type": "stream",
     "text": [
      "최적 eta0(learning rate):  0.0001\n",
      "최적 alpha(정규화 계수):  0.0001\n"
     ]
    }
   ],
   "source": [
    "param_grid = {'alpha': l_alpha, 'eta0': l_eta0}\n",
    "kfold = KFold(n_splits=4, shuffle=True, random_state=1234)\n",
    "grid_search = GridSearchCV(estimator=SGDRegressor(penalty='l2', max_iter=100000, random_state=1234, learning_rate='constant'), param_grid=param_grid, cv=kfold)\n",
    "grid_search.fit(X_train, y_train)\n",
    "print('최적 eta0(learning rate): ', grid_search.best_params_['eta0'])\n",
    "print('최적 alpha(정규화 계수): ', grid_search.best_params_['alpha'])"
   ]
  },
  {
   "cell_type": "markdown",
   "metadata": {},
   "source": [
    "## 데이터 전처리\n",
    "- 결측치 처리\n",
    "- 스케일링\n",
    "- 범주형 데이터 처리\n",
    "#### 여기까지는 scikit-learn에서 처리 객체 제공\n",
    "\n",
    "- 데이터 병합\n",
    "- feature 선택\n",
    "#### 처리 객체를 파이프라인처럼 쌓아서 전처리 및 선형 모델을 하나의 파이프라인으로 함수화 가능"
   ]
  },
  {
   "cell_type": "markdown",
   "metadata": {},
   "source": [
    "### 결측치 처리 객체: imputer=SimpleImputer()\n",
    "- fit: X를 통해 변환기가 fit 수행\n",
    "- transform: 결측치를 fit 한 결과를 통해 채움\n",
    "- fit_transform: fit과 transform 동시 수행"
   ]
  },
  {
   "cell_type": "code",
   "execution_count": 30,
   "metadata": {},
   "outputs": [
    {
     "data": {
      "text/plain": [
       "age     0\n",
       "sex     0\n",
       "bmi     0\n",
       "bp      0\n",
       "s1      0\n",
       "s2      0\n",
       "s3      0\n",
       "s4      0\n",
       "s5     10\n",
       "s6     10\n",
       "dtype: int64"
      ]
     },
     "execution_count": 30,
     "metadata": {},
     "output_type": "execute_result"
    }
   ],
   "source": [
    "from sklearn.impute import SimpleImputer\n",
    "\n",
    "X, y = load_diabetes(return_X_y=True, as_frame=True)\n",
    "X.iloc[np.random.randint(0, X.shape[0], 10), np.random.randint(0, X.shape[1], 3)] = np.nan\n",
    "X.isna().sum()"
   ]
  },
  {
   "cell_type": "code",
   "execution_count": 31,
   "metadata": {},
   "outputs": [],
   "source": [
    "X_mean = X.mean()"
   ]
  },
  {
   "cell_type": "code",
   "execution_count": 32,
   "metadata": {},
   "outputs": [
    {
     "data": {
      "text/plain": [
       "age    0\n",
       "sex    0\n",
       "bmi    0\n",
       "bp     0\n",
       "s1     0\n",
       "s2     0\n",
       "s3     0\n",
       "s4     0\n",
       "s5     0\n",
       "s6     0\n",
       "dtype: int64"
      ]
     },
     "execution_count": 32,
     "metadata": {},
     "output_type": "execute_result"
    }
   ],
   "source": [
    "X = X.fillna(X.mean())\n",
    "X.isna().sum()"
   ]
  },
  {
   "cell_type": "code",
   "execution_count": 33,
   "metadata": {},
   "outputs": [
    {
     "data": {
      "text/plain": [
       "np.int64(0)"
      ]
     },
     "execution_count": 33,
     "metadata": {},
     "output_type": "execute_result"
    }
   ],
   "source": [
    "imputer = SimpleImputer()\n",
    "imputer.fit(X)\n",
    "X = imputer.transform(X)\n",
    "np.sum(X == np.nan)"
   ]
  },
  {
   "cell_type": "code",
   "execution_count": 34,
   "metadata": {},
   "outputs": [
    {
     "name": "stderr",
     "output_type": "stream",
     "text": [
      "/Library/Frameworks/Python.framework/Versions/3.13/lib/python3.13/site-packages/sklearn/base.py:493: UserWarning: X does not have valid feature names, but SimpleImputer was fitted with feature names\n",
      "  warnings.warn(\n"
     ]
    },
    {
     "data": {
      "text/plain": [
       "array([[ 0.00000000e+00,  0.00000000e+00,  0.00000000e+00, ...,\n",
       "         0.00000000e+00,  4.33680869e-19, -2.43945489e-19],\n",
       "       [ 0.00000000e+00,  0.00000000e+00,  0.00000000e+00, ...,\n",
       "         0.00000000e+00,  4.33680869e-19, -2.43945489e-19],\n",
       "       [ 0.00000000e+00,  0.00000000e+00,  0.00000000e+00, ...,\n",
       "         0.00000000e+00,  4.33680869e-19, -2.43945489e-19],\n",
       "       ...,\n",
       "       [ 0.00000000e+00,  0.00000000e+00,  0.00000000e+00, ...,\n",
       "         0.00000000e+00,  4.33680869e-19, -2.43945489e-19],\n",
       "       [ 0.00000000e+00,  0.00000000e+00,  0.00000000e+00, ...,\n",
       "         0.00000000e+00,  4.33680869e-19, -2.43945489e-19],\n",
       "       [ 0.00000000e+00,  0.00000000e+00,  0.00000000e+00, ...,\n",
       "         0.00000000e+00,  4.33680869e-19, -2.43945489e-19]])"
      ]
     },
     "execution_count": 34,
     "metadata": {},
     "output_type": "execute_result"
    }
   ],
   "source": [
    "Y = np.full_like(X, np.nan)\n",
    "Y = imputer.transform(Y)\n",
    "Y - np.array(X_mean)"
   ]
  }
 ],
 "metadata": {
  "kernelspec": {
   "display_name": "Python 3",
   "language": "python",
   "name": "python3"
  },
  "language_info": {
   "codemirror_mode": {
    "name": "ipython",
    "version": 3
   },
   "file_extension": ".py",
   "mimetype": "text/x-python",
   "name": "python",
   "nbconvert_exporter": "python",
   "pygments_lexer": "ipython3",
   "version": "3.13.0"
  }
 },
 "nbformat": 4,
 "nbformat_minor": 2
}
