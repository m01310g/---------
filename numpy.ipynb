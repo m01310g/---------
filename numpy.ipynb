{
 "cells": [
  {
   "cell_type": "markdown",
   "metadata": {},
   "source": [
    "# numpy 배열\n",
    "### astype 형 변환, type, shape 확인 등\n",
    "### 다양한 numpy 생성 함수\n",
    "### numpy 배열 산술 연산: 동일한 배열 간 연산은 원소 단위, 그렇지 않은 경우 브로드캐스팅의 원리\n",
    "### 인덱싱: 쉼표로 호출할 때 축 따라 호출\n",
    "### 행렬 전치, 곱\n",
    "### 난수 생성 < 중간 정도 중요.. 애매함\n",
    "### universal 함수 활용해서 문제 해결\n",
    "- numpy 배열을 이런 식으로 변경해라!! < 이런 문제에 사용될 예정\n",
    "### Random Walk 예시(작년 중간고사) < 열심히 보기\n",
    "- sum, any, all"
   ]
  },
  {
   "cell_type": "markdown",
   "metadata": {},
   "source": [
    "## Universal 함수"
   ]
  },
  {
   "cell_type": "markdown",
   "metadata": {},
   "source": [
    "1. [3, 6, 0.7, np.NaN, np.inf] 배열을 생성한 뒤,\n",
    "\n",
    "각 원소가 NaN인지 아닌지 불리안 배열을 반환하자\n",
    "\n",
    "각 원소가 inf인지 아닌지 불리안 배열을 반환하자\n",
    "\n",
    "원래 배열의 NaN이나 inf인 원소가 있다면 0으로 바꾸자"
   ]
  },
  {
   "cell_type": "code",
   "execution_count": 2,
   "metadata": {},
   "outputs": [],
   "source": [
    "import numpy as np\n",
    "a = np.array([3, 6, 0.7, np.NaN, np.inf])"
   ]
  },
  {
   "cell_type": "code",
   "execution_count": 3,
   "metadata": {},
   "outputs": [],
   "source": [
    "np.isnan(a)\n",
    "np.isinf(a)\n",
    "a[np.isinf(a) | np.isnan(a)] = 0"
   ]
  },
  {
   "cell_type": "code",
   "execution_count": 4,
   "metadata": {},
   "outputs": [
    {
     "data": {
      "text/plain": [
       "array([3. , 6. , 0.7, 0. , 0. ])"
      ]
     },
     "execution_count": 4,
     "metadata": {},
     "output_type": "execute_result"
    }
   ],
   "source": [
    "a"
   ]
  },
  {
   "cell_type": "markdown",
   "metadata": {},
   "source": [
    "2. [np.pi, np.pi/2, np.pi/3] 배열을 생성한 뒤\n",
    "\n",
    "각 원소의 cos, sin 값을 새로운 배열 C,S 로 생성하여 반환하자\n",
    "\n",
    "out옵션을 써서, cos값과 sin 값 중에 더 큰 값으로 기존 배열 A에 할당하고\n",
    "반환하자"
   ]
  },
  {
   "cell_type": "code",
   "execution_count": 5,
   "metadata": {},
   "outputs": [],
   "source": [
    "b = np.array([np.pi, np.pi/2, np.pi/3])"
   ]
  },
  {
   "cell_type": "code",
   "execution_count": 6,
   "metadata": {},
   "outputs": [
    {
     "data": {
      "text/plain": [
       "array([-1.000000e+00,  6.123234e-17,  5.000000e-01])"
      ]
     },
     "execution_count": 6,
     "metadata": {},
     "output_type": "execute_result"
    }
   ],
   "source": [
    "c = np.cos(b)\n",
    "c"
   ]
  },
  {
   "cell_type": "code",
   "execution_count": 7,
   "metadata": {},
   "outputs": [
    {
     "data": {
      "text/plain": [
       "array([1.22464680e-16, 1.00000000e+00, 8.66025404e-01])"
      ]
     },
     "execution_count": 7,
     "metadata": {},
     "output_type": "execute_result"
    }
   ],
   "source": [
    "s = np.sin(b)\n",
    "s"
   ]
  },
  {
   "cell_type": "code",
   "execution_count": 8,
   "metadata": {},
   "outputs": [
    {
     "data": {
      "text/plain": [
       "array([1.22464680e-16, 1.00000000e+00, 8.66025404e-01])"
      ]
     },
     "execution_count": 8,
     "metadata": {},
     "output_type": "execute_result"
    }
   ],
   "source": [
    "np.maximum(c, s, out=b)"
   ]
  },
  {
   "cell_type": "markdown",
   "metadata": {},
   "source": [
    "np.where 함수 많이 사용됨\n",
    "- 조건부 표현 가능\n",
    "- 다른 배열에 기반해 새로운 배열 생성하기 위해 주로 사용"
   ]
  },
  {
   "cell_type": "code",
   "execution_count": 9,
   "metadata": {},
   "outputs": [],
   "source": [
    "xarr = np.array([1.1, 1.2, 1.3, 1.4, 1.5])\n",
    "yarr = np.array([2.1, 2.2, 2.3, 2.4, 2.5])\n",
    "cond = np.array([True, False, True, True, False])"
   ]
  },
  {
   "cell_type": "code",
   "execution_count": 10,
   "metadata": {},
   "outputs": [
    {
     "data": {
      "text/plain": [
       "[1.1, 2.2, 1.3, 1.4, 2.5]"
      ]
     },
     "execution_count": 10,
     "metadata": {},
     "output_type": "execute_result"
    }
   ],
   "source": [
    "# cond가 True면 x, False이면 y\n",
    "result = [(x if c else y)\n",
    "          for x, y, c in zip(xarr, yarr, cond)]\n",
    "result"
   ]
  },
  {
   "cell_type": "code",
   "execution_count": 11,
   "metadata": {},
   "outputs": [
    {
     "data": {
      "text/plain": [
       "array([[False,  True, False, False],\n",
       "       [False, False, False,  True],\n",
       "       [ True, False,  True,  True],\n",
       "       [False,  True, False, False]])"
      ]
     },
     "execution_count": 11,
     "metadata": {},
     "output_type": "execute_result"
    }
   ],
   "source": [
    "rng = np.random.default_rng(seed=12345)\n",
    "arr = rng.standard_normal((4, 4))\n",
    "c = arr > 0\n",
    "c"
   ]
  },
  {
   "cell_type": "code",
   "execution_count": 12,
   "metadata": {},
   "outputs": [
    {
     "data": {
      "text/plain": [
       "array([[-2,  2, -2, -2],\n",
       "       [-2, -2, -2,  2],\n",
       "       [ 2, -2,  2,  2],\n",
       "       [-2,  2, -2, -2]])"
      ]
     },
     "execution_count": 12,
     "metadata": {},
     "output_type": "execute_result"
    }
   ],
   "source": [
    "# True이면 두번째 인수, False이면 세번째 인수\n",
    "np.where(c, 2, -2)"
   ]
  },
  {
   "cell_type": "code",
   "execution_count": 13,
   "metadata": {},
   "outputs": [
    {
     "data": {
      "text/plain": [
       "array([[-1.42382504,  2.        , -0.87066174, -0.25917323],\n",
       "       [-0.07534331, -0.74088465, -1.3677927 ,  2.        ],\n",
       "       [ 2.        , -1.95286306,  2.        ,  2.        ],\n",
       "       [-0.75938718,  2.        , -0.46695317, -0.06068952]])"
      ]
     },
     "execution_count": 13,
     "metadata": {},
     "output_type": "execute_result"
    }
   ],
   "source": [
    "np.where(c, 2, arr)"
   ]
  },
  {
   "cell_type": "markdown",
   "metadata": {},
   "source": [
    "## 수학 메소드/통계 메소드"
   ]
  },
  {
   "cell_type": "code",
   "execution_count": 14,
   "metadata": {},
   "outputs": [
    {
     "data": {
      "text/plain": [
       "array([[ 0.78884434, -1.25666813,  0.57585751,  1.39897899],\n",
       "       [ 1.32229806, -0.29969852,  0.90291934, -1.62158273],\n",
       "       [-0.15818926,  0.44948393, -1.34360107, -0.08168759],\n",
       "       [ 1.72473993,  2.61815943,  0.77736134,  0.8286332 ],\n",
       "       [-0.95898831, -1.20938829, -1.41229201,  0.54154683]])"
      ]
     },
     "execution_count": 14,
     "metadata": {},
     "output_type": "execute_result"
    }
   ],
   "source": [
    "arr = rng.standard_normal((5, 4))\n",
    "arr"
   ]
  },
  {
   "cell_type": "code",
   "execution_count": 15,
   "metadata": {},
   "outputs": [
    {
     "data": {
      "text/plain": [
       "0.17933634979615845"
      ]
     },
     "execution_count": 15,
     "metadata": {},
     "output_type": "execute_result"
    }
   ],
   "source": [
    "np.mean(arr)"
   ]
  },
  {
   "cell_type": "markdown",
   "metadata": {},
   "source": [
    "### 축 지정 가능"
   ]
  },
  {
   "cell_type": "code",
   "execution_count": 16,
   "metadata": {},
   "outputs": [
    {
     "data": {
      "text/plain": [
       "array([ 0.37675318,  0.07598404, -0.2834985 ,  1.48722347, -0.75978045])"
      ]
     },
     "execution_count": 16,
     "metadata": {},
     "output_type": "execute_result"
    }
   ],
   "source": [
    "arr.mean(axis=1)    # 1번 축을 따라 평균 계산"
   ]
  },
  {
   "cell_type": "code",
   "execution_count": 17,
   "metadata": {},
   "outputs": [
    {
     "data": {
      "text/plain": [
       "array([ 0.54374095,  0.06037768, -0.09995098,  0.21317774])"
      ]
     },
     "execution_count": 17,
     "metadata": {},
     "output_type": "execute_result"
    }
   ],
   "source": [
    "arr.mean(axis=0)    # 0번 축을 따라 평균 계산"
   ]
  },
  {
   "cell_type": "code",
   "execution_count": 18,
   "metadata": {},
   "outputs": [
    {
     "data": {
      "text/plain": [
       "array([ 0,  1,  3,  6, 10, 15, 21, 28])"
      ]
     },
     "execution_count": 18,
     "metadata": {},
     "output_type": "execute_result"
    }
   ],
   "source": [
    "arr = np.array([0, 1, 2, 3, 4, 5, 6, 7])\n",
    "arr.cumsum()    # arr 원소의 누적합 계산"
   ]
  },
  {
   "cell_type": "markdown",
   "metadata": {},
   "source": [
    "[3,6,0.7,np.NaN,np.inf] 배열을 생성한 뒤,\n",
    "\n",
    "NaN이나 inf인 원소가 있다면 해당 원소들을 나머지 원소들의 평균으로 바꾸자"
   ]
  },
  {
   "cell_type": "code",
   "execution_count": 19,
   "metadata": {},
   "outputs": [],
   "source": [
    "a = np.array([3, 6, 0.7, np.NaN, np.inf])"
   ]
  },
  {
   "cell_type": "code",
   "execution_count": 20,
   "metadata": {},
   "outputs": [],
   "source": [
    "# np.where 없이 해결, NaN, inf인 원소를 not(~)을 이용하여 나머지 원소들의 평균을 구해 값 변경\n",
    "a[np.isnan(a) | np.isinf(a)] = np.mean(a[~(np.isnan(a) | np.isinf(a))])"
   ]
  },
  {
   "cell_type": "code",
   "execution_count": 21,
   "metadata": {},
   "outputs": [
    {
     "data": {
      "text/plain": [
       "array([3.        , 6.        , 0.7       , 3.23333333, 3.23333333])"
      ]
     },
     "execution_count": 21,
     "metadata": {},
     "output_type": "execute_result"
    }
   ],
   "source": [
    "# np.where 이용하여 해결, NaN이나 inf이면 나머지 원소들의 평균을 구해 대입, 아니면 a 원소 그대로 놔둠\n",
    "a = np.where(np.isnan(a) | np.isinf(a), np.mean(a[~(np.isnan(a) | np.isinf(a))]), a)\n",
    "a"
   ]
  },
  {
   "cell_type": "markdown",
   "metadata": {},
   "source": [
    "## 불리언 배열 메서드"
   ]
  },
  {
   "cell_type": "code",
   "execution_count": 22,
   "metadata": {},
   "outputs": [
    {
     "data": {
      "text/plain": [
       "array([ True, False, False,  True,  True, False,  True, False, False,\n",
       "       False,  True,  True,  True,  True,  True,  True,  True,  True,\n",
       "        True, False,  True, False,  True, False, False,  True, False,\n",
       "        True, False, False,  True, False,  True, False, False, False,\n",
       "        True,  True, False, False,  True, False, False,  True, False,\n",
       "       False, False,  True, False,  True, False,  True,  True,  True,\n",
       "       False,  True,  True,  True,  True, False, False, False, False,\n",
       "        True, False, False, False,  True, False, False, False,  True,\n",
       "        True, False,  True,  True, False,  True,  True,  True,  True,\n",
       "        True,  True, False, False, False,  True,  True,  True,  True,\n",
       "        True,  True, False, False, False, False,  True, False, False,\n",
       "       False])"
      ]
     },
     "execution_count": 22,
     "metadata": {},
     "output_type": "execute_result"
    }
   ],
   "source": [
    "arr = rng.standard_normal(100)\n",
    "arr > 0"
   ]
  },
  {
   "cell_type": "code",
   "execution_count": 23,
   "metadata": {},
   "outputs": [
    {
     "data": {
      "text/plain": [
       "51"
      ]
     },
     "execution_count": 23,
     "metadata": {},
     "output_type": "execute_result"
    }
   ],
   "source": [
    "(arr > 0).sum()"
   ]
  },
  {
   "cell_type": "code",
   "execution_count": 24,
   "metadata": {},
   "outputs": [
    {
     "data": {
      "text/plain": [
       "49"
      ]
     },
     "execution_count": 24,
     "metadata": {},
     "output_type": "execute_result"
    }
   ],
   "source": [
    "(arr <= 0).sum()"
   ]
  },
  {
   "cell_type": "markdown",
   "metadata": {},
   "source": [
    "## 정렬"
   ]
  },
  {
   "cell_type": "code",
   "execution_count": 25,
   "metadata": {},
   "outputs": [
    {
     "data": {
      "text/plain": [
       "array([ 0.28208603, -0.62361213,  1.12182226,  0.84122103, -0.7758961 ,\n",
       "        0.41071644])"
      ]
     },
     "execution_count": 25,
     "metadata": {},
     "output_type": "execute_result"
    }
   ],
   "source": [
    "arr = rng.standard_normal(6)\n",
    "arr"
   ]
  },
  {
   "cell_type": "code",
   "execution_count": 26,
   "metadata": {},
   "outputs": [],
   "source": [
    "arr.sort()"
   ]
  },
  {
   "cell_type": "code",
   "execution_count": 27,
   "metadata": {},
   "outputs": [
    {
     "data": {
      "text/plain": [
       "array([-0.7758961 , -0.62361213,  0.28208603,  0.41071644,  0.84122103,\n",
       "        1.12182226])"
      ]
     },
     "execution_count": 27,
     "metadata": {},
     "output_type": "execute_result"
    }
   ],
   "source": [
    "arr"
   ]
  },
  {
   "cell_type": "code",
   "execution_count": 28,
   "metadata": {},
   "outputs": [
    {
     "data": {
      "text/plain": [
       "array([[-2.7224161 , -0.6733048 ,  1.24622153],\n",
       "       [ 0.79020803,  0.17534089, -0.0292946 ],\n",
       "       [-1.41951426, -1.35996632,  0.22341156],\n",
       "       [ 1.76177943, -2.17088985,  0.62848817],\n",
       "       [ 0.60119653,  0.95075786, -0.86924667]])"
      ]
     },
     "execution_count": 28,
     "metadata": {},
     "output_type": "execute_result"
    }
   ],
   "source": [
    "arr = rng.standard_normal((5,3))\n",
    "arr"
   ]
  },
  {
   "cell_type": "code",
   "execution_count": 29,
   "metadata": {},
   "outputs": [
    {
     "data": {
      "text/plain": [
       "array([[-2.7224161 , -2.17088985, -0.86924667],\n",
       "       [-1.41951426, -1.35996632, -0.0292946 ],\n",
       "       [ 0.60119653, -0.6733048 ,  0.22341156],\n",
       "       [ 0.79020803,  0.17534089,  0.62848817],\n",
       "       [ 1.76177943,  0.95075786,  1.24622153]])"
      ]
     },
     "execution_count": 29,
     "metadata": {},
     "output_type": "execute_result"
    }
   ],
   "source": [
    "arr.sort(axis=0)\n",
    "arr"
   ]
  },
  {
   "cell_type": "code",
   "execution_count": 30,
   "metadata": {},
   "outputs": [
    {
     "data": {
      "text/plain": [
       "array([[-2.7224161 , -2.17088985, -0.86924667],\n",
       "       [-1.41951426, -1.35996632, -0.0292946 ],\n",
       "       [-0.6733048 ,  0.22341156,  0.60119653],\n",
       "       [ 0.17534089,  0.62848817,  0.79020803],\n",
       "       [ 0.95075786,  1.24622153,  1.76177943]])"
      ]
     },
     "execution_count": 30,
     "metadata": {},
     "output_type": "execute_result"
    }
   ],
   "source": [
    "arr.sort(axis=1)\n",
    "arr"
   ]
  },
  {
   "cell_type": "markdown",
   "metadata": {},
   "source": [
    "## Random Walk\n",
    "매 반복 동안 0.5의 같은 확률로 +1, -1을 결정\n",
    "\n",
    "0부터 시작해서 여러 번 +1 혹은 -1의 값을 추가\n",
    "\n",
    "반복이 증가함에 따라 값이 어떻게 변화하는 지 나열"
   ]
  },
  {
   "cell_type": "markdown",
   "metadata": {},
   "source": [
    "### 리스트/for문 통한 구현"
   ]
  },
  {
   "cell_type": "code",
   "execution_count": 31,
   "metadata": {},
   "outputs": [
    {
     "data": {
      "text/plain": [
       "0.5740857124328613"
      ]
     },
     "execution_count": 31,
     "metadata": {},
     "output_type": "execute_result"
    }
   ],
   "source": [
    "import random\n",
    "import time\n",
    "\n",
    "t_start=time.time()\n",
    "position = 0\n",
    "walk = [position]\n",
    "nsteps = 1000000\n",
    "for _ in range(nsteps):\n",
    "    if random.randint(0, 1): \n",
    "        step = 1 \n",
    "    else:\n",
    "        step=-1\n",
    "    position += step\n",
    "    walk.append(position)\n",
    "t_end=time.time()\n",
    "t_end-t_start"
   ]
  },
  {
   "cell_type": "code",
   "execution_count": 32,
   "metadata": {},
   "outputs": [
    {
     "data": {
      "text/plain": [
       "<Figure size 640x480 with 0 Axes>"
      ]
     },
     "execution_count": 32,
     "metadata": {},
     "output_type": "execute_result"
    },
    {
     "data": {
      "text/plain": [
       "<Figure size 640x480 with 0 Axes>"
      ]
     },
     "metadata": {},
     "output_type": "display_data"
    }
   ],
   "source": [
    "import matplotlib.pyplot as plt\n",
    "plt.figure()"
   ]
  },
  {
   "cell_type": "code",
   "execution_count": 33,
   "metadata": {},
   "outputs": [
    {
     "data": {
      "text/plain": [
       "[<matplotlib.lines.Line2D at 0x1fc8d81c530>]"
      ]
     },
     "execution_count": 33,
     "metadata": {},
     "output_type": "execute_result"
    },
    {
     "data": {
      "image/png": "[encoded data removed]",
      "text/plain": [
       "<Figure size 640x480 with 1 Axes>"
      ]
     },
     "metadata": {},
     "output_type": "display_data"
    }
   ],
   "source": [
    "plt.plot(walk[:100])"
   ]
  },
  {
   "cell_type": "markdown",
   "metadata": {},
   "source": [
    "### 넘파이를 이용한 구현"
   ]
  },
  {
   "cell_type": "code",
   "execution_count": 34,
   "metadata": {},
   "outputs": [
    {
     "data": {
      "text/plain": [
       "0.017174482345581055"
      ]
     },
     "execution_count": 34,
     "metadata": {},
     "output_type": "execute_result"
    }
   ],
   "source": [
    "t_start = time.time()\n",
    "nsteps = 1000000\n",
    "rng = np.random.default_rng(seed=12345)\n",
    "\n",
    "draws = rng.integers(0, 2, size=nsteps)\n",
    "steps = np.where(draws == 0, 1, -1)\n",
    "walk = steps.cumsum()\n",
    "t_end = time.time()\n",
    "t_end - t_start"
   ]
  },
  {
   "cell_type": "markdown",
   "metadata": {},
   "source": [
    "### 간단한 통계"
   ]
  },
  {
   "cell_type": "code",
   "execution_count": 35,
   "metadata": {},
   "outputs": [
    {
     "data": {
      "text/plain": [
       "-251"
      ]
     },
     "execution_count": 35,
     "metadata": {},
     "output_type": "execute_result"
    }
   ],
   "source": [
    "walk.min()"
   ]
  },
  {
   "cell_type": "code",
   "execution_count": 36,
   "metadata": {},
   "outputs": [
    {
     "data": {
      "text/plain": [
       "155"
      ]
     },
     "execution_count": 36,
     "metadata": {},
     "output_type": "execute_result"
    }
   ],
   "source": [
    "# 시험에 나왔었음\n",
    "(np.abs(walk) >= 10).argmax()   # argmax() => 가장 큰 원소의 index를 반환"
   ]
  },
  {
   "cell_type": "code",
   "execution_count": 37,
   "metadata": {},
   "outputs": [
    {
     "data": {
      "text/plain": [
       "10"
      ]
     },
     "execution_count": 37,
     "metadata": {},
     "output_type": "execute_result"
    }
   ],
   "source": [
    "walk[155]"
   ]
  },
  {
   "cell_type": "markdown",
   "metadata": {},
   "source": [
    "### 한 번에 많이 시뮬레이션"
   ]
  },
  {
   "cell_type": "code",
   "execution_count": 38,
   "metadata": {},
   "outputs": [
    {
     "data": {
      "text/plain": [
       "array([[  1,   0,  -1, ...,  66,  67,  66],\n",
       "       [  1,   2,   3, ...,  48,  49,  50],\n",
       "       [ -1,  -2,  -3, ..., -30, -29, -28],\n",
       "       ...,\n",
       "       [ -1,  -2,  -3, ...,  -2,  -1,  -2],\n",
       "       [  1,   0,  -1, ..., -40, -41, -40],\n",
       "       [ -1,   0,  -1, ...,   4,   3,   2]])"
      ]
     },
     "execution_count": 38,
     "metadata": {},
     "output_type": "execute_result"
    }
   ],
   "source": [
    "n_simulations = 5000\n",
    "nsteps = 1000\n",
    "# 2차원 numpy 배열\n",
    "# 0번 axis: simulation 수, 1번 axis: step 수\n",
    "draws = rng.integers(0, 2, size=(n_simulations, nsteps))\n",
    "steps = np.where(draws == 0, 1, -1)\n",
    "# 열 방향으로 누적합\n",
    "walks = steps.cumsum(axis=1)\n",
    "walks"
   ]
  },
  {
   "cell_type": "code",
   "execution_count": 39,
   "metadata": {},
   "outputs": [
    {
     "data": {
      "text/plain": [
       "120"
      ]
     },
     "execution_count": 39,
     "metadata": {},
     "output_type": "execute_result"
    }
   ],
   "source": [
    "walks.max()     # 모든 시뮬레이션에 대해 적용"
   ]
  },
  {
   "cell_type": "code",
   "execution_count": 40,
   "metadata": {},
   "outputs": [
    {
     "data": {
      "text/plain": [
       "array([78, 53,  5, ...,  2, 27, 11])"
      ]
     },
     "execution_count": 40,
     "metadata": {},
     "output_type": "execute_result"
    }
   ],
   "source": [
    "walks.max(axis=1)   # 시뮬레이션 별로 적용"
   ]
  },
  {
   "cell_type": "code",
   "execution_count": 41,
   "metadata": {},
   "outputs": [
    {
     "data": {
      "text/plain": [
       "-114"
      ]
     },
     "execution_count": 41,
     "metadata": {},
     "output_type": "execute_result"
    }
   ],
   "source": [
    "walks.min()"
   ]
  },
  {
   "cell_type": "code",
   "execution_count": 42,
   "metadata": {},
   "outputs": [
    {
     "data": {
      "text/plain": [
       "array([ -2,   1, -55, ..., -57, -45, -17])"
      ]
     },
     "execution_count": 42,
     "metadata": {},
     "output_type": "execute_result"
    }
   ],
   "source": [
    "walks.min(axis=1)"
   ]
  },
  {
   "cell_type": "markdown",
   "metadata": {},
   "source": [
    "### 30칸 이상 넘어가는 최소 step 계산"
   ]
  },
  {
   "cell_type": "code",
   "execution_count": 43,
   "metadata": {},
   "outputs": [
    {
     "data": {
      "text/plain": [
       "array([ True,  True,  True, ...,  True,  True, False])"
      ]
     },
     "execution_count": 43,
     "metadata": {},
     "output_type": "execute_result"
    }
   ],
   "source": [
    "#각 시뮬레이션 별로 step이 30을 넘는지 boolean 값 반환\n",
    "hits30 = (np.abs(walks) >= 30).any(axis=1)\n",
    "hits30"
   ]
  },
  {
   "cell_type": "code",
   "execution_count": 44,
   "metadata": {},
   "outputs": [
    {
     "data": {
      "text/plain": [
       "3371"
      ]
     },
     "execution_count": 44,
     "metadata": {},
     "output_type": "execute_result"
    }
   ],
   "source": [
    "hits30.sum()    # step이 30을 넘는 시뮬레이션의 수"
   ]
  },
  {
   "cell_type": "code",
   "execution_count": 45,
   "metadata": {},
   "outputs": [
    {
     "data": {
      "text/plain": [
       "array([[  1,   0,  -1, ...,  66,  67,  66],\n",
       "       [  1,   2,   3, ...,  48,  49,  50],\n",
       "       [ -1,  -2,  -3, ..., -30, -29, -28],\n",
       "       ...,\n",
       "       [  1,   0,   1, ...,  50,  49,  48],\n",
       "       [ -1,  -2,  -3, ...,  -2,  -1,  -2],\n",
       "       [  1,   0,  -1, ..., -40, -41, -40]])"
      ]
     },
     "execution_count": 45,
     "metadata": {},
     "output_type": "execute_result"
    }
   ],
   "source": [
    "walks[hits30]   # boolean 객체를 이용한 인덱싱싱"
   ]
  },
  {
   "cell_type": "code",
   "execution_count": 46,
   "metadata": {},
   "outputs": [
    {
     "data": {
      "text/plain": [
       "array([135, 321, 369, ..., 403, 373, 487], dtype=int64)"
      ]
     },
     "execution_count": 46,
     "metadata": {},
     "output_type": "execute_result"
    }
   ],
   "source": [
    "crossing_times = (np.abs(walks[hits30]) >= 30).argmax(axis=1)   # 30을 넘는 시뮬레이션에 대해서 처음으로 30을 넘는 시뮬레이션의 step 수 저장\n",
    "crossing_times"
   ]
  },
  {
   "cell_type": "code",
   "execution_count": 47,
   "metadata": {},
   "outputs": [
    {
     "data": {
      "text/plain": [
       "505.19104123405515"
      ]
     },
     "execution_count": 47,
     "metadata": {},
     "output_type": "execute_result"
    }
   ],
   "source": [
    "crossing_times.mean()"
   ]
  }
 ],
 "metadata": {
  "kernelspec": {
   "display_name": "Python 3",
   "language": "python",
   "name": "python3"
  },
  "language_info": {
   "codemirror_mode": {
    "name": "ipython",
    "version": 3
   },
   "file_extension": ".py",
   "mimetype": "text/x-python",
   "name": "python",
   "nbconvert_exporter": "python",
   "pygments_lexer": "ipython3",
   "version": "3.12.2"
  }
 },
 "nbformat": 4,
 "nbformat_minor": 2
}
