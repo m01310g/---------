{
 "cells": [
  {
   "cell_type": "markdown",
   "metadata": {},
   "source": [
    "## 결측치 표현\n",
    "### NaN / None으로 표현(Nan: float64, None: 파이썬 내장 객체)"
   ]
  },
  {
   "cell_type": "code",
   "execution_count": 78,
   "metadata": {},
   "outputs": [],
   "source": [
    "import numpy as np\n",
    "import pandas as pd\n",
    "from pandas import Series, DataFrame"
   ]
  },
  {
   "cell_type": "markdown",
   "metadata": {},
   "source": [
    "## 결측치 표현 및 확인"
   ]
  },
  {
   "cell_type": "code",
   "execution_count": 79,
   "metadata": {},
   "outputs": [
    {
     "data": {
      "text/plain": [
       "0    1.2\n",
       "1   -3.5\n",
       "2    NaN\n",
       "3    0.0\n",
       "dtype: float64"
      ]
     },
     "execution_count": 79,
     "metadata": {},
     "output_type": "execute_result"
    }
   ],
   "source": [
    "float_data = Series([1.2, -3.5, np.nan, 0])\n",
    "float_data"
   ]
  },
  {
   "cell_type": "code",
   "execution_count": 80,
   "metadata": {},
   "outputs": [
    {
     "data": {
      "text/plain": [
       "0    False\n",
       "1    False\n",
       "2     True\n",
       "3    False\n",
       "dtype: bool"
      ]
     },
     "execution_count": 80,
     "metadata": {},
     "output_type": "execute_result"
    }
   ],
   "source": [
    "float_data.isna()"
   ]
  },
  {
   "cell_type": "code",
   "execution_count": 81,
   "metadata": {},
   "outputs": [
    {
     "data": {
      "text/plain": [
       "0    False\n",
       "1    False\n",
       "2     True\n",
       "3    False\n",
       "dtype: bool"
      ]
     },
     "execution_count": 81,
     "metadata": {},
     "output_type": "execute_result"
    }
   ],
   "source": [
    "float_data.isnull()"
   ]
  },
  {
   "cell_type": "markdown",
   "metadata": {},
   "source": [
    "## 결측치 골라내기(dropna)"
   ]
  },
  {
   "cell_type": "code",
   "execution_count": 82,
   "metadata": {},
   "outputs": [],
   "source": [
    "data = Series([1, np.nan, 3.5, np.nan, 7])"
   ]
  },
  {
   "cell_type": "code",
   "execution_count": 83,
   "metadata": {},
   "outputs": [
    {
     "data": {
      "text/plain": [
       "0    1.0\n",
       "2    3.5\n",
       "4    7.0\n",
       "dtype: float64"
      ]
     },
     "execution_count": 83,
     "metadata": {},
     "output_type": "execute_result"
    }
   ],
   "source": [
    "data.dropna()"
   ]
  },
  {
   "cell_type": "code",
   "execution_count": 84,
   "metadata": {},
   "outputs": [
    {
     "data": {
      "text/plain": [
       "0    1.0\n",
       "1    NaN\n",
       "2    3.5\n",
       "3    NaN\n",
       "4    7.0\n",
       "dtype: float64"
      ]
     },
     "execution_count": 84,
     "metadata": {},
     "output_type": "execute_result"
    }
   ],
   "source": [
    "data"
   ]
  },
  {
   "cell_type": "code",
   "execution_count": 85,
   "metadata": {},
   "outputs": [
    {
     "data": {
      "text/plain": [
       "0    1.0\n",
       "2    3.5\n",
       "4    7.0\n",
       "dtype: float64"
      ]
     },
     "execution_count": 85,
     "metadata": {},
     "output_type": "execute_result"
    }
   ],
   "source": [
    "data[data.notna()]  # 불리언 객체를 이용한 색인"
   ]
  },
  {
   "cell_type": "code",
   "execution_count": 86,
   "metadata": {},
   "outputs": [],
   "source": [
    "data = DataFrame([[1., 6.5, 3.], [1., np.nan, np.nan],\n",
    "                  [np.nan, np.nan, np.nan], [np.nan, 6.5, 3.]])"
   ]
  },
  {
   "cell_type": "code",
   "execution_count": 87,
   "metadata": {},
   "outputs": [
    {
     "data": {
      "text/html": [
       "<div>\n",
       "<style scoped>\n",
       "    .dataframe tbody tr th:only-of-type {\n",
       "        vertical-align: middle;\n",
       "    }\n",
       "\n",
       "    .dataframe tbody tr th {\n",
       "        vertical-align: top;\n",
       "    }\n",
       "\n",
       "    .dataframe thead th {\n",
       "        text-align: right;\n",
       "    }\n",
       "</style>\n",
       "<table border=\"1\" class=\"dataframe\">\n",
       "  <thead>\n",
       "    <tr style=\"text-align: right;\">\n",
       "      <th></th>\n",
       "      <th>0</th>\n",
       "      <th>1</th>\n",
       "      <th>2</th>\n",
       "    </tr>\n",
       "  </thead>\n",
       "  <tbody>\n",
       "    <tr>\n",
       "      <th>0</th>\n",
       "      <td>1.0</td>\n",
       "      <td>6.5</td>\n",
       "      <td>3.0</td>\n",
       "    </tr>\n",
       "    <tr>\n",
       "      <th>1</th>\n",
       "      <td>1.0</td>\n",
       "      <td>NaN</td>\n",
       "      <td>NaN</td>\n",
       "    </tr>\n",
       "    <tr>\n",
       "      <th>2</th>\n",
       "      <td>NaN</td>\n",
       "      <td>NaN</td>\n",
       "      <td>NaN</td>\n",
       "    </tr>\n",
       "    <tr>\n",
       "      <th>3</th>\n",
       "      <td>NaN</td>\n",
       "      <td>6.5</td>\n",
       "      <td>3.0</td>\n",
       "    </tr>\n",
       "  </tbody>\n",
       "</table>\n",
       "</div>"
      ],
      "text/plain": [
       "     0    1    2\n",
       "0  1.0  6.5  3.0\n",
       "1  1.0  NaN  NaN\n",
       "2  NaN  NaN  NaN\n",
       "3  NaN  6.5  3.0"
      ]
     },
     "execution_count": 87,
     "metadata": {},
     "output_type": "execute_result"
    }
   ],
   "source": [
    "data"
   ]
  },
  {
   "cell_type": "code",
   "execution_count": 88,
   "metadata": {},
   "outputs": [
    {
     "data": {
      "text/html": [
       "<div>\n",
       "<style scoped>\n",
       "    .dataframe tbody tr th:only-of-type {\n",
       "        vertical-align: middle;\n",
       "    }\n",
       "\n",
       "    .dataframe tbody tr th {\n",
       "        vertical-align: top;\n",
       "    }\n",
       "\n",
       "    .dataframe thead th {\n",
       "        text-align: right;\n",
       "    }\n",
       "</style>\n",
       "<table border=\"1\" class=\"dataframe\">\n",
       "  <thead>\n",
       "    <tr style=\"text-align: right;\">\n",
       "      <th></th>\n",
       "      <th>0</th>\n",
       "      <th>1</th>\n",
       "      <th>2</th>\n",
       "    </tr>\n",
       "  </thead>\n",
       "  <tbody>\n",
       "    <tr>\n",
       "      <th>0</th>\n",
       "      <td>1.0</td>\n",
       "      <td>6.5</td>\n",
       "      <td>3.0</td>\n",
       "    </tr>\n",
       "  </tbody>\n",
       "</table>\n",
       "</div>"
      ],
      "text/plain": [
       "     0    1    2\n",
       "0  1.0  6.5  3.0"
      ]
     },
     "execution_count": 88,
     "metadata": {},
     "output_type": "execute_result"
    }
   ],
   "source": [
    "data.dropna()   # default: how='any' axis='index'"
   ]
  },
  {
   "cell_type": "markdown",
   "metadata": {},
   "source": [
    "### how"
   ]
  },
  {
   "cell_type": "code",
   "execution_count": 89,
   "metadata": {},
   "outputs": [
    {
     "data": {
      "text/html": [
       "<div>\n",
       "<style scoped>\n",
       "    .dataframe tbody tr th:only-of-type {\n",
       "        vertical-align: middle;\n",
       "    }\n",
       "\n",
       "    .dataframe tbody tr th {\n",
       "        vertical-align: top;\n",
       "    }\n",
       "\n",
       "    .dataframe thead th {\n",
       "        text-align: right;\n",
       "    }\n",
       "</style>\n",
       "<table border=\"1\" class=\"dataframe\">\n",
       "  <thead>\n",
       "    <tr style=\"text-align: right;\">\n",
       "      <th></th>\n",
       "      <th>0</th>\n",
       "      <th>1</th>\n",
       "      <th>2</th>\n",
       "    </tr>\n",
       "  </thead>\n",
       "  <tbody>\n",
       "    <tr>\n",
       "      <th>0</th>\n",
       "      <td>1.0</td>\n",
       "      <td>6.5</td>\n",
       "      <td>3.0</td>\n",
       "    </tr>\n",
       "    <tr>\n",
       "      <th>1</th>\n",
       "      <td>1.0</td>\n",
       "      <td>NaN</td>\n",
       "      <td>NaN</td>\n",
       "    </tr>\n",
       "    <tr>\n",
       "      <th>3</th>\n",
       "      <td>NaN</td>\n",
       "      <td>6.5</td>\n",
       "      <td>3.0</td>\n",
       "    </tr>\n",
       "  </tbody>\n",
       "</table>\n",
       "</div>"
      ],
      "text/plain": [
       "     0    1    2\n",
       "0  1.0  6.5  3.0\n",
       "1  1.0  NaN  NaN\n",
       "3  NaN  6.5  3.0"
      ]
     },
     "execution_count": 89,
     "metadata": {},
     "output_type": "execute_result"
    }
   ],
   "source": [
    "data.dropna(how=\"all\")  # 모든 데이터가 결측치일 때만 삭제"
   ]
  },
  {
   "cell_type": "markdown",
   "metadata": {},
   "source": [
    "### axis"
   ]
  },
  {
   "cell_type": "code",
   "execution_count": 90,
   "metadata": {},
   "outputs": [
    {
     "data": {
      "text/html": [
       "<div>\n",
       "<style scoped>\n",
       "    .dataframe tbody tr th:only-of-type {\n",
       "        vertical-align: middle;\n",
       "    }\n",
       "\n",
       "    .dataframe tbody tr th {\n",
       "        vertical-align: top;\n",
       "    }\n",
       "\n",
       "    .dataframe thead th {\n",
       "        text-align: right;\n",
       "    }\n",
       "</style>\n",
       "<table border=\"1\" class=\"dataframe\">\n",
       "  <thead>\n",
       "    <tr style=\"text-align: right;\">\n",
       "      <th></th>\n",
       "      <th>0</th>\n",
       "      <th>1</th>\n",
       "      <th>2</th>\n",
       "    </tr>\n",
       "  </thead>\n",
       "  <tbody>\n",
       "    <tr>\n",
       "      <th>0</th>\n",
       "      <td>1.0</td>\n",
       "      <td>6.5</td>\n",
       "      <td>3.0</td>\n",
       "    </tr>\n",
       "    <tr>\n",
       "      <th>1</th>\n",
       "      <td>1.0</td>\n",
       "      <td>NaN</td>\n",
       "      <td>NaN</td>\n",
       "    </tr>\n",
       "    <tr>\n",
       "      <th>2</th>\n",
       "      <td>NaN</td>\n",
       "      <td>NaN</td>\n",
       "      <td>NaN</td>\n",
       "    </tr>\n",
       "    <tr>\n",
       "      <th>3</th>\n",
       "      <td>NaN</td>\n",
       "      <td>6.5</td>\n",
       "      <td>3.0</td>\n",
       "    </tr>\n",
       "  </tbody>\n",
       "</table>\n",
       "</div>"
      ],
      "text/plain": [
       "     0    1    2\n",
       "0  1.0  6.5  3.0\n",
       "1  1.0  NaN  NaN\n",
       "2  NaN  NaN  NaN\n",
       "3  NaN  6.5  3.0"
      ]
     },
     "execution_count": 90,
     "metadata": {},
     "output_type": "execute_result"
    }
   ],
   "source": [
    "data.dropna(axis=\"columns\", how=\"all\")"
   ]
  },
  {
   "cell_type": "code",
   "execution_count": 91,
   "metadata": {},
   "outputs": [
    {
     "data": {
      "text/html": [
       "<div>\n",
       "<style scoped>\n",
       "    .dataframe tbody tr th:only-of-type {\n",
       "        vertical-align: middle;\n",
       "    }\n",
       "\n",
       "    .dataframe tbody tr th {\n",
       "        vertical-align: top;\n",
       "    }\n",
       "\n",
       "    .dataframe thead th {\n",
       "        text-align: right;\n",
       "    }\n",
       "</style>\n",
       "<table border=\"1\" class=\"dataframe\">\n",
       "  <thead>\n",
       "    <tr style=\"text-align: right;\">\n",
       "      <th></th>\n",
       "    </tr>\n",
       "  </thead>\n",
       "  <tbody>\n",
       "    <tr>\n",
       "      <th>0</th>\n",
       "    </tr>\n",
       "    <tr>\n",
       "      <th>1</th>\n",
       "    </tr>\n",
       "    <tr>\n",
       "      <th>2</th>\n",
       "    </tr>\n",
       "    <tr>\n",
       "      <th>3</th>\n",
       "    </tr>\n",
       "  </tbody>\n",
       "</table>\n",
       "</div>"
      ],
      "text/plain": [
       "Empty DataFrame\n",
       "Columns: []\n",
       "Index: [0, 1, 2, 3]"
      ]
     },
     "execution_count": 91,
     "metadata": {},
     "output_type": "execute_result"
    }
   ],
   "source": [
    "data.dropna(axis=\"columns\", how=\"any\")"
   ]
  },
  {
   "cell_type": "markdown",
   "metadata": {},
   "source": [
    "### thresh"
   ]
  },
  {
   "cell_type": "code",
   "execution_count": 92,
   "metadata": {},
   "outputs": [],
   "source": [
    "df = DataFrame(np.random.standard_normal((7, 3)))\n",
    "df.iloc[:4, 1] = np.nan\n",
    "df.iloc[:2, 2] = np.nan"
   ]
  },
  {
   "cell_type": "code",
   "execution_count": 93,
   "metadata": {},
   "outputs": [
    {
     "data": {
      "text/html": [
       "<div>\n",
       "<style scoped>\n",
       "    .dataframe tbody tr th:only-of-type {\n",
       "        vertical-align: middle;\n",
       "    }\n",
       "\n",
       "    .dataframe tbody tr th {\n",
       "        vertical-align: top;\n",
       "    }\n",
       "\n",
       "    .dataframe thead th {\n",
       "        text-align: right;\n",
       "    }\n",
       "</style>\n",
       "<table border=\"1\" class=\"dataframe\">\n",
       "  <thead>\n",
       "    <tr style=\"text-align: right;\">\n",
       "      <th></th>\n",
       "      <th>0</th>\n",
       "      <th>1</th>\n",
       "      <th>2</th>\n",
       "    </tr>\n",
       "  </thead>\n",
       "  <tbody>\n",
       "    <tr>\n",
       "      <th>0</th>\n",
       "      <td>-2.131876</td>\n",
       "      <td>NaN</td>\n",
       "      <td>NaN</td>\n",
       "    </tr>\n",
       "    <tr>\n",
       "      <th>1</th>\n",
       "      <td>0.373859</td>\n",
       "      <td>NaN</td>\n",
       "      <td>NaN</td>\n",
       "    </tr>\n",
       "    <tr>\n",
       "      <th>2</th>\n",
       "      <td>0.210625</td>\n",
       "      <td>NaN</td>\n",
       "      <td>-0.963008</td>\n",
       "    </tr>\n",
       "    <tr>\n",
       "      <th>3</th>\n",
       "      <td>0.452729</td>\n",
       "      <td>NaN</td>\n",
       "      <td>-0.510939</td>\n",
       "    </tr>\n",
       "    <tr>\n",
       "      <th>4</th>\n",
       "      <td>-0.388396</td>\n",
       "      <td>-0.308349</td>\n",
       "      <td>1.076168</td>\n",
       "    </tr>\n",
       "    <tr>\n",
       "      <th>5</th>\n",
       "      <td>1.195809</td>\n",
       "      <td>1.074041</td>\n",
       "      <td>-0.796302</td>\n",
       "    </tr>\n",
       "    <tr>\n",
       "      <th>6</th>\n",
       "      <td>0.418461</td>\n",
       "      <td>0.458323</td>\n",
       "      <td>-0.398430</td>\n",
       "    </tr>\n",
       "  </tbody>\n",
       "</table>\n",
       "</div>"
      ],
      "text/plain": [
       "          0         1         2\n",
       "0 -2.131876       NaN       NaN\n",
       "1  0.373859       NaN       NaN\n",
       "2  0.210625       NaN -0.963008\n",
       "3  0.452729       NaN -0.510939\n",
       "4 -0.388396 -0.308349  1.076168\n",
       "5  1.195809  1.074041 -0.796302\n",
       "6  0.418461  0.458323 -0.398430"
      ]
     },
     "execution_count": 93,
     "metadata": {},
     "output_type": "execute_result"
    }
   ],
   "source": [
    "df"
   ]
  },
  {
   "cell_type": "code",
   "execution_count": 94,
   "metadata": {},
   "outputs": [
    {
     "data": {
      "text/html": [
       "<div>\n",
       "<style scoped>\n",
       "    .dataframe tbody tr th:only-of-type {\n",
       "        vertical-align: middle;\n",
       "    }\n",
       "\n",
       "    .dataframe tbody tr th {\n",
       "        vertical-align: top;\n",
       "    }\n",
       "\n",
       "    .dataframe thead th {\n",
       "        text-align: right;\n",
       "    }\n",
       "</style>\n",
       "<table border=\"1\" class=\"dataframe\">\n",
       "  <thead>\n",
       "    <tr style=\"text-align: right;\">\n",
       "      <th></th>\n",
       "      <th>0</th>\n",
       "      <th>1</th>\n",
       "      <th>2</th>\n",
       "    </tr>\n",
       "  </thead>\n",
       "  <tbody>\n",
       "    <tr>\n",
       "      <th>4</th>\n",
       "      <td>-0.388396</td>\n",
       "      <td>-0.308349</td>\n",
       "      <td>1.076168</td>\n",
       "    </tr>\n",
       "    <tr>\n",
       "      <th>5</th>\n",
       "      <td>1.195809</td>\n",
       "      <td>1.074041</td>\n",
       "      <td>-0.796302</td>\n",
       "    </tr>\n",
       "    <tr>\n",
       "      <th>6</th>\n",
       "      <td>0.418461</td>\n",
       "      <td>0.458323</td>\n",
       "      <td>-0.398430</td>\n",
       "    </tr>\n",
       "  </tbody>\n",
       "</table>\n",
       "</div>"
      ],
      "text/plain": [
       "          0         1         2\n",
       "4 -0.388396 -0.308349  1.076168\n",
       "5  1.195809  1.074041 -0.796302\n",
       "6  0.418461  0.458323 -0.398430"
      ]
     },
     "execution_count": 94,
     "metadata": {},
     "output_type": "execute_result"
    }
   ],
   "source": [
    "df.dropna()"
   ]
  },
  {
   "cell_type": "code",
   "execution_count": 95,
   "metadata": {},
   "outputs": [
    {
     "data": {
      "text/html": [
       "<div>\n",
       "<style scoped>\n",
       "    .dataframe tbody tr th:only-of-type {\n",
       "        vertical-align: middle;\n",
       "    }\n",
       "\n",
       "    .dataframe tbody tr th {\n",
       "        vertical-align: top;\n",
       "    }\n",
       "\n",
       "    .dataframe thead th {\n",
       "        text-align: right;\n",
       "    }\n",
       "</style>\n",
       "<table border=\"1\" class=\"dataframe\">\n",
       "  <thead>\n",
       "    <tr style=\"text-align: right;\">\n",
       "      <th></th>\n",
       "      <th>0</th>\n",
       "      <th>1</th>\n",
       "      <th>2</th>\n",
       "    </tr>\n",
       "  </thead>\n",
       "  <tbody>\n",
       "    <tr>\n",
       "      <th>2</th>\n",
       "      <td>0.210625</td>\n",
       "      <td>NaN</td>\n",
       "      <td>-0.963008</td>\n",
       "    </tr>\n",
       "    <tr>\n",
       "      <th>3</th>\n",
       "      <td>0.452729</td>\n",
       "      <td>NaN</td>\n",
       "      <td>-0.510939</td>\n",
       "    </tr>\n",
       "    <tr>\n",
       "      <th>4</th>\n",
       "      <td>-0.388396</td>\n",
       "      <td>-0.308349</td>\n",
       "      <td>1.076168</td>\n",
       "    </tr>\n",
       "    <tr>\n",
       "      <th>5</th>\n",
       "      <td>1.195809</td>\n",
       "      <td>1.074041</td>\n",
       "      <td>-0.796302</td>\n",
       "    </tr>\n",
       "    <tr>\n",
       "      <th>6</th>\n",
       "      <td>0.418461</td>\n",
       "      <td>0.458323</td>\n",
       "      <td>-0.398430</td>\n",
       "    </tr>\n",
       "  </tbody>\n",
       "</table>\n",
       "</div>"
      ],
      "text/plain": [
       "          0         1         2\n",
       "2  0.210625       NaN -0.963008\n",
       "3  0.452729       NaN -0.510939\n",
       "4 -0.388396 -0.308349  1.076168\n",
       "5  1.195809  1.074041 -0.796302\n",
       "6  0.418461  0.458323 -0.398430"
      ]
     },
     "execution_count": 95,
     "metadata": {},
     "output_type": "execute_result"
    }
   ],
   "source": [
    "df.dropna(thresh=2) # 결측치가 thresh의 개수보다 적은 개수를 반환"
   ]
  },
  {
   "cell_type": "markdown",
   "metadata": {},
   "source": [
    "## 결측치 채우기(fillna)"
   ]
  },
  {
   "cell_type": "code",
   "execution_count": 96,
   "metadata": {},
   "outputs": [
    {
     "data": {
      "text/html": [
       "<div>\n",
       "<style scoped>\n",
       "    .dataframe tbody tr th:only-of-type {\n",
       "        vertical-align: middle;\n",
       "    }\n",
       "\n",
       "    .dataframe tbody tr th {\n",
       "        vertical-align: top;\n",
       "    }\n",
       "\n",
       "    .dataframe thead th {\n",
       "        text-align: right;\n",
       "    }\n",
       "</style>\n",
       "<table border=\"1\" class=\"dataframe\">\n",
       "  <thead>\n",
       "    <tr style=\"text-align: right;\">\n",
       "      <th></th>\n",
       "      <th>0</th>\n",
       "      <th>1</th>\n",
       "      <th>2</th>\n",
       "    </tr>\n",
       "  </thead>\n",
       "  <tbody>\n",
       "    <tr>\n",
       "      <th>0</th>\n",
       "      <td>-2.131876</td>\n",
       "      <td>NaN</td>\n",
       "      <td>NaN</td>\n",
       "    </tr>\n",
       "    <tr>\n",
       "      <th>1</th>\n",
       "      <td>0.373859</td>\n",
       "      <td>NaN</td>\n",
       "      <td>NaN</td>\n",
       "    </tr>\n",
       "    <tr>\n",
       "      <th>2</th>\n",
       "      <td>0.210625</td>\n",
       "      <td>NaN</td>\n",
       "      <td>-0.963008</td>\n",
       "    </tr>\n",
       "    <tr>\n",
       "      <th>3</th>\n",
       "      <td>0.452729</td>\n",
       "      <td>NaN</td>\n",
       "      <td>-0.510939</td>\n",
       "    </tr>\n",
       "    <tr>\n",
       "      <th>4</th>\n",
       "      <td>-0.388396</td>\n",
       "      <td>-0.308349</td>\n",
       "      <td>1.076168</td>\n",
       "    </tr>\n",
       "    <tr>\n",
       "      <th>5</th>\n",
       "      <td>1.195809</td>\n",
       "      <td>1.074041</td>\n",
       "      <td>-0.796302</td>\n",
       "    </tr>\n",
       "    <tr>\n",
       "      <th>6</th>\n",
       "      <td>0.418461</td>\n",
       "      <td>0.458323</td>\n",
       "      <td>-0.398430</td>\n",
       "    </tr>\n",
       "  </tbody>\n",
       "</table>\n",
       "</div>"
      ],
      "text/plain": [
       "          0         1         2\n",
       "0 -2.131876       NaN       NaN\n",
       "1  0.373859       NaN       NaN\n",
       "2  0.210625       NaN -0.963008\n",
       "3  0.452729       NaN -0.510939\n",
       "4 -0.388396 -0.308349  1.076168\n",
       "5  1.195809  1.074041 -0.796302\n",
       "6  0.418461  0.458323 -0.398430"
      ]
     },
     "execution_count": 96,
     "metadata": {},
     "output_type": "execute_result"
    }
   ],
   "source": [
    "df"
   ]
  },
  {
   "cell_type": "code",
   "execution_count": 97,
   "metadata": {},
   "outputs": [
    {
     "data": {
      "text/html": [
       "<div>\n",
       "<style scoped>\n",
       "    .dataframe tbody tr th:only-of-type {\n",
       "        vertical-align: middle;\n",
       "    }\n",
       "\n",
       "    .dataframe tbody tr th {\n",
       "        vertical-align: top;\n",
       "    }\n",
       "\n",
       "    .dataframe thead th {\n",
       "        text-align: right;\n",
       "    }\n",
       "</style>\n",
       "<table border=\"1\" class=\"dataframe\">\n",
       "  <thead>\n",
       "    <tr style=\"text-align: right;\">\n",
       "      <th></th>\n",
       "      <th>0</th>\n",
       "      <th>1</th>\n",
       "      <th>2</th>\n",
       "    </tr>\n",
       "  </thead>\n",
       "  <tbody>\n",
       "    <tr>\n",
       "      <th>0</th>\n",
       "      <td>-2.131876</td>\n",
       "      <td>0.000000</td>\n",
       "      <td>0.000000</td>\n",
       "    </tr>\n",
       "    <tr>\n",
       "      <th>1</th>\n",
       "      <td>0.373859</td>\n",
       "      <td>0.000000</td>\n",
       "      <td>0.000000</td>\n",
       "    </tr>\n",
       "    <tr>\n",
       "      <th>2</th>\n",
       "      <td>0.210625</td>\n",
       "      <td>0.000000</td>\n",
       "      <td>-0.963008</td>\n",
       "    </tr>\n",
       "    <tr>\n",
       "      <th>3</th>\n",
       "      <td>0.452729</td>\n",
       "      <td>0.000000</td>\n",
       "      <td>-0.510939</td>\n",
       "    </tr>\n",
       "    <tr>\n",
       "      <th>4</th>\n",
       "      <td>-0.388396</td>\n",
       "      <td>-0.308349</td>\n",
       "      <td>1.076168</td>\n",
       "    </tr>\n",
       "    <tr>\n",
       "      <th>5</th>\n",
       "      <td>1.195809</td>\n",
       "      <td>1.074041</td>\n",
       "      <td>-0.796302</td>\n",
       "    </tr>\n",
       "    <tr>\n",
       "      <th>6</th>\n",
       "      <td>0.418461</td>\n",
       "      <td>0.458323</td>\n",
       "      <td>-0.398430</td>\n",
       "    </tr>\n",
       "  </tbody>\n",
       "</table>\n",
       "</div>"
      ],
      "text/plain": [
       "          0         1         2\n",
       "0 -2.131876  0.000000  0.000000\n",
       "1  0.373859  0.000000  0.000000\n",
       "2  0.210625  0.000000 -0.963008\n",
       "3  0.452729  0.000000 -0.510939\n",
       "4 -0.388396 -0.308349  1.076168\n",
       "5  1.195809  1.074041 -0.796302\n",
       "6  0.418461  0.458323 -0.398430"
      ]
     },
     "execution_count": 97,
     "metadata": {},
     "output_type": "execute_result"
    }
   ],
   "source": [
    "df.fillna(0)    # 결측치를 0으로 채워줌"
   ]
  },
  {
   "cell_type": "markdown",
   "metadata": {},
   "source": [
    "### 딕셔너리를 통한 결측치 채우기"
   ]
  },
  {
   "cell_type": "code",
   "execution_count": 98,
   "metadata": {},
   "outputs": [
    {
     "data": {
      "text/html": [
       "<div>\n",
       "<style scoped>\n",
       "    .dataframe tbody tr th:only-of-type {\n",
       "        vertical-align: middle;\n",
       "    }\n",
       "\n",
       "    .dataframe tbody tr th {\n",
       "        vertical-align: top;\n",
       "    }\n",
       "\n",
       "    .dataframe thead th {\n",
       "        text-align: right;\n",
       "    }\n",
       "</style>\n",
       "<table border=\"1\" class=\"dataframe\">\n",
       "  <thead>\n",
       "    <tr style=\"text-align: right;\">\n",
       "      <th></th>\n",
       "      <th>0</th>\n",
       "      <th>1</th>\n",
       "      <th>2</th>\n",
       "    </tr>\n",
       "  </thead>\n",
       "  <tbody>\n",
       "    <tr>\n",
       "      <th>0</th>\n",
       "      <td>-2.131876</td>\n",
       "      <td>0.500000</td>\n",
       "      <td>0.000000</td>\n",
       "    </tr>\n",
       "    <tr>\n",
       "      <th>1</th>\n",
       "      <td>0.373859</td>\n",
       "      <td>0.500000</td>\n",
       "      <td>0.000000</td>\n",
       "    </tr>\n",
       "    <tr>\n",
       "      <th>2</th>\n",
       "      <td>0.210625</td>\n",
       "      <td>0.500000</td>\n",
       "      <td>-0.963008</td>\n",
       "    </tr>\n",
       "    <tr>\n",
       "      <th>3</th>\n",
       "      <td>0.452729</td>\n",
       "      <td>0.500000</td>\n",
       "      <td>-0.510939</td>\n",
       "    </tr>\n",
       "    <tr>\n",
       "      <th>4</th>\n",
       "      <td>-0.388396</td>\n",
       "      <td>-0.308349</td>\n",
       "      <td>1.076168</td>\n",
       "    </tr>\n",
       "    <tr>\n",
       "      <th>5</th>\n",
       "      <td>1.195809</td>\n",
       "      <td>1.074041</td>\n",
       "      <td>-0.796302</td>\n",
       "    </tr>\n",
       "    <tr>\n",
       "      <th>6</th>\n",
       "      <td>0.418461</td>\n",
       "      <td>0.458323</td>\n",
       "      <td>-0.398430</td>\n",
       "    </tr>\n",
       "  </tbody>\n",
       "</table>\n",
       "</div>"
      ],
      "text/plain": [
       "          0         1         2\n",
       "0 -2.131876  0.500000  0.000000\n",
       "1  0.373859  0.500000  0.000000\n",
       "2  0.210625  0.500000 -0.963008\n",
       "3  0.452729  0.500000 -0.510939\n",
       "4 -0.388396 -0.308349  1.076168\n",
       "5  1.195809  1.074041 -0.796302\n",
       "6  0.418461  0.458323 -0.398430"
      ]
     },
     "execution_count": 98,
     "metadata": {},
     "output_type": "execute_result"
    }
   ],
   "source": [
    "df.fillna({1: 0.5, 2: 0})   # feature 별로 다른 결측치"
   ]
  },
  {
   "cell_type": "markdown",
   "metadata": {},
   "source": [
    "### method\n",
    "reindex 할 때 결측치가 많이 발생함 -> 결측치를 채우기 위해서 method 사용 가능한 것처럼\n",
    "DataFrame에서도 사용 가능"
   ]
  },
  {
   "cell_type": "code",
   "execution_count": 99,
   "metadata": {},
   "outputs": [],
   "source": [
    "df = DataFrame(np.random.standard_normal((6, 3)))\n",
    "df.iloc[2:, 1] = np.nan\n",
    "df.iloc[4:, 2] = np.nan"
   ]
  },
  {
   "cell_type": "code",
   "execution_count": 100,
   "metadata": {},
   "outputs": [
    {
     "data": {
      "text/html": [
       "<div>\n",
       "<style scoped>\n",
       "    .dataframe tbody tr th:only-of-type {\n",
       "        vertical-align: middle;\n",
       "    }\n",
       "\n",
       "    .dataframe tbody tr th {\n",
       "        vertical-align: top;\n",
       "    }\n",
       "\n",
       "    .dataframe thead th {\n",
       "        text-align: right;\n",
       "    }\n",
       "</style>\n",
       "<table border=\"1\" class=\"dataframe\">\n",
       "  <thead>\n",
       "    <tr style=\"text-align: right;\">\n",
       "      <th></th>\n",
       "      <th>0</th>\n",
       "      <th>1</th>\n",
       "      <th>2</th>\n",
       "    </tr>\n",
       "  </thead>\n",
       "  <tbody>\n",
       "    <tr>\n",
       "      <th>0</th>\n",
       "      <td>-1.121953</td>\n",
       "      <td>-0.442310</td>\n",
       "      <td>-1.031795</td>\n",
       "    </tr>\n",
       "    <tr>\n",
       "      <th>1</th>\n",
       "      <td>1.015185</td>\n",
       "      <td>-0.052421</td>\n",
       "      <td>-0.897845</td>\n",
       "    </tr>\n",
       "    <tr>\n",
       "      <th>2</th>\n",
       "      <td>0.499262</td>\n",
       "      <td>NaN</td>\n",
       "      <td>0.341926</td>\n",
       "    </tr>\n",
       "    <tr>\n",
       "      <th>3</th>\n",
       "      <td>1.972816</td>\n",
       "      <td>NaN</td>\n",
       "      <td>0.225129</td>\n",
       "    </tr>\n",
       "    <tr>\n",
       "      <th>4</th>\n",
       "      <td>1.738309</td>\n",
       "      <td>NaN</td>\n",
       "      <td>NaN</td>\n",
       "    </tr>\n",
       "    <tr>\n",
       "      <th>5</th>\n",
       "      <td>0.782236</td>\n",
       "      <td>NaN</td>\n",
       "      <td>NaN</td>\n",
       "    </tr>\n",
       "  </tbody>\n",
       "</table>\n",
       "</div>"
      ],
      "text/plain": [
       "          0         1         2\n",
       "0 -1.121953 -0.442310 -1.031795\n",
       "1  1.015185 -0.052421 -0.897845\n",
       "2  0.499262       NaN  0.341926\n",
       "3  1.972816       NaN  0.225129\n",
       "4  1.738309       NaN       NaN\n",
       "5  0.782236       NaN       NaN"
      ]
     },
     "execution_count": 100,
     "metadata": {},
     "output_type": "execute_result"
    }
   ],
   "source": [
    "df"
   ]
  },
  {
   "cell_type": "code",
   "execution_count": 101,
   "metadata": {},
   "outputs": [
    {
     "name": "stderr",
     "output_type": "stream",
     "text": [
      "C:\\Users\\hello\\AppData\\Local\\Temp\\ipykernel_28520\\3665968059.py:1: FutureWarning: DataFrame.fillna with 'method' is deprecated and will raise in a future version. Use obj.ffill() or obj.bfill() instead.\n",
      "  df.fillna(method=\"ffill\")   ## 전의 값으로 채워줌\n"
     ]
    },
    {
     "data": {
      "text/html": [
       "<div>\n",
       "<style scoped>\n",
       "    .dataframe tbody tr th:only-of-type {\n",
       "        vertical-align: middle;\n",
       "    }\n",
       "\n",
       "    .dataframe tbody tr th {\n",
       "        vertical-align: top;\n",
       "    }\n",
       "\n",
       "    .dataframe thead th {\n",
       "        text-align: right;\n",
       "    }\n",
       "</style>\n",
       "<table border=\"1\" class=\"dataframe\">\n",
       "  <thead>\n",
       "    <tr style=\"text-align: right;\">\n",
       "      <th></th>\n",
       "      <th>0</th>\n",
       "      <th>1</th>\n",
       "      <th>2</th>\n",
       "    </tr>\n",
       "  </thead>\n",
       "  <tbody>\n",
       "    <tr>\n",
       "      <th>0</th>\n",
       "      <td>-1.121953</td>\n",
       "      <td>-0.442310</td>\n",
       "      <td>-1.031795</td>\n",
       "    </tr>\n",
       "    <tr>\n",
       "      <th>1</th>\n",
       "      <td>1.015185</td>\n",
       "      <td>-0.052421</td>\n",
       "      <td>-0.897845</td>\n",
       "    </tr>\n",
       "    <tr>\n",
       "      <th>2</th>\n",
       "      <td>0.499262</td>\n",
       "      <td>-0.052421</td>\n",
       "      <td>0.341926</td>\n",
       "    </tr>\n",
       "    <tr>\n",
       "      <th>3</th>\n",
       "      <td>1.972816</td>\n",
       "      <td>-0.052421</td>\n",
       "      <td>0.225129</td>\n",
       "    </tr>\n",
       "    <tr>\n",
       "      <th>4</th>\n",
       "      <td>1.738309</td>\n",
       "      <td>-0.052421</td>\n",
       "      <td>0.225129</td>\n",
       "    </tr>\n",
       "    <tr>\n",
       "      <th>5</th>\n",
       "      <td>0.782236</td>\n",
       "      <td>-0.052421</td>\n",
       "      <td>0.225129</td>\n",
       "    </tr>\n",
       "  </tbody>\n",
       "</table>\n",
       "</div>"
      ],
      "text/plain": [
       "          0         1         2\n",
       "0 -1.121953 -0.442310 -1.031795\n",
       "1  1.015185 -0.052421 -0.897845\n",
       "2  0.499262 -0.052421  0.341926\n",
       "3  1.972816 -0.052421  0.225129\n",
       "4  1.738309 -0.052421  0.225129\n",
       "5  0.782236 -0.052421  0.225129"
      ]
     },
     "execution_count": 101,
     "metadata": {},
     "output_type": "execute_result"
    }
   ],
   "source": [
    "df.fillna(method=\"ffill\")   ## 전의 값으로 채워줌"
   ]
  },
  {
   "cell_type": "code",
   "execution_count": 102,
   "metadata": {},
   "outputs": [
    {
     "name": "stderr",
     "output_type": "stream",
     "text": [
      "C:\\Users\\hello\\AppData\\Local\\Temp\\ipykernel_28520\\739359190.py:1: FutureWarning: DataFrame.fillna with 'method' is deprecated and will raise in a future version. Use obj.ffill() or obj.bfill() instead.\n",
      "  df.fillna(method=\"ffill\", limit=2)  # limit: 결측치를 채울 개수 조정 가능\n"
     ]
    },
    {
     "data": {
      "text/html": [
       "<div>\n",
       "<style scoped>\n",
       "    .dataframe tbody tr th:only-of-type {\n",
       "        vertical-align: middle;\n",
       "    }\n",
       "\n",
       "    .dataframe tbody tr th {\n",
       "        vertical-align: top;\n",
       "    }\n",
       "\n",
       "    .dataframe thead th {\n",
       "        text-align: right;\n",
       "    }\n",
       "</style>\n",
       "<table border=\"1\" class=\"dataframe\">\n",
       "  <thead>\n",
       "    <tr style=\"text-align: right;\">\n",
       "      <th></th>\n",
       "      <th>0</th>\n",
       "      <th>1</th>\n",
       "      <th>2</th>\n",
       "    </tr>\n",
       "  </thead>\n",
       "  <tbody>\n",
       "    <tr>\n",
       "      <th>0</th>\n",
       "      <td>-1.121953</td>\n",
       "      <td>-0.442310</td>\n",
       "      <td>-1.031795</td>\n",
       "    </tr>\n",
       "    <tr>\n",
       "      <th>1</th>\n",
       "      <td>1.015185</td>\n",
       "      <td>-0.052421</td>\n",
       "      <td>-0.897845</td>\n",
       "    </tr>\n",
       "    <tr>\n",
       "      <th>2</th>\n",
       "      <td>0.499262</td>\n",
       "      <td>-0.052421</td>\n",
       "      <td>0.341926</td>\n",
       "    </tr>\n",
       "    <tr>\n",
       "      <th>3</th>\n",
       "      <td>1.972816</td>\n",
       "      <td>-0.052421</td>\n",
       "      <td>0.225129</td>\n",
       "    </tr>\n",
       "    <tr>\n",
       "      <th>4</th>\n",
       "      <td>1.738309</td>\n",
       "      <td>NaN</td>\n",
       "      <td>0.225129</td>\n",
       "    </tr>\n",
       "    <tr>\n",
       "      <th>5</th>\n",
       "      <td>0.782236</td>\n",
       "      <td>NaN</td>\n",
       "      <td>0.225129</td>\n",
       "    </tr>\n",
       "  </tbody>\n",
       "</table>\n",
       "</div>"
      ],
      "text/plain": [
       "          0         1         2\n",
       "0 -1.121953 -0.442310 -1.031795\n",
       "1  1.015185 -0.052421 -0.897845\n",
       "2  0.499262 -0.052421  0.341926\n",
       "3  1.972816 -0.052421  0.225129\n",
       "4  1.738309       NaN  0.225129\n",
       "5  0.782236       NaN  0.225129"
      ]
     },
     "execution_count": 102,
     "metadata": {},
     "output_type": "execute_result"
    }
   ],
   "source": [
    "df.fillna(method=\"ffill\", limit=2)  # limit: 결측치를 채울 개수 조정 가능"
   ]
  },
  {
   "cell_type": "code",
   "execution_count": 103,
   "metadata": {},
   "outputs": [],
   "source": [
    "data = Series([1., np.nan, 3.5, np.nan, 7.])"
   ]
  },
  {
   "cell_type": "code",
   "execution_count": 104,
   "metadata": {},
   "outputs": [
    {
     "data": {
      "text/plain": [
       "0    1.0\n",
       "1    NaN\n",
       "2    3.5\n",
       "3    NaN\n",
       "4    7.0\n",
       "dtype: float64"
      ]
     },
     "execution_count": 104,
     "metadata": {},
     "output_type": "execute_result"
    }
   ],
   "source": [
    "data"
   ]
  },
  {
   "cell_type": "code",
   "execution_count": 105,
   "metadata": {},
   "outputs": [
    {
     "data": {
      "text/plain": [
       "0    1.000000\n",
       "1    3.833333\n",
       "2    3.500000\n",
       "3    3.833333\n",
       "4    7.000000\n",
       "dtype: float64"
      ]
     },
     "execution_count": 105,
     "metadata": {},
     "output_type": "execute_result"
    }
   ],
   "source": [
    "data.fillna(data.mean())    # 결측치를 평균으로 채워줌"
   ]
  },
  {
   "cell_type": "markdown",
   "metadata": {},
   "source": [
    "# 데이터 변형\n",
    "## 함수나 매핑을 이용하여 데이터 변형"
   ]
  },
  {
   "cell_type": "code",
   "execution_count": 106,
   "metadata": {},
   "outputs": [],
   "source": [
    "data = DataFrame({\"food\": [\"bacon\", \"pulled pork\", \"bacon\",\n",
    "                           \"pastrami\", \"corned beef\", \"bacon\",\n",
    "                           \"pastrami\", \"honey ham\", \"nova lox\"],\n",
    "                    \"ounces\": [4, 3, 12, 6, 7.5, 8, 3, 5, 6]})"
   ]
  },
  {
   "cell_type": "code",
   "execution_count": 107,
   "metadata": {},
   "outputs": [
    {
     "data": {
      "text/html": [
       "<div>\n",
       "<style scoped>\n",
       "    .dataframe tbody tr th:only-of-type {\n",
       "        vertical-align: middle;\n",
       "    }\n",
       "\n",
       "    .dataframe tbody tr th {\n",
       "        vertical-align: top;\n",
       "    }\n",
       "\n",
       "    .dataframe thead th {\n",
       "        text-align: right;\n",
       "    }\n",
       "</style>\n",
       "<table border=\"1\" class=\"dataframe\">\n",
       "  <thead>\n",
       "    <tr style=\"text-align: right;\">\n",
       "      <th></th>\n",
       "      <th>food</th>\n",
       "      <th>ounces</th>\n",
       "    </tr>\n",
       "  </thead>\n",
       "  <tbody>\n",
       "    <tr>\n",
       "      <th>0</th>\n",
       "      <td>bacon</td>\n",
       "      <td>4.0</td>\n",
       "    </tr>\n",
       "    <tr>\n",
       "      <th>1</th>\n",
       "      <td>pulled pork</td>\n",
       "      <td>3.0</td>\n",
       "    </tr>\n",
       "    <tr>\n",
       "      <th>2</th>\n",
       "      <td>bacon</td>\n",
       "      <td>12.0</td>\n",
       "    </tr>\n",
       "    <tr>\n",
       "      <th>3</th>\n",
       "      <td>pastrami</td>\n",
       "      <td>6.0</td>\n",
       "    </tr>\n",
       "    <tr>\n",
       "      <th>4</th>\n",
       "      <td>corned beef</td>\n",
       "      <td>7.5</td>\n",
       "    </tr>\n",
       "    <tr>\n",
       "      <th>5</th>\n",
       "      <td>bacon</td>\n",
       "      <td>8.0</td>\n",
       "    </tr>\n",
       "    <tr>\n",
       "      <th>6</th>\n",
       "      <td>pastrami</td>\n",
       "      <td>3.0</td>\n",
       "    </tr>\n",
       "    <tr>\n",
       "      <th>7</th>\n",
       "      <td>honey ham</td>\n",
       "      <td>5.0</td>\n",
       "    </tr>\n",
       "    <tr>\n",
       "      <th>8</th>\n",
       "      <td>nova lox</td>\n",
       "      <td>6.0</td>\n",
       "    </tr>\n",
       "  </tbody>\n",
       "</table>\n",
       "</div>"
      ],
      "text/plain": [
       "          food  ounces\n",
       "0        bacon     4.0\n",
       "1  pulled pork     3.0\n",
       "2        bacon    12.0\n",
       "3     pastrami     6.0\n",
       "4  corned beef     7.5\n",
       "5        bacon     8.0\n",
       "6     pastrami     3.0\n",
       "7    honey ham     5.0\n",
       "8     nova lox     6.0"
      ]
     },
     "execution_count": 107,
     "metadata": {},
     "output_type": "execute_result"
    }
   ],
   "source": [
    "data    # DataFrame 요소 별 적용: applymap"
   ]
  },
  {
   "cell_type": "code",
   "execution_count": 108,
   "metadata": {},
   "outputs": [],
   "source": [
    "# 매핑 할 딕셔너리 생성\n",
    "meat_to_animal = {\n",
    "  \"bacon\": \"pig\",\n",
    "  \"pulled pork\": \"pig\",\n",
    "  \"pastrami\": \"cow\",\n",
    "  \"corned beef\": \"cow\",\n",
    "  \"honey ham\": \"pig\",\n",
    "  \"nova lox\": \"salmon\"\n",
    "}"
   ]
  },
  {
   "cell_type": "code",
   "execution_count": 109,
   "metadata": {},
   "outputs": [],
   "source": [
    "# data[\"food\"]만 가져왔으므로 Series 형태 -> map 이용\n",
    "data[\"animal\"] = data[\"food\"].map(meat_to_animal)"
   ]
  },
  {
   "cell_type": "code",
   "execution_count": 110,
   "metadata": {},
   "outputs": [
    {
     "data": {
      "text/html": [
       "<div>\n",
       "<style scoped>\n",
       "    .dataframe tbody tr th:only-of-type {\n",
       "        vertical-align: middle;\n",
       "    }\n",
       "\n",
       "    .dataframe tbody tr th {\n",
       "        vertical-align: top;\n",
       "    }\n",
       "\n",
       "    .dataframe thead th {\n",
       "        text-align: right;\n",
       "    }\n",
       "</style>\n",
       "<table border=\"1\" class=\"dataframe\">\n",
       "  <thead>\n",
       "    <tr style=\"text-align: right;\">\n",
       "      <th></th>\n",
       "      <th>food</th>\n",
       "      <th>ounces</th>\n",
       "      <th>animal</th>\n",
       "    </tr>\n",
       "  </thead>\n",
       "  <tbody>\n",
       "    <tr>\n",
       "      <th>0</th>\n",
       "      <td>bacon</td>\n",
       "      <td>4.0</td>\n",
       "      <td>pig</td>\n",
       "    </tr>\n",
       "    <tr>\n",
       "      <th>1</th>\n",
       "      <td>pulled pork</td>\n",
       "      <td>3.0</td>\n",
       "      <td>pig</td>\n",
       "    </tr>\n",
       "    <tr>\n",
       "      <th>2</th>\n",
       "      <td>bacon</td>\n",
       "      <td>12.0</td>\n",
       "      <td>pig</td>\n",
       "    </tr>\n",
       "    <tr>\n",
       "      <th>3</th>\n",
       "      <td>pastrami</td>\n",
       "      <td>6.0</td>\n",
       "      <td>cow</td>\n",
       "    </tr>\n",
       "    <tr>\n",
       "      <th>4</th>\n",
       "      <td>corned beef</td>\n",
       "      <td>7.5</td>\n",
       "      <td>cow</td>\n",
       "    </tr>\n",
       "    <tr>\n",
       "      <th>5</th>\n",
       "      <td>bacon</td>\n",
       "      <td>8.0</td>\n",
       "      <td>pig</td>\n",
       "    </tr>\n",
       "    <tr>\n",
       "      <th>6</th>\n",
       "      <td>pastrami</td>\n",
       "      <td>3.0</td>\n",
       "      <td>cow</td>\n",
       "    </tr>\n",
       "    <tr>\n",
       "      <th>7</th>\n",
       "      <td>honey ham</td>\n",
       "      <td>5.0</td>\n",
       "      <td>pig</td>\n",
       "    </tr>\n",
       "    <tr>\n",
       "      <th>8</th>\n",
       "      <td>nova lox</td>\n",
       "      <td>6.0</td>\n",
       "      <td>salmon</td>\n",
       "    </tr>\n",
       "  </tbody>\n",
       "</table>\n",
       "</div>"
      ],
      "text/plain": [
       "          food  ounces  animal\n",
       "0        bacon     4.0     pig\n",
       "1  pulled pork     3.0     pig\n",
       "2        bacon    12.0     pig\n",
       "3     pastrami     6.0     cow\n",
       "4  corned beef     7.5     cow\n",
       "5        bacon     8.0     pig\n",
       "6     pastrami     3.0     cow\n",
       "7    honey ham     5.0     pig\n",
       "8     nova lox     6.0  salmon"
      ]
     },
     "execution_count": 110,
     "metadata": {},
     "output_type": "execute_result"
    }
   ],
   "source": [
    "data"
   ]
  },
  {
   "cell_type": "code",
   "execution_count": 111,
   "metadata": {},
   "outputs": [],
   "source": [
    "def get_animal(x):\n",
    "    return meat_to_animal[x]"
   ]
  },
  {
   "cell_type": "code",
   "execution_count": 112,
   "metadata": {},
   "outputs": [
    {
     "data": {
      "text/plain": [
       "0       pig\n",
       "1       pig\n",
       "2       pig\n",
       "3       cow\n",
       "4       cow\n",
       "5       pig\n",
       "6       cow\n",
       "7       pig\n",
       "8    salmon\n",
       "Name: food, dtype: object"
      ]
     },
     "execution_count": 112,
     "metadata": {},
     "output_type": "execute_result"
    }
   ],
   "source": [
    "data[\"food\"].map(get_animal)"
   ]
  },
  {
   "cell_type": "code",
   "execution_count": 113,
   "metadata": {},
   "outputs": [],
   "source": [
    "df = DataFrame(np.random.standard_normal((7, 3)))"
   ]
  },
  {
   "cell_type": "code",
   "execution_count": 114,
   "metadata": {},
   "outputs": [
    {
     "data": {
      "text/html": [
       "<div>\n",
       "<style scoped>\n",
       "    .dataframe tbody tr th:only-of-type {\n",
       "        vertical-align: middle;\n",
       "    }\n",
       "\n",
       "    .dataframe tbody tr th {\n",
       "        vertical-align: top;\n",
       "    }\n",
       "\n",
       "    .dataframe thead th {\n",
       "        text-align: right;\n",
       "    }\n",
       "</style>\n",
       "<table border=\"1\" class=\"dataframe\">\n",
       "  <thead>\n",
       "    <tr style=\"text-align: right;\">\n",
       "      <th></th>\n",
       "      <th>0</th>\n",
       "      <th>1</th>\n",
       "      <th>2</th>\n",
       "    </tr>\n",
       "  </thead>\n",
       "  <tbody>\n",
       "    <tr>\n",
       "      <th>0</th>\n",
       "      <td>0.688404</td>\n",
       "      <td>-1.273165</td>\n",
       "      <td>-0.278524</td>\n",
       "    </tr>\n",
       "    <tr>\n",
       "      <th>1</th>\n",
       "      <td>-1.622964</td>\n",
       "      <td>-0.343717</td>\n",
       "      <td>0.913310</td>\n",
       "    </tr>\n",
       "    <tr>\n",
       "      <th>2</th>\n",
       "      <td>-0.407396</td>\n",
       "      <td>0.142303</td>\n",
       "      <td>1.231099</td>\n",
       "    </tr>\n",
       "    <tr>\n",
       "      <th>3</th>\n",
       "      <td>0.258965</td>\n",
       "      <td>1.095978</td>\n",
       "      <td>-0.312721</td>\n",
       "    </tr>\n",
       "    <tr>\n",
       "      <th>4</th>\n",
       "      <td>1.669944</td>\n",
       "      <td>1.678714</td>\n",
       "      <td>0.096034</td>\n",
       "    </tr>\n",
       "    <tr>\n",
       "      <th>5</th>\n",
       "      <td>-1.405448</td>\n",
       "      <td>-1.043324</td>\n",
       "      <td>-0.714856</td>\n",
       "    </tr>\n",
       "    <tr>\n",
       "      <th>6</th>\n",
       "      <td>0.299999</td>\n",
       "      <td>-1.622535</td>\n",
       "      <td>-0.756338</td>\n",
       "    </tr>\n",
       "  </tbody>\n",
       "</table>\n",
       "</div>"
      ],
      "text/plain": [
       "          0         1         2\n",
       "0  0.688404 -1.273165 -0.278524\n",
       "1 -1.622964 -0.343717  0.913310\n",
       "2 -0.407396  0.142303  1.231099\n",
       "3  0.258965  1.095978 -0.312721\n",
       "4  1.669944  1.678714  0.096034\n",
       "5 -1.405448 -1.043324 -0.714856\n",
       "6  0.299999 -1.622535 -0.756338"
      ]
     },
     "execution_count": 114,
     "metadata": {},
     "output_type": "execute_result"
    }
   ],
   "source": [
    "df"
   ]
  },
  {
   "cell_type": "code",
   "execution_count": 115,
   "metadata": {},
   "outputs": [
    {
     "name": "stderr",
     "output_type": "stream",
     "text": [
      "C:\\Users\\hello\\AppData\\Local\\Temp\\ipykernel_28520\\1911323247.py:1: FutureWarning: DataFrame.applymap has been deprecated. Use DataFrame.map instead.\n",
      "  df.applymap(lambda x: x**2)\n"
     ]
    },
    {
     "data": {
      "text/html": [
       "<div>\n",
       "<style scoped>\n",
       "    .dataframe tbody tr th:only-of-type {\n",
       "        vertical-align: middle;\n",
       "    }\n",
       "\n",
       "    .dataframe tbody tr th {\n",
       "        vertical-align: top;\n",
       "    }\n",
       "\n",
       "    .dataframe thead th {\n",
       "        text-align: right;\n",
       "    }\n",
       "</style>\n",
       "<table border=\"1\" class=\"dataframe\">\n",
       "  <thead>\n",
       "    <tr style=\"text-align: right;\">\n",
       "      <th></th>\n",
       "      <th>0</th>\n",
       "      <th>1</th>\n",
       "      <th>2</th>\n",
       "    </tr>\n",
       "  </thead>\n",
       "  <tbody>\n",
       "    <tr>\n",
       "      <th>0</th>\n",
       "      <td>0.473900</td>\n",
       "      <td>1.620948</td>\n",
       "      <td>0.077576</td>\n",
       "    </tr>\n",
       "    <tr>\n",
       "      <th>1</th>\n",
       "      <td>2.634014</td>\n",
       "      <td>0.118141</td>\n",
       "      <td>0.834135</td>\n",
       "    </tr>\n",
       "    <tr>\n",
       "      <th>2</th>\n",
       "      <td>0.165971</td>\n",
       "      <td>0.020250</td>\n",
       "      <td>1.515604</td>\n",
       "    </tr>\n",
       "    <tr>\n",
       "      <th>3</th>\n",
       "      <td>0.067063</td>\n",
       "      <td>1.201168</td>\n",
       "      <td>0.097794</td>\n",
       "    </tr>\n",
       "    <tr>\n",
       "      <th>4</th>\n",
       "      <td>2.788712</td>\n",
       "      <td>2.818079</td>\n",
       "      <td>0.009223</td>\n",
       "    </tr>\n",
       "    <tr>\n",
       "      <th>5</th>\n",
       "      <td>1.975283</td>\n",
       "      <td>1.088526</td>\n",
       "      <td>0.511019</td>\n",
       "    </tr>\n",
       "    <tr>\n",
       "      <th>6</th>\n",
       "      <td>0.089999</td>\n",
       "      <td>2.632620</td>\n",
       "      <td>0.572047</td>\n",
       "    </tr>\n",
       "  </tbody>\n",
       "</table>\n",
       "</div>"
      ],
      "text/plain": [
       "          0         1         2\n",
       "0  0.473900  1.620948  0.077576\n",
       "1  2.634014  0.118141  0.834135\n",
       "2  0.165971  0.020250  1.515604\n",
       "3  0.067063  1.201168  0.097794\n",
       "4  2.788712  2.818079  0.009223\n",
       "5  1.975283  1.088526  0.511019\n",
       "6  0.089999  2.632620  0.572047"
      ]
     },
     "execution_count": 115,
     "metadata": {},
     "output_type": "execute_result"
    }
   ],
   "source": [
    "df.applymap(lambda x: x**2)"
   ]
  },
  {
   "cell_type": "markdown",
   "metadata": {},
   "source": [
    "## 값 치환하기"
   ]
  },
  {
   "cell_type": "markdown",
   "metadata": {},
   "source": [
    "### replace"
   ]
  },
  {
   "cell_type": "code",
   "execution_count": 116,
   "metadata": {},
   "outputs": [],
   "source": [
    "data = Series([1., -999., 2., -999., -1000., 3.])"
   ]
  },
  {
   "cell_type": "code",
   "execution_count": 117,
   "metadata": {},
   "outputs": [
    {
     "data": {
      "text/plain": [
       "0       1.0\n",
       "1    -999.0\n",
       "2       2.0\n",
       "3    -999.0\n",
       "4   -1000.0\n",
       "5       3.0\n",
       "dtype: float64"
      ]
     },
     "execution_count": 117,
     "metadata": {},
     "output_type": "execute_result"
    }
   ],
   "source": [
    "data"
   ]
  },
  {
   "cell_type": "code",
   "execution_count": 118,
   "metadata": {},
   "outputs": [
    {
     "data": {
      "text/plain": [
       "0       1.0\n",
       "1       NaN\n",
       "2       2.0\n",
       "3       NaN\n",
       "4   -1000.0\n",
       "5       3.0\n",
       "dtype: float64"
      ]
     },
     "execution_count": 118,
     "metadata": {},
     "output_type": "execute_result"
    }
   ],
   "source": [
    "data.replace(-999, np.nan)  # replace(바꾸고 싶은 값, 바꿀 값)"
   ]
  },
  {
   "cell_type": "code",
   "execution_count": 119,
   "metadata": {},
   "outputs": [
    {
     "data": {
      "text/plain": [
       "0    1.0\n",
       "1    NaN\n",
       "2    2.0\n",
       "3    NaN\n",
       "4    0.0\n",
       "5    3.0\n",
       "dtype: float64"
      ]
     },
     "execution_count": 119,
     "metadata": {},
     "output_type": "execute_result"
    }
   ],
   "source": [
    "data.replace([-999, -1000], [np.nan, 0])"
   ]
  },
  {
   "cell_type": "markdown",
   "metadata": {},
   "source": [
    "## 축 색인 이름 바꾸기\n",
    "- map이나 rename 이용하여 변경 가능"
   ]
  },
  {
   "cell_type": "markdown",
   "metadata": {},
   "source": [
    "### map"
   ]
  },
  {
   "cell_type": "code",
   "execution_count": 120,
   "metadata": {},
   "outputs": [],
   "source": [
    "data = DataFrame(np.arange(12).reshape((3, 4)),\n",
    "                    index=[\"Ohio\", \"Colorado\", \"New York\"],\n",
    "                    columns=[\"one\", \"two\", \"three\", \"four\"])"
   ]
  },
  {
   "cell_type": "code",
   "execution_count": 121,
   "metadata": {},
   "outputs": [
    {
     "data": {
      "text/html": [
       "<div>\n",
       "<style scoped>\n",
       "    .dataframe tbody tr th:only-of-type {\n",
       "        vertical-align: middle;\n",
       "    }\n",
       "\n",
       "    .dataframe tbody tr th {\n",
       "        vertical-align: top;\n",
       "    }\n",
       "\n",
       "    .dataframe thead th {\n",
       "        text-align: right;\n",
       "    }\n",
       "</style>\n",
       "<table border=\"1\" class=\"dataframe\">\n",
       "  <thead>\n",
       "    <tr style=\"text-align: right;\">\n",
       "      <th></th>\n",
       "      <th>one</th>\n",
       "      <th>two</th>\n",
       "      <th>three</th>\n",
       "      <th>four</th>\n",
       "    </tr>\n",
       "  </thead>\n",
       "  <tbody>\n",
       "    <tr>\n",
       "      <th>Ohio</th>\n",
       "      <td>0</td>\n",
       "      <td>1</td>\n",
       "      <td>2</td>\n",
       "      <td>3</td>\n",
       "    </tr>\n",
       "    <tr>\n",
       "      <th>Colorado</th>\n",
       "      <td>4</td>\n",
       "      <td>5</td>\n",
       "      <td>6</td>\n",
       "      <td>7</td>\n",
       "    </tr>\n",
       "    <tr>\n",
       "      <th>New York</th>\n",
       "      <td>8</td>\n",
       "      <td>9</td>\n",
       "      <td>10</td>\n",
       "      <td>11</td>\n",
       "    </tr>\n",
       "  </tbody>\n",
       "</table>\n",
       "</div>"
      ],
      "text/plain": [
       "          one  two  three  four\n",
       "Ohio        0    1      2     3\n",
       "Colorado    4    5      6     7\n",
       "New York    8    9     10    11"
      ]
     },
     "execution_count": 121,
     "metadata": {},
     "output_type": "execute_result"
    }
   ],
   "source": [
    "data"
   ]
  },
  {
   "cell_type": "code",
   "execution_count": 122,
   "metadata": {},
   "outputs": [],
   "source": [
    "def transform(x):\n",
    "    return x[:4].upper()"
   ]
  },
  {
   "cell_type": "code",
   "execution_count": 123,
   "metadata": {},
   "outputs": [
    {
     "data": {
      "text/plain": [
       "Index(['Ohio', 'Colorado', 'New York'], dtype='object')"
      ]
     },
     "execution_count": 123,
     "metadata": {},
     "output_type": "execute_result"
    }
   ],
   "source": [
    "data.index"
   ]
  },
  {
   "cell_type": "code",
   "execution_count": 124,
   "metadata": {},
   "outputs": [],
   "source": [
    "data.index = data.index.map(transform)"
   ]
  },
  {
   "cell_type": "code",
   "execution_count": 125,
   "metadata": {},
   "outputs": [
    {
     "data": {
      "text/html": [
       "<div>\n",
       "<style scoped>\n",
       "    .dataframe tbody tr th:only-of-type {\n",
       "        vertical-align: middle;\n",
       "    }\n",
       "\n",
       "    .dataframe tbody tr th {\n",
       "        vertical-align: top;\n",
       "    }\n",
       "\n",
       "    .dataframe thead th {\n",
       "        text-align: right;\n",
       "    }\n",
       "</style>\n",
       "<table border=\"1\" class=\"dataframe\">\n",
       "  <thead>\n",
       "    <tr style=\"text-align: right;\">\n",
       "      <th></th>\n",
       "      <th>one</th>\n",
       "      <th>two</th>\n",
       "      <th>three</th>\n",
       "      <th>four</th>\n",
       "    </tr>\n",
       "  </thead>\n",
       "  <tbody>\n",
       "    <tr>\n",
       "      <th>OHIO</th>\n",
       "      <td>0</td>\n",
       "      <td>1</td>\n",
       "      <td>2</td>\n",
       "      <td>3</td>\n",
       "    </tr>\n",
       "    <tr>\n",
       "      <th>COLO</th>\n",
       "      <td>4</td>\n",
       "      <td>5</td>\n",
       "      <td>6</td>\n",
       "      <td>7</td>\n",
       "    </tr>\n",
       "    <tr>\n",
       "      <th>NEW</th>\n",
       "      <td>8</td>\n",
       "      <td>9</td>\n",
       "      <td>10</td>\n",
       "      <td>11</td>\n",
       "    </tr>\n",
       "  </tbody>\n",
       "</table>\n",
       "</div>"
      ],
      "text/plain": [
       "      one  two  three  four\n",
       "OHIO    0    1      2     3\n",
       "COLO    4    5      6     7\n",
       "NEW     8    9     10    11"
      ]
     },
     "execution_count": 125,
     "metadata": {},
     "output_type": "execute_result"
    }
   ],
   "source": [
    "data"
   ]
  },
  {
   "cell_type": "markdown",
   "metadata": {},
   "source": [
    "### rename"
   ]
  },
  {
   "cell_type": "code",
   "execution_count": 126,
   "metadata": {},
   "outputs": [
    {
     "data": {
      "text/html": [
       "<div>\n",
       "<style scoped>\n",
       "    .dataframe tbody tr th:only-of-type {\n",
       "        vertical-align: middle;\n",
       "    }\n",
       "\n",
       "    .dataframe tbody tr th {\n",
       "        vertical-align: top;\n",
       "    }\n",
       "\n",
       "    .dataframe thead th {\n",
       "        text-align: right;\n",
       "    }\n",
       "</style>\n",
       "<table border=\"1\" class=\"dataframe\">\n",
       "  <thead>\n",
       "    <tr style=\"text-align: right;\">\n",
       "      <th></th>\n",
       "      <th>ONE</th>\n",
       "      <th>TWO</th>\n",
       "      <th>THREE</th>\n",
       "      <th>FOUR</th>\n",
       "    </tr>\n",
       "  </thead>\n",
       "  <tbody>\n",
       "    <tr>\n",
       "      <th>Ohio</th>\n",
       "      <td>0</td>\n",
       "      <td>1</td>\n",
       "      <td>2</td>\n",
       "      <td>3</td>\n",
       "    </tr>\n",
       "    <tr>\n",
       "      <th>Colo</th>\n",
       "      <td>4</td>\n",
       "      <td>5</td>\n",
       "      <td>6</td>\n",
       "      <td>7</td>\n",
       "    </tr>\n",
       "    <tr>\n",
       "      <th>New</th>\n",
       "      <td>8</td>\n",
       "      <td>9</td>\n",
       "      <td>10</td>\n",
       "      <td>11</td>\n",
       "    </tr>\n",
       "  </tbody>\n",
       "</table>\n",
       "</div>"
      ],
      "text/plain": [
       "      ONE  TWO  THREE  FOUR\n",
       "Ohio    0    1      2     3\n",
       "Colo    4    5      6     7\n",
       "New     8    9     10    11"
      ]
     },
     "execution_count": 126,
     "metadata": {},
     "output_type": "execute_result"
    }
   ],
   "source": [
    "data.rename(index=str.title, columns=str.upper)"
   ]
  },
  {
   "cell_type": "code",
   "execution_count": 127,
   "metadata": {},
   "outputs": [
    {
     "data": {
      "text/html": [
       "<div>\n",
       "<style scoped>\n",
       "    .dataframe tbody tr th:only-of-type {\n",
       "        vertical-align: middle;\n",
       "    }\n",
       "\n",
       "    .dataframe tbody tr th {\n",
       "        vertical-align: top;\n",
       "    }\n",
       "\n",
       "    .dataframe thead th {\n",
       "        text-align: right;\n",
       "    }\n",
       "</style>\n",
       "<table border=\"1\" class=\"dataframe\">\n",
       "  <thead>\n",
       "    <tr style=\"text-align: right;\">\n",
       "      <th></th>\n",
       "      <th>one</th>\n",
       "      <th>two</th>\n",
       "      <th>three</th>\n",
       "      <th>four</th>\n",
       "    </tr>\n",
       "  </thead>\n",
       "  <tbody>\n",
       "    <tr>\n",
       "      <th>OHIO</th>\n",
       "      <td>0</td>\n",
       "      <td>1</td>\n",
       "      <td>2</td>\n",
       "      <td>3</td>\n",
       "    </tr>\n",
       "    <tr>\n",
       "      <th>COLO</th>\n",
       "      <td>4</td>\n",
       "      <td>5</td>\n",
       "      <td>6</td>\n",
       "      <td>7</td>\n",
       "    </tr>\n",
       "    <tr>\n",
       "      <th>NEW</th>\n",
       "      <td>8</td>\n",
       "      <td>9</td>\n",
       "      <td>10</td>\n",
       "      <td>11</td>\n",
       "    </tr>\n",
       "  </tbody>\n",
       "</table>\n",
       "</div>"
      ],
      "text/plain": [
       "      one  two  three  four\n",
       "OHIO    0    1      2     3\n",
       "COLO    4    5      6     7\n",
       "NEW     8    9     10    11"
      ]
     },
     "execution_count": 127,
     "metadata": {},
     "output_type": "execute_result"
    }
   ],
   "source": [
    "data"
   ]
  },
  {
   "cell_type": "code",
   "execution_count": 128,
   "metadata": {},
   "outputs": [
    {
     "data": {
      "text/html": [
       "<div>\n",
       "<style scoped>\n",
       "    .dataframe tbody tr th:only-of-type {\n",
       "        vertical-align: middle;\n",
       "    }\n",
       "\n",
       "    .dataframe tbody tr th {\n",
       "        vertical-align: top;\n",
       "    }\n",
       "\n",
       "    .dataframe thead th {\n",
       "        text-align: right;\n",
       "    }\n",
       "</style>\n",
       "<table border=\"1\" class=\"dataframe\">\n",
       "  <thead>\n",
       "    <tr style=\"text-align: right;\">\n",
       "      <th></th>\n",
       "      <th>one</th>\n",
       "      <th>two</th>\n",
       "      <th>peekaboo</th>\n",
       "      <th>four</th>\n",
       "    </tr>\n",
       "  </thead>\n",
       "  <tbody>\n",
       "    <tr>\n",
       "      <th>INDIANA</th>\n",
       "      <td>0</td>\n",
       "      <td>1</td>\n",
       "      <td>2</td>\n",
       "      <td>3</td>\n",
       "    </tr>\n",
       "    <tr>\n",
       "      <th>COLO</th>\n",
       "      <td>4</td>\n",
       "      <td>5</td>\n",
       "      <td>6</td>\n",
       "      <td>7</td>\n",
       "    </tr>\n",
       "    <tr>\n",
       "      <th>NEW</th>\n",
       "      <td>8</td>\n",
       "      <td>9</td>\n",
       "      <td>10</td>\n",
       "      <td>11</td>\n",
       "    </tr>\n",
       "  </tbody>\n",
       "</table>\n",
       "</div>"
      ],
      "text/plain": [
       "         one  two  peekaboo  four\n",
       "INDIANA    0    1         2     3\n",
       "COLO       4    5         6     7\n",
       "NEW        8    9        10    11"
      ]
     },
     "execution_count": 128,
     "metadata": {},
     "output_type": "execute_result"
    }
   ],
   "source": [
    "data.rename(index={\"OHIO\": \"INDIANA\"},\n",
    "            columns={\"three\": \"peekaboo\"})"
   ]
  },
  {
   "cell_type": "markdown",
   "metadata": {},
   "source": [
    "## 이산화\n",
    "- 연속적인 데이터를 이산적 데이터로 분할\n",
    "- 분석을 위해 그룹으로 나눔"
   ]
  },
  {
   "cell_type": "markdown",
   "metadata": {},
   "source": [
    "### cut, qcut < 중요!!\n",
    "- pd.cut(x, bins, labels, right)\n",
    "- x: 이산화 하기 위한 Series/리스트\n",
    "- bins: 범위값을 나타냄\n",
    "- labels: 이산화 된 데이터를 부를 이름\n",
    "- right: 오른쪽에 포함/왼쪽에 포함"
   ]
  },
  {
   "cell_type": "markdown",
   "metadata": {},
   "source": [
    "### cut"
   ]
  },
  {
   "cell_type": "code",
   "execution_count": 129,
   "metadata": {},
   "outputs": [],
   "source": [
    "ages = [20, 22, 25, 27, 21, 23, 37, 31, 61, 45, 41, 32]"
   ]
  },
  {
   "cell_type": "code",
   "execution_count": 130,
   "metadata": {},
   "outputs": [
    {
     "data": {
      "text/plain": [
       "[(18, 25], (18, 25], (18, 25], (25, 35], (18, 25], ..., (25, 35], (60, 100], (35, 60], (35, 60], (25, 35]]\n",
       "Length: 12\n",
       "Categories (4, interval[int64, right]): [(18, 25] < (25, 35] < (35, 60] < (60, 100]]"
      ]
     },
     "execution_count": 130,
     "metadata": {},
     "output_type": "execute_result"
    }
   ],
   "source": [
    "bins = [18, 25, 35, 60, 100]\n",
    "age_categories = pd.cut(ages, bins)\n",
    "age_categories"
   ]
  },
  {
   "cell_type": "code",
   "execution_count": 131,
   "metadata": {},
   "outputs": [
    {
     "data": {
      "text/plain": [
       "[[18, 25), [18, 25), [25, 35), [25, 35), [18, 25), ..., [25, 35), [60, 100), [35, 60), [35, 60), [25, 35)]\n",
       "Length: 12\n",
       "Categories (4, interval[int64, left]): [[18, 25) < [25, 35) < [35, 60) < [60, 100)]"
      ]
     },
     "execution_count": 131,
     "metadata": {},
     "output_type": "execute_result"
    }
   ],
   "source": [
    "pd.cut(ages, bins, right=False) # 우측 값 포함 x -> 다음 그룹으로 넘어감"
   ]
  },
  {
   "cell_type": "code",
   "execution_count": 132,
   "metadata": {},
   "outputs": [
    {
     "data": {
      "text/plain": [
       "['Youth', 'Youth', 'Youth', 'YoungAdult', 'Youth', ..., 'YoungAdult', 'Senior', 'MiddleAged', 'MiddleAged', 'YoungAdult']\n",
       "Length: 12\n",
       "Categories (4, object): ['Youth' < 'YoungAdult' < 'MiddleAged' < 'Senior']"
      ]
     },
     "execution_count": 132,
     "metadata": {},
     "output_type": "execute_result"
    }
   ],
   "source": [
    "group_names = [\"Youth\", \"YoungAdult\", \"MiddleAged\", \"Senior\"]\n",
    "pd.cut(ages, bins, labels=group_names)"
   ]
  },
  {
   "cell_type": "markdown",
   "metadata": {},
   "source": [
    "### qcut"
   ]
  },
  {
   "cell_type": "code",
   "execution_count": 133,
   "metadata": {},
   "outputs": [],
   "source": [
    "data = np.random.standard_normal(1000)"
   ]
  },
  {
   "cell_type": "code",
   "execution_count": 134,
   "metadata": {},
   "outputs": [
    {
     "data": {
      "text/plain": [
       "array([-1.33988264e+00,  1.33048641e+00, -5.95455371e-01, -1.14459124e+00,\n",
       "       -7.35313334e-02, -1.14573625e+00,  5.06095132e-01,  9.31011563e-01,\n",
       "        2.68019673e-01,  5.54619356e-01,  8.76232129e-01,  1.01926057e+00,\n",
       "        1.77989515e-01, -1.23395997e+00, -4.00597609e-01,  1.14464978e-01,\n",
       "        6.21471870e-01, -1.42374514e-01,  2.31422128e-02, -1.31677711e+00,\n",
       "       -2.21531534e+00,  1.10973505e-01, -1.93327011e+00,  1.24099070e-01,\n",
       "       -7.75630391e-01, -5.68495803e-01, -1.65347972e+00,  4.90477513e-01,\n",
       "       -1.03646898e-01, -4.83469797e-01, -1.03445238e+00, -2.17328581e+00,\n",
       "       -5.59956657e-01,  1.26625332e+00,  1.18877104e+00, -2.12581032e+00,\n",
       "       -2.41622065e+00, -1.44987458e+00, -6.49325695e-01, -1.07279401e+00,\n",
       "       -5.86253052e-01,  1.77248439e+00, -2.14316726e-01, -3.93190736e-01,\n",
       "        3.43054234e-01,  2.51543698e+00, -1.09615257e+00, -6.57542904e-01,\n",
       "        4.16028781e-01, -3.04346265e-01,  3.40476774e-01,  2.08007165e-01,\n",
       "        1.02278011e+00,  8.11071880e-01, -4.63684246e-02,  6.45677171e-01,\n",
       "       -1.97620721e-01,  5.33274020e-02,  7.68362071e-01, -1.26325672e-01,\n",
       "       -4.95078579e-01,  2.76462477e-01, -3.26592728e-01,  4.82739487e-01,\n",
       "       -1.60583713e+00, -1.24259000e+00, -5.79804987e-01, -1.62559741e+00,\n",
       "        1.96111788e+00, -9.02767205e-01,  1.64140796e+00, -9.03429190e-01,\n",
       "        2.31907596e+00, -9.35853517e-01, -3.33505246e-01, -5.96725505e-01,\n",
       "       -9.97888478e-02, -1.49692795e+00,  3.29089452e-01,  9.05425490e-01,\n",
       "       -2.79826451e-01,  4.46690706e-01, -1.04897540e+00, -1.25790366e+00,\n",
       "       -1.44255866e+00, -1.26218341e+00,  4.85364912e-01, -7.83159203e-02,\n",
       "        3.50865576e-01,  9.60360379e-01, -1.01650521e+00,  7.66740345e-01,\n",
       "       -1.24646948e+00,  1.18653518e-01,  3.37256105e-01, -4.70811836e-01,\n",
       "        3.30551977e-01,  2.96973924e-01, -7.51917057e-01,  1.08515469e+00,\n",
       "       -1.30237539e-01,  1.02513785e-01,  1.31609233e+00,  4.92896333e-01,\n",
       "       -1.22172582e-01,  2.16171610e+00, -3.37782283e-01,  2.00362639e+00,\n",
       "       -1.37990182e+00,  1.04659495e+00, -7.30997648e-01,  3.62103048e+00,\n",
       "       -2.04151123e+00, -1.22520510e+00, -9.55418641e-01, -1.95898624e+00,\n",
       "       -3.77299487e-01, -4.67291214e-02, -1.17230171e+00, -5.03655405e-01,\n",
       "        1.43484398e+00, -5.24965861e-01, -2.59246253e-01, -5.28093151e-01,\n",
       "        4.33884527e-01,  1.26733109e+00, -5.88690480e-03,  3.17539934e-01,\n",
       "        1.06019157e+00, -5.25109365e-01,  6.06765254e-01, -1.96532580e-01,\n",
       "       -3.33450005e-01, -1.44040143e+00,  1.26986154e+00, -9.39526092e-01,\n",
       "       -1.06153090e+00,  1.17635010e+00,  1.97149367e+00, -1.70656472e-01,\n",
       "        8.06701134e-01,  9.83607161e-01,  6.48641277e-01, -1.97112218e-01,\n",
       "        4.05591864e-01, -1.23923975e+00,  9.83089205e-01,  1.38427873e+00,\n",
       "        2.06813624e-01,  5.58122636e-01, -8.44824598e-01,  3.68907390e-01,\n",
       "        2.32898308e-01, -2.31692742e-01, -9.37559930e-01,  2.99004371e-01,\n",
       "        2.41890413e+00,  1.54628662e+00,  7.99223210e-01, -9.13920766e-01,\n",
       "        1.03162655e-01, -9.24282389e-01, -1.13500749e+00,  5.70075710e-01,\n",
       "       -3.78462855e-01, -1.72987909e+00,  4.38076607e-02,  3.04614936e-03,\n",
       "       -2.01909733e+00, -9.52733902e-01, -3.11048173e-01, -4.98906183e-01,\n",
       "        1.00758297e+00,  1.78232381e-01, -6.23610771e-02, -8.24169582e-01,\n",
       "        1.03766044e+00,  1.26447834e+00,  1.45894026e+00, -5.30864046e-02,\n",
       "        3.54612999e-01, -3.37676119e-01,  1.02888345e-01, -2.68469450e-01,\n",
       "       -1.04317073e+00,  6.56005570e-01,  3.49723306e-01, -3.65003012e-02,\n",
       "        4.90723589e-01,  7.00031883e-03,  3.23296096e-01,  5.18495486e-01,\n",
       "        4.94338759e-01, -1.13874907e+00,  1.96276165e-02,  1.01724484e+00,\n",
       "        6.90099680e-01, -8.20410201e-01, -2.92786089e-01,  5.16989939e-01,\n",
       "        4.64436165e-01, -1.50050394e-01, -2.00174508e+00, -2.62389866e-01,\n",
       "        3.54912640e-01, -1.39091163e+00,  5.99770732e-01, -4.27437131e-01,\n",
       "       -1.22268023e+00, -7.43854819e-02,  1.65247680e+00, -3.43588628e-01,\n",
       "        5.81252999e-01, -2.82409334e-01, -1.12617672e+00,  9.43186474e-01,\n",
       "       -2.38941073e+00,  4.50603888e-01,  3.46755550e-01, -1.29574523e+00,\n",
       "        8.87526492e-01,  9.58861588e-02,  9.03991434e-01, -9.96768244e-01,\n",
       "        9.00379924e-02, -8.73976546e-01, -4.83852142e-01, -8.79675126e-01,\n",
       "        9.97532257e-02,  2.34508053e+00,  5.34284046e-01, -4.23897836e-02,\n",
       "        6.20694848e-02,  5.64023796e-01,  2.12052838e-01,  5.51891302e-01,\n",
       "        2.59748036e-01,  3.09122839e-01, -2.73681701e-01,  2.26715629e-01,\n",
       "        1.87861950e+00,  2.72006664e-01, -1.77236112e+00,  1.68052848e+00,\n",
       "       -7.96827117e-02,  9.11231065e-01, -1.07288886e+00, -3.18569831e-02,\n",
       "        2.38767940e-01,  4.74090843e-01, -5.31173748e-01,  1.00194555e-01,\n",
       "       -9.81999276e-02,  1.69762303e-01,  4.60550048e-01, -6.84679972e-02,\n",
       "       -9.84879042e-01, -1.16675473e+00,  1.30471360e+00, -2.15734257e+00,\n",
       "       -8.16827866e-01, -7.35794059e-02,  8.66601126e-01,  2.31065807e-01,\n",
       "       -6.66326493e-01, -8.21845961e-01,  7.97238325e-01, -1.64516089e+00,\n",
       "        7.65268659e-01, -2.34842724e+00, -4.16072945e-01,  8.15489012e-01,\n",
       "       -5.29332878e-01,  4.79267452e-01, -7.71558628e-01,  1.21561314e+00,\n",
       "        1.86908592e+00, -1.65592089e-01,  7.44801677e-01, -7.38902243e-01,\n",
       "        5.28587157e-01, -3.29560462e-01,  4.72240366e-01, -4.00960854e-01,\n",
       "       -3.67278774e-01,  3.26894099e-01, -8.09668979e-01, -2.89286009e-01,\n",
       "       -3.24779920e-01, -1.13927934e+00,  1.78866897e-01,  2.80166134e-01,\n",
       "        5.88147288e-01, -2.10884138e-02, -4.72369242e-01,  9.14309162e-01,\n",
       "       -9.88544314e-01, -1.88426980e+00,  1.59356202e+00, -3.17731862e-01,\n",
       "       -4.17068880e-01,  1.61802247e+00,  5.82206211e-01, -4.73799212e-01,\n",
       "        2.38670950e+00, -6.07064228e-01, -2.15566387e+00,  9.40181850e-01,\n",
       "       -3.17683535e-01, -4.97948842e-01, -7.05643767e-01,  2.01462289e+00,\n",
       "       -7.04741217e-01,  7.86139852e-02,  2.83611176e-01,  1.30350589e+00,\n",
       "        7.49904991e-01, -1.51825476e+00,  5.58161683e-01, -7.23671185e-01,\n",
       "        1.28107452e+00, -5.16107257e-01,  1.34036266e+00,  2.36248610e-01,\n",
       "        1.87851809e+00, -2.09307645e+00, -1.12207057e+00, -1.64939007e+00,\n",
       "       -8.38092812e-01, -2.76576225e-01, -1.24620840e+00,  9.07984987e-02,\n",
       "        1.37016463e-01, -7.67481518e-01, -1.64571928e+00,  2.66575522e-01,\n",
       "        9.65732081e-01, -7.17265558e-01,  1.28474023e+00, -7.38500574e-01,\n",
       "       -4.40945924e-02, -8.62681830e-01,  1.41667492e-02,  7.85453533e-01,\n",
       "       -2.33967606e+00,  1.11512194e+00, -7.96617959e-01,  2.40628540e-01,\n",
       "        5.51103255e-01,  1.28601963e+00, -9.75602242e-02,  1.61477985e-01,\n",
       "        8.24389404e-02, -1.05971030e+00,  1.21254734e+00,  2.11061970e+00,\n",
       "        6.76821374e-01, -1.05384780e+00, -1.23746382e+00,  1.86016913e+00,\n",
       "        1.33911920e+00, -2.73628522e-02, -1.08155608e+00,  2.34538418e-01,\n",
       "       -5.49945031e-01, -3.40183343e-01,  2.96004824e-01, -7.82308122e-03,\n",
       "        5.60341539e-01, -1.55348715e+00,  1.15895365e+00,  1.08753930e+00,\n",
       "        1.31230991e+00, -1.09052327e-01, -1.46210205e+00, -3.83902663e-01,\n",
       "        3.63387862e-01, -4.34911547e-01, -1.01186381e+00, -6.07108854e-01,\n",
       "        2.40011282e+00,  1.40671365e+00,  2.78115986e-02, -2.91304949e-01,\n",
       "        6.62654101e-01, -1.18565673e+00, -2.15119122e-01,  4.95982603e-01,\n",
       "       -4.11726525e-02, -2.01988294e+00, -5.82605630e-01,  3.28589592e-01,\n",
       "        7.00888112e-01,  3.59048054e-01, -4.97564620e-02, -7.00406381e-01,\n",
       "       -2.10118313e-01,  3.53460092e-01, -5.50285576e-01,  2.07787854e-01,\n",
       "        5.08283333e-01, -7.64419868e-01, -2.37012559e-01,  4.29816138e-01,\n",
       "       -2.45546344e-02,  1.97418282e+00, -9.81761752e-02, -6.88512134e-01,\n",
       "        1.19947016e+00,  4.23021938e-01, -1.29872489e-01, -1.86063624e+00,\n",
       "        5.89056841e-01,  2.08082300e+00, -2.08794760e+00,  1.79052638e-01,\n",
       "       -9.02208094e-01,  8.37254286e-01,  1.75927111e+00, -1.24765817e+00,\n",
       "       -6.30591601e-02,  1.90910127e+00, -3.52889551e-01, -3.60189603e-01,\n",
       "       -1.23096538e+00,  1.07188691e+00,  5.65821051e-01, -9.97078136e-01,\n",
       "        3.56417501e-01,  8.89916431e-01, -7.97227087e-01,  1.52598012e+00,\n",
       "        9.16398193e-01,  1.46020890e+00, -2.93748453e-01, -2.94174817e-01,\n",
       "        3.65652256e-01,  3.29794832e-01,  1.51138067e+00, -5.49325271e-01,\n",
       "       -7.86396139e-01, -1.00732803e+00,  3.42958429e-01, -7.30554368e-01,\n",
       "       -5.70431685e-01, -6.60968805e-01,  1.01708119e+00, -6.94038540e-01,\n",
       "       -2.97707763e-01,  1.76781262e-01, -6.21233311e-01,  1.99035014e+00,\n",
       "        1.53423963e+00,  1.91553700e-01, -6.24505125e-02,  2.10838343e+00,\n",
       "        4.66012263e-02, -5.62972960e-01, -6.09577087e-01, -4.00116986e-01,\n",
       "        2.70565211e-01, -1.85125797e+00, -3.74480508e-01,  3.03279459e-01,\n",
       "        2.20046120e-01, -5.08135094e-01, -3.97172223e-01, -1.95953555e+00,\n",
       "       -1.30166147e+00,  1.44458325e-03, -2.28746636e-01, -2.02815446e-01,\n",
       "        1.08258920e+00,  1.57789421e-01,  1.96861806e+00,  1.43046716e+00,\n",
       "        9.59429011e-01, -4.98484886e-02,  5.39257822e-02, -4.67072812e-01,\n",
       "       -1.12932120e-01, -3.35109693e-01,  7.07084773e-01, -1.86065844e+00,\n",
       "        4.49903604e-02,  6.03376538e-02, -2.06773326e+00, -1.57581551e-01,\n",
       "       -1.01679607e+00, -1.75396238e+00, -3.77554022e-01,  2.85514846e-01,\n",
       "        2.08994241e+00, -4.45047962e-01, -6.00768963e-01, -4.98491896e-01,\n",
       "        4.46426832e-01, -1.02647481e-01, -9.65355813e-02,  2.39993792e-01,\n",
       "        3.58122629e-01, -9.11208435e-01, -1.42739213e+00,  1.12709561e+00,\n",
       "       -2.05123105e-01,  3.31059506e+00,  1.64496252e-01, -1.70320098e-01,\n",
       "        9.46270091e-01,  5.35195971e-01,  5.16521025e-01, -4.80899602e-01,\n",
       "       -1.01425917e+00,  7.88294753e-01, -9.87178955e-01,  1.95511372e+00,\n",
       "       -8.47429266e-01,  1.32050332e+00,  7.85749599e-01, -2.61930637e-01,\n",
       "       -6.97815009e-01,  1.37175777e+00,  1.07707640e-02, -1.03857502e+00,\n",
       "        1.43677961e-01, -4.60178447e-01,  1.30968525e+00, -3.44602058e-02,\n",
       "        4.64145490e-02, -2.87196512e-01,  5.46926374e-01, -1.24847674e+00,\n",
       "       -1.09667590e+00,  7.67757801e-01, -2.38647913e-01,  6.18069135e-01,\n",
       "       -5.06675851e-02,  1.74827353e+00,  6.52766350e-01,  8.15337905e-01,\n",
       "        4.48371441e-01,  1.59738568e+00, -7.31384470e-01,  1.08199211e+00,\n",
       "        5.60763297e-02, -1.08396046e+00,  3.05925322e-01, -3.60533313e-01,\n",
       "       -1.19038760e+00,  2.03187679e+00, -2.43743247e-01,  1.35565678e+00,\n",
       "        2.38354559e+00,  1.39744204e+00, -1.65939072e+00, -9.29913988e-01,\n",
       "        7.85307424e-01, -1.42480554e+00,  4.62161438e-02, -1.08234423e-01,\n",
       "        1.24279793e+00, -2.59878437e-01, -2.44557807e-01, -7.89578801e-01,\n",
       "        8.53704218e-01, -9.35488961e-01,  1.63727045e+00, -1.43240294e+00,\n",
       "       -8.80172448e-01, -3.39027178e-01, -3.81507658e-01, -1.07478996e+00,\n",
       "       -5.80899400e-01,  9.42831568e-01, -1.50419312e+00, -3.75236479e-01,\n",
       "       -8.52746897e-01,  9.64800386e-01, -1.13102043e+00,  1.06722487e+00,\n",
       "        8.13637239e-01, -1.63711320e-01,  1.59871440e+00, -1.91852042e+00,\n",
       "        9.25766154e-01,  9.08836936e-01, -9.64866700e-01,  3.65805855e-01,\n",
       "       -2.04608146e+00,  3.68331230e-01,  2.24279088e-01, -9.77118079e-01,\n",
       "       -5.80718382e-02, -2.18495455e+00, -2.13838573e+00, -1.36727387e-01,\n",
       "       -8.05322875e-01,  4.22810539e-01, -1.08663951e+00, -2.77084472e+00,\n",
       "       -6.51218373e-01,  6.30391185e-01,  6.13369793e-01, -1.06141496e+00,\n",
       "       -2.06425610e+00, -1.51465885e+00,  1.02839449e+00, -5.34735804e-01,\n",
       "        1.33886749e+00,  2.11306329e-01, -1.47278307e+00, -8.72894105e-02,\n",
       "        1.23461580e+00, -1.63310629e+00, -1.40474342e-01,  1.43986400e+00,\n",
       "       -1.57754324e+00,  6.15181890e-01, -2.39443820e-01, -5.38722021e-01,\n",
       "       -2.58547557e-01,  1.86550939e+00, -2.19718200e-01, -5.96003431e-01,\n",
       "       -1.53249577e-01,  1.41924677e+00, -2.48650666e+00,  5.45456746e-01,\n",
       "       -2.32570739e-01, -6.39501830e-01,  1.74095884e+00,  4.50558923e-01,\n",
       "       -6.78183711e-01,  6.14096316e-01, -1.20138022e+00,  3.24144536e-01,\n",
       "       -1.60352909e-01,  3.58235804e-01,  3.76918826e-01, -1.78953570e+00,\n",
       "       -3.62099418e+00,  1.64195425e+00, -2.23992870e-01,  5.72728890e-02,\n",
       "       -1.19410377e+00, -1.22750352e+00,  6.62700846e-01, -2.37325014e-01,\n",
       "       -4.18472626e-01, -1.73893950e+00,  1.79522281e+00,  1.45940356e+00,\n",
       "       -1.73228846e+00, -8.68458325e-01,  4.62561376e-01, -9.69166315e-01,\n",
       "        1.16165630e+00,  1.19199296e+00, -9.19515940e-01,  5.13513698e-01,\n",
       "       -6.60999737e-01, -8.06876582e-02, -5.95340661e-01,  4.83072971e-01,\n",
       "        6.36369751e-01, -1.09225183e+00,  3.92184271e-01,  4.49449608e-01,\n",
       "        1.30591455e+00,  6.45198194e-01, -1.47145120e+00,  1.67825248e-01,\n",
       "       -5.06929454e-01, -3.67528868e-01, -3.57175899e-01,  9.65353005e-02,\n",
       "        1.59701914e+00,  2.32538776e-01,  2.83983084e-01, -5.45655437e-01,\n",
       "        9.32568080e-01, -4.30784432e-01, -3.84729847e-01, -6.65204255e-01,\n",
       "        1.58795798e+00, -2.64135004e-01, -7.81934676e-01,  3.93930436e-02,\n",
       "       -9.49584963e-01,  1.22760456e+00,  6.69344370e-01,  2.37493208e-01,\n",
       "       -2.13661151e-01, -6.29377764e-01,  1.62642824e+00, -6.29060681e-02,\n",
       "       -5.13114779e-01,  1.42290032e-01,  2.42249221e-01,  1.76106976e-01,\n",
       "        2.12098511e+00, -2.03249884e+00, -9.83604093e-01, -1.34144806e+00,\n",
       "       -2.55340456e-01,  6.56716864e-01,  6.53508915e-01, -9.61184395e-01,\n",
       "       -3.33563995e-01,  1.19684724e+00,  1.59434139e+00,  2.70917946e-01,\n",
       "       -7.74345294e-01,  1.29375748e+00, -7.13943773e-02,  1.80440006e+00,\n",
       "       -8.73944413e-01,  8.71547458e-01,  2.79510356e-01,  1.10836387e+00,\n",
       "       -1.74706713e-01,  7.73057491e-01, -6.05268662e-01, -7.45051664e-02,\n",
       "       -2.07508327e-01, -1.54653303e+00,  2.93611575e-01, -1.23388499e+00,\n",
       "        3.56602585e-01,  2.10741750e-01, -2.15688894e+00, -1.30480128e+00,\n",
       "       -3.84581230e-02, -2.77809726e+00,  2.74911166e-02, -7.03153030e-01,\n",
       "       -1.70643114e-01,  1.21596177e+00, -9.29479456e-01, -6.14090726e-02,\n",
       "       -1.80546730e+00, -3.75401559e-01, -7.72224156e-01,  5.97822943e-01,\n",
       "        1.06217307e+00,  2.26817821e-01, -5.20326130e-02, -2.15219461e-01,\n",
       "        1.35939594e+00,  1.03951152e+00,  1.85019280e+00,  3.72672493e-01,\n",
       "        3.43070293e-01,  3.58360379e-01, -2.37530730e+00,  1.17777897e+00,\n",
       "        1.47564534e+00, -9.45073389e-01, -2.91758431e-02, -5.70835647e-01,\n",
       "       -1.12988114e+00,  5.84391381e-01,  8.75228597e-02, -1.02223897e+00,\n",
       "       -4.68401589e-01,  1.84696245e+00,  1.29044589e+00,  2.42064881e-01,\n",
       "       -2.22769839e+00,  6.36054827e-01, -6.44785931e-01,  1.52467817e+00,\n",
       "        3.76277325e-02,  4.99022548e-01, -6.63303136e-01,  1.23938173e+00,\n",
       "       -3.82376077e-01, -1.17125971e+00,  5.72739918e-01, -1.01646216e+00,\n",
       "       -3.85261745e-01, -1.73620545e+00, -1.10762180e+00, -2.10326687e-03,\n",
       "       -6.20587548e-01, -9.90823376e-01, -3.70007427e-01, -1.66136716e+00,\n",
       "       -1.69818384e-01, -5.17534667e-01, -6.78506039e-01,  3.62843926e-01,\n",
       "        9.38228727e-01, -1.31811072e+00, -5.11854972e-01, -5.58349271e-01,\n",
       "       -6.12690358e-01, -1.26382848e+00, -6.86641892e-01, -2.09261043e+00,\n",
       "       -6.03233801e-01,  1.18698310e+00, -1.37696737e+00,  3.40417465e-01,\n",
       "        4.61834239e-01, -8.66370360e-01,  7.54323339e-01,  7.39648291e-01,\n",
       "       -1.94107657e+00,  2.01776588e-03, -4.94783140e-01,  1.79753634e+00,\n",
       "       -6.43807248e-01, -8.87757658e-01,  1.06961370e-01,  5.90401964e-01,\n",
       "        1.52778944e+00, -5.35488730e-01, -2.37357230e+00, -3.50497558e+00,\n",
       "        3.31329953e-01, -6.33764070e-01,  1.10774715e+00, -4.41197794e-01,\n",
       "       -6.62610267e-01, -5.99993116e-01, -1.08374500e-01,  5.80011345e-01,\n",
       "       -9.11610168e-01,  6.39865856e-01, -2.16727927e-01, -2.65894964e-02,\n",
       "        6.62342300e-01, -1.07698689e+00,  3.56076361e-01, -1.14554315e+00,\n",
       "        4.22385858e-01,  6.56078105e-01,  1.43245753e+00,  3.42289949e-01,\n",
       "        1.71561680e+00, -1.48714614e+00, -5.40077540e-01, -4.20930519e-01,\n",
       "        2.06645877e+00,  5.26796760e-01,  7.27224909e-01, -1.22359633e+00,\n",
       "        5.21455692e-01,  7.32833267e-01,  1.70797421e-01,  3.31406855e-01,\n",
       "        1.09071116e-01,  8.92761014e-01, -1.32096475e+00,  9.11826780e-01,\n",
       "       -2.59875703e+00,  4.25039866e-01,  5.29345250e-01, -2.16376096e-01,\n",
       "        2.77893796e+00, -1.95942841e-01,  3.24193753e-01,  3.22044535e-01,\n",
       "       -1.71775760e+00, -1.42709565e+00, -1.46884022e+00, -8.65858462e-01,\n",
       "       -1.57341246e+00,  1.22565742e+00,  2.03351248e+00, -1.95843587e-01,\n",
       "       -1.00662386e+00,  1.80526340e+00, -6.86691411e-01, -7.48433722e-01,\n",
       "        6.97240363e-01, -1.52536846e+00,  1.50013720e-01, -3.61342108e-01,\n",
       "        2.48736805e-01, -1.24144171e+00, -1.40757905e-01, -5.29641618e-01,\n",
       "       -9.13719434e-02,  3.30054453e-01,  3.46281874e-01,  1.45765920e+00,\n",
       "        5.95383057e-01,  1.66553989e+00,  9.68434448e-01, -8.26623021e-01,\n",
       "       -3.85928709e-01, -1.92322141e+00, -3.34474201e-01,  5.97969189e-01,\n",
       "        1.41759157e+00,  3.85151184e-01,  5.10085670e-01, -1.12814186e+00,\n",
       "       -5.05609202e-01,  2.16907571e-02, -2.86762452e-01,  1.65593408e+00,\n",
       "        1.52235379e+00, -6.00179044e-01, -2.19916408e-01, -6.28764170e-01,\n",
       "        1.14356261e+00, -7.92442548e-01, -1.51866302e+00,  6.10763217e-01,\n",
       "       -4.59335630e-01, -1.34772143e-01, -8.30710158e-01, -1.43243071e+00,\n",
       "        1.87485309e+00,  1.27768321e+00,  4.62922700e-01, -2.75636671e-01,\n",
       "       -7.01295942e-01, -1.48010307e+00, -5.25388562e-01, -2.36559408e+00,\n",
       "        2.37088520e+00, -5.00790069e-02,  2.19704544e-02, -5.13890632e-01,\n",
       "        1.20657219e+00, -1.88061303e-01, -7.00221142e-01,  1.78775256e+00,\n",
       "       -5.12630839e-01,  9.49434598e-01, -1.63983893e+00, -1.48279238e+00,\n",
       "       -2.88232689e-01, -3.35319030e+00,  2.20033005e-01,  6.48216251e-01,\n",
       "        1.42259962e+00,  9.34404521e-01, -1.58374439e+00,  3.10198371e-01,\n",
       "       -3.89115094e-02, -4.99874333e-02, -6.49293136e-01,  6.28568577e-01,\n",
       "        2.60653728e-01, -5.20901562e-01, -1.44678476e+00, -2.09656653e-01,\n",
       "        2.61954145e-01, -7.26442887e-01, -7.89283156e-01, -1.56201493e+00,\n",
       "        2.20846913e+00,  5.24487064e-01,  1.57347105e-01,  2.26268361e-01,\n",
       "        9.30342646e-02, -1.45755398e-01, -1.09498210e+00, -6.34109395e-01,\n",
       "       -6.67368753e-01,  2.85712280e-01,  5.82435580e-01,  8.33529781e-02,\n",
       "       -8.40296025e-01, -1.11136194e+00, -6.50817848e-01,  1.90894883e+00,\n",
       "       -1.32404471e+00,  9.80341594e-01, -1.05474049e+00,  1.41181459e+00,\n",
       "        1.48490833e-01,  1.80721786e+00,  7.32480033e-02,  9.61758469e-01,\n",
       "        1.50341208e-01, -8.13213590e-01,  3.90562938e-01,  2.87514377e-03,\n",
       "       -1.35429142e+00, -2.69995931e-01,  4.61075846e-01,  8.05662454e-01,\n",
       "       -1.96363837e+00,  7.87520799e-02,  1.33864939e-02,  5.38124073e-01,\n",
       "        1.81772139e+00, -1.08954474e+00,  9.04574902e-02,  5.73778228e-01,\n",
       "        2.06988805e-01, -4.12892756e-02, -1.49696724e+00,  2.68099617e-01])"
      ]
     },
     "execution_count": 134,
     "metadata": {},
     "output_type": "execute_result"
    }
   ],
   "source": [
    "data"
   ]
  },
  {
   "cell_type": "code",
   "execution_count": 135,
   "metadata": {},
   "outputs": [
    {
     "data": {
      "text/plain": [
       "[(-3.63, -0.7], (0.58, 3.62], (-0.7, -0.051], (-3.63, -0.7], (-0.7, -0.051], ..., (-0.051, 0.58], (-0.051, 0.58], (-0.051, 0.58], (-3.63, -0.7], (-0.051, 0.58]]\n",
       "Length: 1000\n",
       "Categories (4, interval[float64, right]): [(-3.63, -0.7] < (-0.7, -0.051] < (-0.051, 0.58] < (0.58, 3.62]]"
      ]
     },
     "execution_count": 135,
     "metadata": {},
     "output_type": "execute_result"
    }
   ],
   "source": [
    "# 균등한 길이의 그룹을 계산\n",
    "quartiles = pd.qcut(data, 4, precision=2)   # precision: 정밀도, 소숫점 아래 자리\n",
    "quartiles"
   ]
  },
  {
   "cell_type": "code",
   "execution_count": 136,
   "metadata": {},
   "outputs": [
    {
     "name": "stderr",
     "output_type": "stream",
     "text": [
      "C:\\Users\\hello\\AppData\\Local\\Temp\\ipykernel_28520\\3472704981.py:1: FutureWarning: pandas.value_counts is deprecated and will be removed in a future version. Use pd.Series(obj).value_counts() instead.\n",
      "  pd.value_counts(quartiles)\n"
     ]
    },
    {
     "data": {
      "text/plain": [
       "(-3.63, -0.7]     250\n",
       "(-0.7, -0.051]    250\n",
       "(-0.051, 0.58]    250\n",
       "(0.58, 3.62]      250\n",
       "Name: count, dtype: int64"
      ]
     },
     "execution_count": 136,
     "metadata": {},
     "output_type": "execute_result"
    }
   ],
   "source": [
    "pd.value_counts(quartiles)"
   ]
  },
  {
   "cell_type": "code",
   "execution_count": 137,
   "metadata": {},
   "outputs": [
    {
     "data": {
      "text/plain": [
       "(-3.622, -1.321]     100\n",
       "(-1.321, -0.0514]    400\n",
       "(-0.0514, 1.306]     400\n",
       "(1.306, 3.621]       100\n",
       "Name: count, dtype: int64"
      ]
     },
     "execution_count": 137,
     "metadata": {},
     "output_type": "execute_result"
    }
   ],
   "source": [
    "pd.qcut(data, [0, 0.1, 0.5, 0.9, 1.]).value_counts()"
   ]
  },
  {
   "cell_type": "markdown",
   "metadata": {},
   "source": [
    "## 이상치를 찾고 제외하기"
   ]
  },
  {
   "cell_type": "markdown",
   "metadata": {},
   "source": [
    "### 이상치(outlier)\n",
    "- 전체적인 데이터 분포에서 크게 어긋나는 값"
   ]
  },
  {
   "cell_type": "code",
   "execution_count": 138,
   "metadata": {},
   "outputs": [],
   "source": [
    "data = DataFrame(np.random.standard_normal((1000, 4)))"
   ]
  },
  {
   "cell_type": "code",
   "execution_count": 139,
   "metadata": {},
   "outputs": [
    {
     "data": {
      "text/html": [
       "<div>\n",
       "<style scoped>\n",
       "    .dataframe tbody tr th:only-of-type {\n",
       "        vertical-align: middle;\n",
       "    }\n",
       "\n",
       "    .dataframe tbody tr th {\n",
       "        vertical-align: top;\n",
       "    }\n",
       "\n",
       "    .dataframe thead th {\n",
       "        text-align: right;\n",
       "    }\n",
       "</style>\n",
       "<table border=\"1\" class=\"dataframe\">\n",
       "  <thead>\n",
       "    <tr style=\"text-align: right;\">\n",
       "      <th></th>\n",
       "      <th>0</th>\n",
       "      <th>1</th>\n",
       "      <th>2</th>\n",
       "      <th>3</th>\n",
       "    </tr>\n",
       "  </thead>\n",
       "  <tbody>\n",
       "    <tr>\n",
       "      <th>count</th>\n",
       "      <td>1000.000000</td>\n",
       "      <td>1000.000000</td>\n",
       "      <td>1000.000000</td>\n",
       "      <td>1000.000000</td>\n",
       "    </tr>\n",
       "    <tr>\n",
       "      <th>mean</th>\n",
       "      <td>-0.008367</td>\n",
       "      <td>-0.050018</td>\n",
       "      <td>0.016833</td>\n",
       "      <td>-0.011631</td>\n",
       "    </tr>\n",
       "    <tr>\n",
       "      <th>std</th>\n",
       "      <td>1.017422</td>\n",
       "      <td>0.948604</td>\n",
       "      <td>0.985848</td>\n",
       "      <td>1.045213</td>\n",
       "    </tr>\n",
       "    <tr>\n",
       "      <th>min</th>\n",
       "      <td>-3.561115</td>\n",
       "      <td>-3.202571</td>\n",
       "      <td>-2.633620</td>\n",
       "      <td>-3.510026</td>\n",
       "    </tr>\n",
       "    <tr>\n",
       "      <th>25%</th>\n",
       "      <td>-0.700796</td>\n",
       "      <td>-0.675833</td>\n",
       "      <td>-0.656762</td>\n",
       "      <td>-0.677406</td>\n",
       "    </tr>\n",
       "    <tr>\n",
       "      <th>50%</th>\n",
       "      <td>0.051877</td>\n",
       "      <td>-0.022888</td>\n",
       "      <td>-0.001628</td>\n",
       "      <td>-0.026374</td>\n",
       "    </tr>\n",
       "    <tr>\n",
       "      <th>75%</th>\n",
       "      <td>0.651626</td>\n",
       "      <td>0.626474</td>\n",
       "      <td>0.657255</td>\n",
       "      <td>0.672256</td>\n",
       "    </tr>\n",
       "    <tr>\n",
       "      <th>max</th>\n",
       "      <td>2.862284</td>\n",
       "      <td>3.069227</td>\n",
       "      <td>2.858819</td>\n",
       "      <td>3.602073</td>\n",
       "    </tr>\n",
       "  </tbody>\n",
       "</table>\n",
       "</div>"
      ],
      "text/plain": [
       "                 0            1            2            3\n",
       "count  1000.000000  1000.000000  1000.000000  1000.000000\n",
       "mean     -0.008367    -0.050018     0.016833    -0.011631\n",
       "std       1.017422     0.948604     0.985848     1.045213\n",
       "min      -3.561115    -3.202571    -2.633620    -3.510026\n",
       "25%      -0.700796    -0.675833    -0.656762    -0.677406\n",
       "50%       0.051877    -0.022888    -0.001628    -0.026374\n",
       "75%       0.651626     0.626474     0.657255     0.672256\n",
       "max       2.862284     3.069227     2.858819     3.602073"
      ]
     },
     "execution_count": 139,
     "metadata": {},
     "output_type": "execute_result"
    }
   ],
   "source": [
    "data.describe()"
   ]
  },
  {
   "cell_type": "code",
   "execution_count": 140,
   "metadata": {},
   "outputs": [
    {
     "data": {
      "text/html": [
       "<div>\n",
       "<style scoped>\n",
       "    .dataframe tbody tr th:only-of-type {\n",
       "        vertical-align: middle;\n",
       "    }\n",
       "\n",
       "    .dataframe tbody tr th {\n",
       "        vertical-align: top;\n",
       "    }\n",
       "\n",
       "    .dataframe thead th {\n",
       "        text-align: right;\n",
       "    }\n",
       "</style>\n",
       "<table border=\"1\" class=\"dataframe\">\n",
       "  <thead>\n",
       "    <tr style=\"text-align: right;\">\n",
       "      <th></th>\n",
       "      <th>0</th>\n",
       "      <th>1</th>\n",
       "      <th>2</th>\n",
       "      <th>3</th>\n",
       "    </tr>\n",
       "  </thead>\n",
       "  <tbody>\n",
       "    <tr>\n",
       "      <th>0</th>\n",
       "      <td>False</td>\n",
       "      <td>False</td>\n",
       "      <td>False</td>\n",
       "      <td>False</td>\n",
       "    </tr>\n",
       "    <tr>\n",
       "      <th>1</th>\n",
       "      <td>False</td>\n",
       "      <td>False</td>\n",
       "      <td>False</td>\n",
       "      <td>False</td>\n",
       "    </tr>\n",
       "    <tr>\n",
       "      <th>2</th>\n",
       "      <td>False</td>\n",
       "      <td>False</td>\n",
       "      <td>False</td>\n",
       "      <td>False</td>\n",
       "    </tr>\n",
       "    <tr>\n",
       "      <th>3</th>\n",
       "      <td>False</td>\n",
       "      <td>False</td>\n",
       "      <td>False</td>\n",
       "      <td>False</td>\n",
       "    </tr>\n",
       "    <tr>\n",
       "      <th>4</th>\n",
       "      <td>False</td>\n",
       "      <td>False</td>\n",
       "      <td>False</td>\n",
       "      <td>False</td>\n",
       "    </tr>\n",
       "    <tr>\n",
       "      <th>...</th>\n",
       "      <td>...</td>\n",
       "      <td>...</td>\n",
       "      <td>...</td>\n",
       "      <td>...</td>\n",
       "    </tr>\n",
       "    <tr>\n",
       "      <th>995</th>\n",
       "      <td>False</td>\n",
       "      <td>False</td>\n",
       "      <td>False</td>\n",
       "      <td>False</td>\n",
       "    </tr>\n",
       "    <tr>\n",
       "      <th>996</th>\n",
       "      <td>False</td>\n",
       "      <td>False</td>\n",
       "      <td>False</td>\n",
       "      <td>False</td>\n",
       "    </tr>\n",
       "    <tr>\n",
       "      <th>997</th>\n",
       "      <td>False</td>\n",
       "      <td>False</td>\n",
       "      <td>False</td>\n",
       "      <td>False</td>\n",
       "    </tr>\n",
       "    <tr>\n",
       "      <th>998</th>\n",
       "      <td>False</td>\n",
       "      <td>False</td>\n",
       "      <td>False</td>\n",
       "      <td>False</td>\n",
       "    </tr>\n",
       "    <tr>\n",
       "      <th>999</th>\n",
       "      <td>False</td>\n",
       "      <td>False</td>\n",
       "      <td>False</td>\n",
       "      <td>False</td>\n",
       "    </tr>\n",
       "  </tbody>\n",
       "</table>\n",
       "<p>1000 rows × 4 columns</p>\n",
       "</div>"
      ],
      "text/plain": [
       "         0      1      2      3\n",
       "0    False  False  False  False\n",
       "1    False  False  False  False\n",
       "2    False  False  False  False\n",
       "3    False  False  False  False\n",
       "4    False  False  False  False\n",
       "..     ...    ...    ...    ...\n",
       "995  False  False  False  False\n",
       "996  False  False  False  False\n",
       "997  False  False  False  False\n",
       "998  False  False  False  False\n",
       "999  False  False  False  False\n",
       "\n",
       "[1000 rows x 4 columns]"
      ]
     },
     "execution_count": 140,
     "metadata": {},
     "output_type": "execute_result"
    }
   ],
   "source": [
    "data.abs() > 3"
   ]
  },
  {
   "cell_type": "code",
   "execution_count": 141,
   "metadata": {},
   "outputs": [
    {
     "data": {
      "text/plain": [
       "0      False\n",
       "1      False\n",
       "2      False\n",
       "3      False\n",
       "4      False\n",
       "       ...  \n",
       "995    False\n",
       "996    False\n",
       "997    False\n",
       "998    False\n",
       "999    False\n",
       "Length: 1000, dtype: bool"
      ]
     },
     "execution_count": 141,
     "metadata": {},
     "output_type": "execute_result"
    }
   ],
   "source": [
    "(data.abs() > 3).any(axis=\"columns\")    # 이상치가 하나라도 있는 data 호출"
   ]
  },
  {
   "cell_type": "code",
   "execution_count": 142,
   "metadata": {},
   "outputs": [
    {
     "data": {
      "text/plain": [
       "8"
      ]
     },
     "execution_count": 142,
     "metadata": {},
     "output_type": "execute_result"
    }
   ],
   "source": [
    "np.sum((data.abs() > 3).any(axis=\"columns\"))"
   ]
  },
  {
   "cell_type": "code",
   "execution_count": 143,
   "metadata": {},
   "outputs": [
    {
     "data": {
      "text/html": [
       "<div>\n",
       "<style scoped>\n",
       "    .dataframe tbody tr th:only-of-type {\n",
       "        vertical-align: middle;\n",
       "    }\n",
       "\n",
       "    .dataframe tbody tr th {\n",
       "        vertical-align: top;\n",
       "    }\n",
       "\n",
       "    .dataframe thead th {\n",
       "        text-align: right;\n",
       "    }\n",
       "</style>\n",
       "<table border=\"1\" class=\"dataframe\">\n",
       "  <thead>\n",
       "    <tr style=\"text-align: right;\">\n",
       "      <th></th>\n",
       "      <th>0</th>\n",
       "      <th>1</th>\n",
       "      <th>2</th>\n",
       "      <th>3</th>\n",
       "    </tr>\n",
       "  </thead>\n",
       "  <tbody>\n",
       "    <tr>\n",
       "      <th>0</th>\n",
       "      <td>-0.566773</td>\n",
       "      <td>-1.074308</td>\n",
       "      <td>1.504595</td>\n",
       "      <td>1.341501</td>\n",
       "    </tr>\n",
       "    <tr>\n",
       "      <th>1</th>\n",
       "      <td>1.863393</td>\n",
       "      <td>0.474213</td>\n",
       "      <td>0.834386</td>\n",
       "      <td>-1.120961</td>\n",
       "    </tr>\n",
       "    <tr>\n",
       "      <th>2</th>\n",
       "      <td>-1.299195</td>\n",
       "      <td>-0.707784</td>\n",
       "      <td>0.363613</td>\n",
       "      <td>0.119621</td>\n",
       "    </tr>\n",
       "    <tr>\n",
       "      <th>3</th>\n",
       "      <td>1.883813</td>\n",
       "      <td>-1.259140</td>\n",
       "      <td>0.080922</td>\n",
       "      <td>2.442519</td>\n",
       "    </tr>\n",
       "    <tr>\n",
       "      <th>4</th>\n",
       "      <td>0.820041</td>\n",
       "      <td>0.169372</td>\n",
       "      <td>0.816713</td>\n",
       "      <td>0.000934</td>\n",
       "    </tr>\n",
       "    <tr>\n",
       "      <th>...</th>\n",
       "      <td>...</td>\n",
       "      <td>...</td>\n",
       "      <td>...</td>\n",
       "      <td>...</td>\n",
       "    </tr>\n",
       "    <tr>\n",
       "      <th>995</th>\n",
       "      <td>-0.507047</td>\n",
       "      <td>-0.319113</td>\n",
       "      <td>-0.065834</td>\n",
       "      <td>0.525657</td>\n",
       "    </tr>\n",
       "    <tr>\n",
       "      <th>996</th>\n",
       "      <td>0.236625</td>\n",
       "      <td>1.142104</td>\n",
       "      <td>0.478477</td>\n",
       "      <td>0.255124</td>\n",
       "    </tr>\n",
       "    <tr>\n",
       "      <th>997</th>\n",
       "      <td>-0.179900</td>\n",
       "      <td>0.750669</td>\n",
       "      <td>0.008043</td>\n",
       "      <td>0.169301</td>\n",
       "    </tr>\n",
       "    <tr>\n",
       "      <th>998</th>\n",
       "      <td>0.709674</td>\n",
       "      <td>-0.299589</td>\n",
       "      <td>-0.547514</td>\n",
       "      <td>0.472684</td>\n",
       "    </tr>\n",
       "    <tr>\n",
       "      <th>999</th>\n",
       "      <td>-0.755729</td>\n",
       "      <td>0.878219</td>\n",
       "      <td>-0.739859</td>\n",
       "      <td>1.017175</td>\n",
       "    </tr>\n",
       "  </tbody>\n",
       "</table>\n",
       "<p>992 rows × 4 columns</p>\n",
       "</div>"
      ],
      "text/plain": [
       "            0         1         2         3\n",
       "0   -0.566773 -1.074308  1.504595  1.341501\n",
       "1    1.863393  0.474213  0.834386 -1.120961\n",
       "2   -1.299195 -0.707784  0.363613  0.119621\n",
       "3    1.883813 -1.259140  0.080922  2.442519\n",
       "4    0.820041  0.169372  0.816713  0.000934\n",
       "..        ...       ...       ...       ...\n",
       "995 -0.507047 -0.319113 -0.065834  0.525657\n",
       "996  0.236625  1.142104  0.478477  0.255124\n",
       "997 -0.179900  0.750669  0.008043  0.169301\n",
       "998  0.709674 -0.299589 -0.547514  0.472684\n",
       "999 -0.755729  0.878219 -0.739859  1.017175\n",
       "\n",
       "[992 rows x 4 columns]"
      ]
     },
     "execution_count": 143,
     "metadata": {},
     "output_type": "execute_result"
    }
   ],
   "source": [
    "# 이상치가 아닌 데이터만 호출\n",
    "data.loc[~(data.abs() > 3).any(axis=\"columns\"), :]"
   ]
  },
  {
   "cell_type": "code",
   "execution_count": 144,
   "metadata": {},
   "outputs": [
    {
     "data": {
      "text/plain": [
       "Index([60, 84, 103, 489, 514, 720, 942, 993], dtype='int64')"
      ]
     },
     "execution_count": 144,
     "metadata": {},
     "output_type": "execute_result"
    }
   ],
   "source": [
    "data.index[(data.abs() > 3).any(axis=\"columns\")]"
   ]
  },
  {
   "cell_type": "code",
   "execution_count": 145,
   "metadata": {},
   "outputs": [
    {
     "data": {
      "text/html": [
       "<div>\n",
       "<style scoped>\n",
       "    .dataframe tbody tr th:only-of-type {\n",
       "        vertical-align: middle;\n",
       "    }\n",
       "\n",
       "    .dataframe tbody tr th {\n",
       "        vertical-align: top;\n",
       "    }\n",
       "\n",
       "    .dataframe thead th {\n",
       "        text-align: right;\n",
       "    }\n",
       "</style>\n",
       "<table border=\"1\" class=\"dataframe\">\n",
       "  <thead>\n",
       "    <tr style=\"text-align: right;\">\n",
       "      <th></th>\n",
       "      <th>0</th>\n",
       "      <th>1</th>\n",
       "      <th>2</th>\n",
       "      <th>3</th>\n",
       "    </tr>\n",
       "  </thead>\n",
       "  <tbody>\n",
       "    <tr>\n",
       "      <th>4</th>\n",
       "      <td>0.820041</td>\n",
       "      <td>0.169372</td>\n",
       "      <td>0.816713</td>\n",
       "      <td>0.000934</td>\n",
       "    </tr>\n",
       "    <tr>\n",
       "      <th>5</th>\n",
       "      <td>2.139228</td>\n",
       "      <td>0.937811</td>\n",
       "      <td>-1.975914</td>\n",
       "      <td>0.565577</td>\n",
       "    </tr>\n",
       "    <tr>\n",
       "      <th>6</th>\n",
       "      <td>-1.610146</td>\n",
       "      <td>-0.342366</td>\n",
       "      <td>-0.359429</td>\n",
       "      <td>-0.849230</td>\n",
       "    </tr>\n",
       "    <tr>\n",
       "      <th>7</th>\n",
       "      <td>-0.436366</td>\n",
       "      <td>-0.836716</td>\n",
       "      <td>-0.098202</td>\n",
       "      <td>-1.805743</td>\n",
       "    </tr>\n",
       "    <tr>\n",
       "      <th>8</th>\n",
       "      <td>1.082947</td>\n",
       "      <td>1.806027</td>\n",
       "      <td>-0.091976</td>\n",
       "      <td>-0.740057</td>\n",
       "    </tr>\n",
       "    <tr>\n",
       "      <th>...</th>\n",
       "      <td>...</td>\n",
       "      <td>...</td>\n",
       "      <td>...</td>\n",
       "      <td>...</td>\n",
       "    </tr>\n",
       "    <tr>\n",
       "      <th>995</th>\n",
       "      <td>-0.507047</td>\n",
       "      <td>-0.319113</td>\n",
       "      <td>-0.065834</td>\n",
       "      <td>0.525657</td>\n",
       "    </tr>\n",
       "    <tr>\n",
       "      <th>996</th>\n",
       "      <td>0.236625</td>\n",
       "      <td>1.142104</td>\n",
       "      <td>0.478477</td>\n",
       "      <td>0.255124</td>\n",
       "    </tr>\n",
       "    <tr>\n",
       "      <th>997</th>\n",
       "      <td>-0.179900</td>\n",
       "      <td>0.750669</td>\n",
       "      <td>0.008043</td>\n",
       "      <td>0.169301</td>\n",
       "    </tr>\n",
       "    <tr>\n",
       "      <th>998</th>\n",
       "      <td>0.709674</td>\n",
       "      <td>-0.299589</td>\n",
       "      <td>-0.547514</td>\n",
       "      <td>0.472684</td>\n",
       "    </tr>\n",
       "    <tr>\n",
       "      <th>999</th>\n",
       "      <td>-0.755729</td>\n",
       "      <td>0.878219</td>\n",
       "      <td>-0.739859</td>\n",
       "      <td>1.017175</td>\n",
       "    </tr>\n",
       "  </tbody>\n",
       "</table>\n",
       "<p>996 rows × 4 columns</p>\n",
       "</div>"
      ],
      "text/plain": [
       "            0         1         2         3\n",
       "4    0.820041  0.169372  0.816713  0.000934\n",
       "5    2.139228  0.937811 -1.975914  0.565577\n",
       "6   -1.610146 -0.342366 -0.359429 -0.849230\n",
       "7   -0.436366 -0.836716 -0.098202 -1.805743\n",
       "8    1.082947  1.806027 -0.091976 -0.740057\n",
       "..        ...       ...       ...       ...\n",
       "995 -0.507047 -0.319113 -0.065834  0.525657\n",
       "996  0.236625  1.142104  0.478477  0.255124\n",
       "997 -0.179900  0.750669  0.008043  0.169301\n",
       "998  0.709674 -0.299589 -0.547514  0.472684\n",
       "999 -0.755729  0.878219 -0.739859  1.017175\n",
       "\n",
       "[996 rows x 4 columns]"
      ]
     },
     "execution_count": 145,
     "metadata": {},
     "output_type": "execute_result"
    }
   ],
   "source": [
    "# 이상치가 있는 데이터 제거\n",
    "data.drop(data.loc[(data.abs() > 3).any(axis=\"columns\")])"
   ]
  },
  {
   "cell_type": "code",
   "execution_count": 148,
   "metadata": {},
   "outputs": [
    {
     "data": {
      "text/html": [
       "<div>\n",
       "<style scoped>\n",
       "    .dataframe tbody tr th:only-of-type {\n",
       "        vertical-align: middle;\n",
       "    }\n",
       "\n",
       "    .dataframe tbody tr th {\n",
       "        vertical-align: top;\n",
       "    }\n",
       "\n",
       "    .dataframe thead th {\n",
       "        text-align: right;\n",
       "    }\n",
       "</style>\n",
       "<table border=\"1\" class=\"dataframe\">\n",
       "  <thead>\n",
       "    <tr style=\"text-align: right;\">\n",
       "      <th></th>\n",
       "      <th>0</th>\n",
       "      <th>1</th>\n",
       "      <th>2</th>\n",
       "      <th>3</th>\n",
       "    </tr>\n",
       "  </thead>\n",
       "  <tbody>\n",
       "    <tr>\n",
       "      <th>0</th>\n",
       "      <td>-3.0</td>\n",
       "      <td>-3.0</td>\n",
       "      <td>3.0</td>\n",
       "      <td>3.0</td>\n",
       "    </tr>\n",
       "    <tr>\n",
       "      <th>1</th>\n",
       "      <td>3.0</td>\n",
       "      <td>3.0</td>\n",
       "      <td>3.0</td>\n",
       "      <td>-3.0</td>\n",
       "    </tr>\n",
       "    <tr>\n",
       "      <th>2</th>\n",
       "      <td>-3.0</td>\n",
       "      <td>-3.0</td>\n",
       "      <td>3.0</td>\n",
       "      <td>3.0</td>\n",
       "    </tr>\n",
       "    <tr>\n",
       "      <th>3</th>\n",
       "      <td>3.0</td>\n",
       "      <td>-3.0</td>\n",
       "      <td>3.0</td>\n",
       "      <td>3.0</td>\n",
       "    </tr>\n",
       "    <tr>\n",
       "      <th>4</th>\n",
       "      <td>3.0</td>\n",
       "      <td>3.0</td>\n",
       "      <td>3.0</td>\n",
       "      <td>3.0</td>\n",
       "    </tr>\n",
       "    <tr>\n",
       "      <th>...</th>\n",
       "      <td>...</td>\n",
       "      <td>...</td>\n",
       "      <td>...</td>\n",
       "      <td>...</td>\n",
       "    </tr>\n",
       "    <tr>\n",
       "      <th>995</th>\n",
       "      <td>-3.0</td>\n",
       "      <td>-3.0</td>\n",
       "      <td>-3.0</td>\n",
       "      <td>3.0</td>\n",
       "    </tr>\n",
       "    <tr>\n",
       "      <th>996</th>\n",
       "      <td>3.0</td>\n",
       "      <td>3.0</td>\n",
       "      <td>3.0</td>\n",
       "      <td>3.0</td>\n",
       "    </tr>\n",
       "    <tr>\n",
       "      <th>997</th>\n",
       "      <td>-3.0</td>\n",
       "      <td>3.0</td>\n",
       "      <td>3.0</td>\n",
       "      <td>3.0</td>\n",
       "    </tr>\n",
       "    <tr>\n",
       "      <th>998</th>\n",
       "      <td>3.0</td>\n",
       "      <td>-3.0</td>\n",
       "      <td>-3.0</td>\n",
       "      <td>3.0</td>\n",
       "    </tr>\n",
       "    <tr>\n",
       "      <th>999</th>\n",
       "      <td>-3.0</td>\n",
       "      <td>3.0</td>\n",
       "      <td>-3.0</td>\n",
       "      <td>3.0</td>\n",
       "    </tr>\n",
       "  </tbody>\n",
       "</table>\n",
       "<p>1000 rows × 4 columns</p>\n",
       "</div>"
      ],
      "text/plain": [
       "       0    1    2    3\n",
       "0   -3.0 -3.0  3.0  3.0\n",
       "1    3.0  3.0  3.0 -3.0\n",
       "2   -3.0 -3.0  3.0  3.0\n",
       "3    3.0 -3.0  3.0  3.0\n",
       "4    3.0  3.0  3.0  3.0\n",
       "..   ...  ...  ...  ...\n",
       "995 -3.0 -3.0 -3.0  3.0\n",
       "996  3.0  3.0  3.0  3.0\n",
       "997 -3.0  3.0  3.0  3.0\n",
       "998  3.0 -3.0 -3.0  3.0\n",
       "999 -3.0  3.0 -3.0  3.0\n",
       "\n",
       "[1000 rows x 4 columns]"
      ]
     },
     "execution_count": 148,
     "metadata": {},
     "output_type": "execute_result"
    }
   ],
   "source": [
    "np.sign(data) * 3"
   ]
  },
  {
   "cell_type": "code",
   "execution_count": 146,
   "metadata": {},
   "outputs": [],
   "source": [
    "data[data.abs() > 3] = np.sign(data) * 3"
   ]
  },
  {
   "cell_type": "code",
   "execution_count": 147,
   "metadata": {},
   "outputs": [
    {
     "data": {
      "text/html": [
       "<div>\n",
       "<style scoped>\n",
       "    .dataframe tbody tr th:only-of-type {\n",
       "        vertical-align: middle;\n",
       "    }\n",
       "\n",
       "    .dataframe tbody tr th {\n",
       "        vertical-align: top;\n",
       "    }\n",
       "\n",
       "    .dataframe thead th {\n",
       "        text-align: right;\n",
       "    }\n",
       "</style>\n",
       "<table border=\"1\" class=\"dataframe\">\n",
       "  <thead>\n",
       "    <tr style=\"text-align: right;\">\n",
       "      <th></th>\n",
       "      <th>0</th>\n",
       "      <th>1</th>\n",
       "      <th>2</th>\n",
       "      <th>3</th>\n",
       "    </tr>\n",
       "  </thead>\n",
       "  <tbody>\n",
       "    <tr>\n",
       "      <th>count</th>\n",
       "      <td>1000.000000</td>\n",
       "      <td>1000.000000</td>\n",
       "      <td>1000.000000</td>\n",
       "      <td>1000.000000</td>\n",
       "    </tr>\n",
       "    <tr>\n",
       "      <th>mean</th>\n",
       "      <td>-0.007646</td>\n",
       "      <td>-0.049824</td>\n",
       "      <td>0.016833</td>\n",
       "      <td>-0.012262</td>\n",
       "    </tr>\n",
       "    <tr>\n",
       "      <th>std</th>\n",
       "      <td>1.015128</td>\n",
       "      <td>0.947534</td>\n",
       "      <td>0.985848</td>\n",
       "      <td>1.040012</td>\n",
       "    </tr>\n",
       "    <tr>\n",
       "      <th>min</th>\n",
       "      <td>-3.000000</td>\n",
       "      <td>-3.000000</td>\n",
       "      <td>-2.633620</td>\n",
       "      <td>-3.000000</td>\n",
       "    </tr>\n",
       "    <tr>\n",
       "      <th>25%</th>\n",
       "      <td>-0.700796</td>\n",
       "      <td>-0.675833</td>\n",
       "      <td>-0.656762</td>\n",
       "      <td>-0.677406</td>\n",
       "    </tr>\n",
       "    <tr>\n",
       "      <th>50%</th>\n",
       "      <td>0.051877</td>\n",
       "      <td>-0.022888</td>\n",
       "      <td>-0.001628</td>\n",
       "      <td>-0.026374</td>\n",
       "    </tr>\n",
       "    <tr>\n",
       "      <th>75%</th>\n",
       "      <td>0.651626</td>\n",
       "      <td>0.626474</td>\n",
       "      <td>0.657255</td>\n",
       "      <td>0.672256</td>\n",
       "    </tr>\n",
       "    <tr>\n",
       "      <th>max</th>\n",
       "      <td>2.862284</td>\n",
       "      <td>3.000000</td>\n",
       "      <td>2.858819</td>\n",
       "      <td>3.000000</td>\n",
       "    </tr>\n",
       "  </tbody>\n",
       "</table>\n",
       "</div>"
      ],
      "text/plain": [
       "                 0            1            2            3\n",
       "count  1000.000000  1000.000000  1000.000000  1000.000000\n",
       "mean     -0.007646    -0.049824     0.016833    -0.012262\n",
       "std       1.015128     0.947534     0.985848     1.040012\n",
       "min      -3.000000    -3.000000    -2.633620    -3.000000\n",
       "25%      -0.700796    -0.675833    -0.656762    -0.677406\n",
       "50%       0.051877    -0.022888    -0.001628    -0.026374\n",
       "75%       0.651626     0.626474     0.657255     0.672256\n",
       "max       2.862284     3.000000     2.858819     3.000000"
      ]
     },
     "execution_count": 147,
     "metadata": {},
     "output_type": "execute_result"
    }
   ],
   "source": [
    "data.describe()"
   ]
  },
  {
   "cell_type": "markdown",
   "metadata": {},
   "source": [
    "## 표시자, 더미 변수 계산하기\n",
    "- 더미 변수: 0, 1로 구성된 데이터\n",
    "- 분류값 -> 더미, 표시자 행렬로 전환\n",
    "- 통계 모델이나 머신러닝 애플리케이션 개발 적합\n",
    "- k개의 feature로 확장, 분류값에 따라 0, 1로 나타냄"
   ]
  },
  {
   "cell_type": "code",
   "execution_count": 149,
   "metadata": {},
   "outputs": [],
   "source": [
    "df = DataFrame({\"key\": [\"b\", \"b\", \"a\", \"c\", \"a\", \"b\"],\n",
    "                \"data1\": range(6)})"
   ]
  },
  {
   "cell_type": "code",
   "execution_count": 150,
   "metadata": {},
   "outputs": [
    {
     "data": {
      "text/html": [
       "<div>\n",
       "<style scoped>\n",
       "    .dataframe tbody tr th:only-of-type {\n",
       "        vertical-align: middle;\n",
       "    }\n",
       "\n",
       "    .dataframe tbody tr th {\n",
       "        vertical-align: top;\n",
       "    }\n",
       "\n",
       "    .dataframe thead th {\n",
       "        text-align: right;\n",
       "    }\n",
       "</style>\n",
       "<table border=\"1\" class=\"dataframe\">\n",
       "  <thead>\n",
       "    <tr style=\"text-align: right;\">\n",
       "      <th></th>\n",
       "      <th>key</th>\n",
       "      <th>data1</th>\n",
       "    </tr>\n",
       "  </thead>\n",
       "  <tbody>\n",
       "    <tr>\n",
       "      <th>0</th>\n",
       "      <td>b</td>\n",
       "      <td>0</td>\n",
       "    </tr>\n",
       "    <tr>\n",
       "      <th>1</th>\n",
       "      <td>b</td>\n",
       "      <td>1</td>\n",
       "    </tr>\n",
       "    <tr>\n",
       "      <th>2</th>\n",
       "      <td>a</td>\n",
       "      <td>2</td>\n",
       "    </tr>\n",
       "    <tr>\n",
       "      <th>3</th>\n",
       "      <td>c</td>\n",
       "      <td>3</td>\n",
       "    </tr>\n",
       "    <tr>\n",
       "      <th>4</th>\n",
       "      <td>a</td>\n",
       "      <td>4</td>\n",
       "    </tr>\n",
       "    <tr>\n",
       "      <th>5</th>\n",
       "      <td>b</td>\n",
       "      <td>5</td>\n",
       "    </tr>\n",
       "  </tbody>\n",
       "</table>\n",
       "</div>"
      ],
      "text/plain": [
       "  key  data1\n",
       "0   b      0\n",
       "1   b      1\n",
       "2   a      2\n",
       "3   c      3\n",
       "4   a      4\n",
       "5   b      5"
      ]
     },
     "execution_count": 150,
     "metadata": {},
     "output_type": "execute_result"
    }
   ],
   "source": [
    "df"
   ]
  },
  {
   "cell_type": "code",
   "execution_count": 151,
   "metadata": {},
   "outputs": [
    {
     "data": {
      "text/html": [
       "<div>\n",
       "<style scoped>\n",
       "    .dataframe tbody tr th:only-of-type {\n",
       "        vertical-align: middle;\n",
       "    }\n",
       "\n",
       "    .dataframe tbody tr th {\n",
       "        vertical-align: top;\n",
       "    }\n",
       "\n",
       "    .dataframe thead th {\n",
       "        text-align: right;\n",
       "    }\n",
       "</style>\n",
       "<table border=\"1\" class=\"dataframe\">\n",
       "  <thead>\n",
       "    <tr style=\"text-align: right;\">\n",
       "      <th></th>\n",
       "      <th>a</th>\n",
       "      <th>b</th>\n",
       "      <th>c</th>\n",
       "    </tr>\n",
       "  </thead>\n",
       "  <tbody>\n",
       "    <tr>\n",
       "      <th>0</th>\n",
       "      <td>0.0</td>\n",
       "      <td>1.0</td>\n",
       "      <td>0.0</td>\n",
       "    </tr>\n",
       "    <tr>\n",
       "      <th>1</th>\n",
       "      <td>0.0</td>\n",
       "      <td>1.0</td>\n",
       "      <td>0.0</td>\n",
       "    </tr>\n",
       "    <tr>\n",
       "      <th>2</th>\n",
       "      <td>1.0</td>\n",
       "      <td>0.0</td>\n",
       "      <td>0.0</td>\n",
       "    </tr>\n",
       "    <tr>\n",
       "      <th>3</th>\n",
       "      <td>0.0</td>\n",
       "      <td>0.0</td>\n",
       "      <td>1.0</td>\n",
       "    </tr>\n",
       "    <tr>\n",
       "      <th>4</th>\n",
       "      <td>1.0</td>\n",
       "      <td>0.0</td>\n",
       "      <td>0.0</td>\n",
       "    </tr>\n",
       "    <tr>\n",
       "      <th>5</th>\n",
       "      <td>0.0</td>\n",
       "      <td>1.0</td>\n",
       "      <td>0.0</td>\n",
       "    </tr>\n",
       "  </tbody>\n",
       "</table>\n",
       "</div>"
      ],
      "text/plain": [
       "     a    b    c\n",
       "0  0.0  1.0  0.0\n",
       "1  0.0  1.0  0.0\n",
       "2  1.0  0.0  0.0\n",
       "3  0.0  0.0  1.0\n",
       "4  1.0  0.0  0.0\n",
       "5  0.0  1.0  0.0"
      ]
     },
     "execution_count": 151,
     "metadata": {},
     "output_type": "execute_result"
    }
   ],
   "source": [
    "# Series에 적용 가능\n",
    "pd.get_dummies(df[\"key\"], dtype=float)"
   ]
  },
  {
   "cell_type": "code",
   "execution_count": 154,
   "metadata": {},
   "outputs": [
    {
     "data": {
      "text/html": [
       "<div>\n",
       "<style scoped>\n",
       "    .dataframe tbody tr th:only-of-type {\n",
       "        vertical-align: middle;\n",
       "    }\n",
       "\n",
       "    .dataframe tbody tr th {\n",
       "        vertical-align: top;\n",
       "    }\n",
       "\n",
       "    .dataframe thead th {\n",
       "        text-align: right;\n",
       "    }\n",
       "</style>\n",
       "<table border=\"1\" class=\"dataframe\">\n",
       "  <thead>\n",
       "    <tr style=\"text-align: right;\">\n",
       "      <th></th>\n",
       "      <th>a</th>\n",
       "      <th>b</th>\n",
       "      <th>c</th>\n",
       "    </tr>\n",
       "  </thead>\n",
       "  <tbody>\n",
       "    <tr>\n",
       "      <th>0</th>\n",
       "      <td>False</td>\n",
       "      <td>True</td>\n",
       "      <td>False</td>\n",
       "    </tr>\n",
       "    <tr>\n",
       "      <th>1</th>\n",
       "      <td>False</td>\n",
       "      <td>True</td>\n",
       "      <td>False</td>\n",
       "    </tr>\n",
       "    <tr>\n",
       "      <th>2</th>\n",
       "      <td>True</td>\n",
       "      <td>False</td>\n",
       "      <td>False</td>\n",
       "    </tr>\n",
       "    <tr>\n",
       "      <th>3</th>\n",
       "      <td>False</td>\n",
       "      <td>False</td>\n",
       "      <td>True</td>\n",
       "    </tr>\n",
       "    <tr>\n",
       "      <th>4</th>\n",
       "      <td>True</td>\n",
       "      <td>False</td>\n",
       "      <td>False</td>\n",
       "    </tr>\n",
       "    <tr>\n",
       "      <th>5</th>\n",
       "      <td>False</td>\n",
       "      <td>True</td>\n",
       "      <td>False</td>\n",
       "    </tr>\n",
       "  </tbody>\n",
       "</table>\n",
       "</div>"
      ],
      "text/plain": [
       "       a      b      c\n",
       "0  False   True  False\n",
       "1  False   True  False\n",
       "2   True  False  False\n",
       "3  False  False   True\n",
       "4   True  False  False\n",
       "5  False   True  False"
      ]
     },
     "execution_count": 154,
     "metadata": {},
     "output_type": "execute_result"
    }
   ],
   "source": [
    "# default 값은 boolean\n",
    "pd.get_dummies(df[\"key\"])"
   ]
  },
  {
   "cell_type": "code",
   "execution_count": 152,
   "metadata": {},
   "outputs": [],
   "source": [
    "# prefix로 feature 이름 조정 가능\n",
    "dummies = pd.get_dummies(df[\"key\"], prefix=\"key\", dtype=float)"
   ]
  },
  {
   "cell_type": "code",
   "execution_count": 153,
   "metadata": {},
   "outputs": [
    {
     "data": {
      "text/html": [
       "<div>\n",
       "<style scoped>\n",
       "    .dataframe tbody tr th:only-of-type {\n",
       "        vertical-align: middle;\n",
       "    }\n",
       "\n",
       "    .dataframe tbody tr th {\n",
       "        vertical-align: top;\n",
       "    }\n",
       "\n",
       "    .dataframe thead th {\n",
       "        text-align: right;\n",
       "    }\n",
       "</style>\n",
       "<table border=\"1\" class=\"dataframe\">\n",
       "  <thead>\n",
       "    <tr style=\"text-align: right;\">\n",
       "      <th></th>\n",
       "      <th>key_a</th>\n",
       "      <th>key_b</th>\n",
       "      <th>key_c</th>\n",
       "    </tr>\n",
       "  </thead>\n",
       "  <tbody>\n",
       "    <tr>\n",
       "      <th>0</th>\n",
       "      <td>0.0</td>\n",
       "      <td>1.0</td>\n",
       "      <td>0.0</td>\n",
       "    </tr>\n",
       "    <tr>\n",
       "      <th>1</th>\n",
       "      <td>0.0</td>\n",
       "      <td>1.0</td>\n",
       "      <td>0.0</td>\n",
       "    </tr>\n",
       "    <tr>\n",
       "      <th>2</th>\n",
       "      <td>1.0</td>\n",
       "      <td>0.0</td>\n",
       "      <td>0.0</td>\n",
       "    </tr>\n",
       "    <tr>\n",
       "      <th>3</th>\n",
       "      <td>0.0</td>\n",
       "      <td>0.0</td>\n",
       "      <td>1.0</td>\n",
       "    </tr>\n",
       "    <tr>\n",
       "      <th>4</th>\n",
       "      <td>1.0</td>\n",
       "      <td>0.0</td>\n",
       "      <td>0.0</td>\n",
       "    </tr>\n",
       "    <tr>\n",
       "      <th>5</th>\n",
       "      <td>0.0</td>\n",
       "      <td>1.0</td>\n",
       "      <td>0.0</td>\n",
       "    </tr>\n",
       "  </tbody>\n",
       "</table>\n",
       "</div>"
      ],
      "text/plain": [
       "   key_a  key_b  key_c\n",
       "0    0.0    1.0    0.0\n",
       "1    0.0    1.0    0.0\n",
       "2    1.0    0.0    0.0\n",
       "3    0.0    0.0    1.0\n",
       "4    1.0    0.0    0.0\n",
       "5    0.0    1.0    0.0"
      ]
     },
     "execution_count": 153,
     "metadata": {},
     "output_type": "execute_result"
    }
   ],
   "source": [
    "dummies"
   ]
  },
  {
   "cell_type": "code",
   "execution_count": 155,
   "metadata": {},
   "outputs": [],
   "source": [
    "# concat: 데이터를 이어붙임\n",
    "df_with_dummy = pd.concat([df[[\"data1\"]], dummies], axis=1)"
   ]
  },
  {
   "cell_type": "code",
   "execution_count": 156,
   "metadata": {},
   "outputs": [
    {
     "data": {
      "text/html": [
       "<div>\n",
       "<style scoped>\n",
       "    .dataframe tbody tr th:only-of-type {\n",
       "        vertical-align: middle;\n",
       "    }\n",
       "\n",
       "    .dataframe tbody tr th {\n",
       "        vertical-align: top;\n",
       "    }\n",
       "\n",
       "    .dataframe thead th {\n",
       "        text-align: right;\n",
       "    }\n",
       "</style>\n",
       "<table border=\"1\" class=\"dataframe\">\n",
       "  <thead>\n",
       "    <tr style=\"text-align: right;\">\n",
       "      <th></th>\n",
       "      <th>data1</th>\n",
       "      <th>key_a</th>\n",
       "      <th>key_b</th>\n",
       "      <th>key_c</th>\n",
       "    </tr>\n",
       "  </thead>\n",
       "  <tbody>\n",
       "    <tr>\n",
       "      <th>0</th>\n",
       "      <td>0</td>\n",
       "      <td>0.0</td>\n",
       "      <td>1.0</td>\n",
       "      <td>0.0</td>\n",
       "    </tr>\n",
       "    <tr>\n",
       "      <th>1</th>\n",
       "      <td>1</td>\n",
       "      <td>0.0</td>\n",
       "      <td>1.0</td>\n",
       "      <td>0.0</td>\n",
       "    </tr>\n",
       "    <tr>\n",
       "      <th>2</th>\n",
       "      <td>2</td>\n",
       "      <td>1.0</td>\n",
       "      <td>0.0</td>\n",
       "      <td>0.0</td>\n",
       "    </tr>\n",
       "    <tr>\n",
       "      <th>3</th>\n",
       "      <td>3</td>\n",
       "      <td>0.0</td>\n",
       "      <td>0.0</td>\n",
       "      <td>1.0</td>\n",
       "    </tr>\n",
       "    <tr>\n",
       "      <th>4</th>\n",
       "      <td>4</td>\n",
       "      <td>1.0</td>\n",
       "      <td>0.0</td>\n",
       "      <td>0.0</td>\n",
       "    </tr>\n",
       "    <tr>\n",
       "      <th>5</th>\n",
       "      <td>5</td>\n",
       "      <td>0.0</td>\n",
       "      <td>1.0</td>\n",
       "      <td>0.0</td>\n",
       "    </tr>\n",
       "  </tbody>\n",
       "</table>\n",
       "</div>"
      ],
      "text/plain": [
       "   data1  key_a  key_b  key_c\n",
       "0      0    0.0    1.0    0.0\n",
       "1      1    0.0    1.0    0.0\n",
       "2      2    1.0    0.0    0.0\n",
       "3      3    0.0    0.0    1.0\n",
       "4      4    1.0    0.0    0.0\n",
       "5      5    0.0    1.0    0.0"
      ]
     },
     "execution_count": 156,
     "metadata": {},
     "output_type": "execute_result"
    }
   ],
   "source": [
    "df_with_dummy"
   ]
  },
  {
   "cell_type": "code",
   "execution_count": 157,
   "metadata": {},
   "outputs": [],
   "source": [
    "values = np.random.uniform(size=10)"
   ]
  },
  {
   "cell_type": "code",
   "execution_count": 158,
   "metadata": {},
   "outputs": [
    {
     "data": {
      "text/plain": [
       "array([0.77700179, 0.7535326 , 0.9927688 , 0.98009925, 0.45512746,\n",
       "       0.07617168, 0.50747085, 0.11292624, 0.61765845, 0.82026705])"
      ]
     },
     "execution_count": 158,
     "metadata": {},
     "output_type": "execute_result"
    }
   ],
   "source": [
    "values"
   ]
  },
  {
   "cell_type": "code",
   "execution_count": 159,
   "metadata": {},
   "outputs": [],
   "source": [
    "bins = [0, 0.2, 0.4, 0.6, 0.8, 1.]"
   ]
  },
  {
   "cell_type": "code",
   "execution_count": 160,
   "metadata": {},
   "outputs": [
    {
     "data": {
      "text/plain": [
       "['d', 'd', 'e', 'e', 'c', 'a', 'c', 'a', 'd', 'e']\n",
       "Categories (5, object): ['a' < 'b' < 'c' < 'd' < 'e']"
      ]
     },
     "execution_count": 160,
     "metadata": {},
     "output_type": "execute_result"
    }
   ],
   "source": [
    "pd.cut(values, bins, labels=['a', 'b', 'c', 'd', 'e'])"
   ]
  },
  {
   "cell_type": "code",
   "execution_count": 161,
   "metadata": {},
   "outputs": [
    {
     "data": {
      "text/html": [
       "<div>\n",
       "<style scoped>\n",
       "    .dataframe tbody tr th:only-of-type {\n",
       "        vertical-align: middle;\n",
       "    }\n",
       "\n",
       "    .dataframe tbody tr th {\n",
       "        vertical-align: top;\n",
       "    }\n",
       "\n",
       "    .dataframe thead th {\n",
       "        text-align: right;\n",
       "    }\n",
       "</style>\n",
       "<table border=\"1\" class=\"dataframe\">\n",
       "  <thead>\n",
       "    <tr style=\"text-align: right;\">\n",
       "      <th></th>\n",
       "      <th>a</th>\n",
       "      <th>b</th>\n",
       "      <th>c</th>\n",
       "      <th>d</th>\n",
       "      <th>e</th>\n",
       "    </tr>\n",
       "  </thead>\n",
       "  <tbody>\n",
       "    <tr>\n",
       "      <th>0</th>\n",
       "      <td>False</td>\n",
       "      <td>False</td>\n",
       "      <td>False</td>\n",
       "      <td>True</td>\n",
       "      <td>False</td>\n",
       "    </tr>\n",
       "    <tr>\n",
       "      <th>1</th>\n",
       "      <td>False</td>\n",
       "      <td>False</td>\n",
       "      <td>False</td>\n",
       "      <td>True</td>\n",
       "      <td>False</td>\n",
       "    </tr>\n",
       "    <tr>\n",
       "      <th>2</th>\n",
       "      <td>False</td>\n",
       "      <td>False</td>\n",
       "      <td>False</td>\n",
       "      <td>False</td>\n",
       "      <td>True</td>\n",
       "    </tr>\n",
       "    <tr>\n",
       "      <th>3</th>\n",
       "      <td>False</td>\n",
       "      <td>False</td>\n",
       "      <td>False</td>\n",
       "      <td>False</td>\n",
       "      <td>True</td>\n",
       "    </tr>\n",
       "    <tr>\n",
       "      <th>4</th>\n",
       "      <td>False</td>\n",
       "      <td>False</td>\n",
       "      <td>True</td>\n",
       "      <td>False</td>\n",
       "      <td>False</td>\n",
       "    </tr>\n",
       "    <tr>\n",
       "      <th>5</th>\n",
       "      <td>True</td>\n",
       "      <td>False</td>\n",
       "      <td>False</td>\n",
       "      <td>False</td>\n",
       "      <td>False</td>\n",
       "    </tr>\n",
       "    <tr>\n",
       "      <th>6</th>\n",
       "      <td>False</td>\n",
       "      <td>False</td>\n",
       "      <td>True</td>\n",
       "      <td>False</td>\n",
       "      <td>False</td>\n",
       "    </tr>\n",
       "    <tr>\n",
       "      <th>7</th>\n",
       "      <td>True</td>\n",
       "      <td>False</td>\n",
       "      <td>False</td>\n",
       "      <td>False</td>\n",
       "      <td>False</td>\n",
       "    </tr>\n",
       "    <tr>\n",
       "      <th>8</th>\n",
       "      <td>False</td>\n",
       "      <td>False</td>\n",
       "      <td>False</td>\n",
       "      <td>True</td>\n",
       "      <td>False</td>\n",
       "    </tr>\n",
       "    <tr>\n",
       "      <th>9</th>\n",
       "      <td>False</td>\n",
       "      <td>False</td>\n",
       "      <td>False</td>\n",
       "      <td>False</td>\n",
       "      <td>True</td>\n",
       "    </tr>\n",
       "  </tbody>\n",
       "</table>\n",
       "</div>"
      ],
      "text/plain": [
       "       a      b      c      d      e\n",
       "0  False  False  False   True  False\n",
       "1  False  False  False   True  False\n",
       "2  False  False  False  False   True\n",
       "3  False  False  False  False   True\n",
       "4  False  False   True  False  False\n",
       "5   True  False  False  False  False\n",
       "6  False  False   True  False  False\n",
       "7   True  False  False  False  False\n",
       "8  False  False  False   True  False\n",
       "9  False  False  False  False   True"
      ]
     },
     "execution_count": 161,
     "metadata": {},
     "output_type": "execute_result"
    }
   ],
   "source": [
    "pd.get_dummies(pd.cut(values, bins, labels=['a', 'b', 'c', 'd', 'e']))"
   ]
  },
  {
   "cell_type": "code",
   "execution_count": 162,
   "metadata": {},
   "outputs": [
    {
     "data": {
      "text/html": [
       "<div>\n",
       "<style scoped>\n",
       "    .dataframe tbody tr th:only-of-type {\n",
       "        vertical-align: middle;\n",
       "    }\n",
       "\n",
       "    .dataframe tbody tr th {\n",
       "        vertical-align: top;\n",
       "    }\n",
       "\n",
       "    .dataframe thead th {\n",
       "        text-align: right;\n",
       "    }\n",
       "</style>\n",
       "<table border=\"1\" class=\"dataframe\">\n",
       "  <thead>\n",
       "    <tr style=\"text-align: right;\">\n",
       "      <th></th>\n",
       "      <th>a</th>\n",
       "      <th>b</th>\n",
       "      <th>c</th>\n",
       "      <th>d</th>\n",
       "      <th>e</th>\n",
       "    </tr>\n",
       "  </thead>\n",
       "  <tbody>\n",
       "    <tr>\n",
       "      <th>0</th>\n",
       "      <td>0</td>\n",
       "      <td>0</td>\n",
       "      <td>0</td>\n",
       "      <td>1</td>\n",
       "      <td>0</td>\n",
       "    </tr>\n",
       "    <tr>\n",
       "      <th>1</th>\n",
       "      <td>0</td>\n",
       "      <td>0</td>\n",
       "      <td>0</td>\n",
       "      <td>1</td>\n",
       "      <td>0</td>\n",
       "    </tr>\n",
       "    <tr>\n",
       "      <th>2</th>\n",
       "      <td>0</td>\n",
       "      <td>0</td>\n",
       "      <td>0</td>\n",
       "      <td>0</td>\n",
       "      <td>1</td>\n",
       "    </tr>\n",
       "    <tr>\n",
       "      <th>3</th>\n",
       "      <td>0</td>\n",
       "      <td>0</td>\n",
       "      <td>0</td>\n",
       "      <td>0</td>\n",
       "      <td>1</td>\n",
       "    </tr>\n",
       "    <tr>\n",
       "      <th>4</th>\n",
       "      <td>0</td>\n",
       "      <td>0</td>\n",
       "      <td>1</td>\n",
       "      <td>0</td>\n",
       "      <td>0</td>\n",
       "    </tr>\n",
       "    <tr>\n",
       "      <th>5</th>\n",
       "      <td>1</td>\n",
       "      <td>0</td>\n",
       "      <td>0</td>\n",
       "      <td>0</td>\n",
       "      <td>0</td>\n",
       "    </tr>\n",
       "    <tr>\n",
       "      <th>6</th>\n",
       "      <td>0</td>\n",
       "      <td>0</td>\n",
       "      <td>1</td>\n",
       "      <td>0</td>\n",
       "      <td>0</td>\n",
       "    </tr>\n",
       "    <tr>\n",
       "      <th>7</th>\n",
       "      <td>1</td>\n",
       "      <td>0</td>\n",
       "      <td>0</td>\n",
       "      <td>0</td>\n",
       "      <td>0</td>\n",
       "    </tr>\n",
       "    <tr>\n",
       "      <th>8</th>\n",
       "      <td>0</td>\n",
       "      <td>0</td>\n",
       "      <td>0</td>\n",
       "      <td>1</td>\n",
       "      <td>0</td>\n",
       "    </tr>\n",
       "    <tr>\n",
       "      <th>9</th>\n",
       "      <td>0</td>\n",
       "      <td>0</td>\n",
       "      <td>0</td>\n",
       "      <td>0</td>\n",
       "      <td>1</td>\n",
       "    </tr>\n",
       "  </tbody>\n",
       "</table>\n",
       "</div>"
      ],
      "text/plain": [
       "   a  b  c  d  e\n",
       "0  0  0  0  1  0\n",
       "1  0  0  0  1  0\n",
       "2  0  0  0  0  1\n",
       "3  0  0  0  0  1\n",
       "4  0  0  1  0  0\n",
       "5  1  0  0  0  0\n",
       "6  0  0  1  0  0\n",
       "7  1  0  0  0  0\n",
       "8  0  0  0  1  0\n",
       "9  0  0  0  0  1"
      ]
     },
     "execution_count": 162,
     "metadata": {},
     "output_type": "execute_result"
    }
   ],
   "source": [
    "pd.get_dummies(pd.cut(values, bins, labels=['a', 'b', 'c', 'd', 'e']), dtype=int)"
   ]
  },
  {
   "cell_type": "code",
   "execution_count": null,
   "metadata": {},
   "outputs": [],
   "source": []
  }
 ],
 "metadata": {
  "kernelspec": {
   "display_name": "Python 3",
   "language": "python",
   "name": "python3"
  },
  "language_info": {
   "codemirror_mode": {
    "name": "ipython",
    "version": 3
   },
   "file_extension": ".py",
   "mimetype": "text/x-python",
   "name": "python",
   "nbconvert_exporter": "python",
   "pygments_lexer": "ipython3",
   "version": "3.12.2"
  }
 },
 "nbformat": 4,
 "nbformat_minor": 2
}
